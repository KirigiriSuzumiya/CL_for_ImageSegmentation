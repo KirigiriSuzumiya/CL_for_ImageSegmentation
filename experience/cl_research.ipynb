{
 "cells": [
  {
   "cell_type": "markdown",
   "metadata": {},
   "source": [
    "# Experience"
   ]
  },
  {
   "cell_type": "markdown",
   "metadata": {},
   "source": [
    "## Import module"
   ]
  },
  {
   "cell_type": "code",
   "execution_count": 1,
   "metadata": {},
   "outputs": [],
   "source": [
    "from utils import BasicDataset\n",
    "from unet import UNet\n",
    "from torch.nn import CrossEntropyLoss\n",
    "from avalanche.benchmarks.scenarios.dataset_scenario import benchmark_from_datasets\n",
    "from avalanche.evaluation.metrics import WeightCheckpoint, gpu_usage_metrics, \\\n",
    "    loss_metrics, timing_metrics, cpu_usage_metrics, disk_usage_metrics\n",
    "from avalanche.benchmarks.utils import AvalancheDataset\n",
    "from avalanche.logging import InteractiveLogger, TextLogger, WandBLogger, TensorboardLogger\n",
    "from avalanche.training.plugins import EvaluationPlugin\n",
    "from avalanche.training.supervised import Naive,EWC\n",
    "from avalanche.benchmarks.scenarios.supervised import class_incremental_benchmark\n",
    "from torch import optim\n",
    "import numpy as np\n",
    "import wandb"
   ]
  },
  {
   "cell_type": "markdown",
   "metadata": {},
   "source": [
    "## Prepare Dataset"
   ]
  },
  {
   "cell_type": "code",
   "execution_count": 2,
   "metadata": {},
   "outputs": [],
   "source": [
    "from avalanche.benchmarks import benchmark_from_datasets\n",
    "from avalanche.benchmarks.utils.data_attribute import DataAttribute\n",
    "import torch"
   ]
  },
  {
   "cell_type": "code",
   "execution_count": 3,
   "metadata": {},
   "outputs": [
    {
     "name": "stderr",
     "output_type": "stream",
     "text": [
      "100%|██████████████████████████████████████████████████████████████████████████████████| 51/51 [00:02<00:00, 19.93it/s]\n",
      "100%|██████████████████████████████████████████████████████████████████████████████████| 51/51 [00:02<00:00, 21.36it/s]\n",
      "100%|██████████████████████████████████████████████████████████████████████████████████| 51/51 [00:02<00:00, 21.89it/s]\n",
      "100%|██████████████████████████████████████████████████████████████████████████████████| 50/50 [00:02<00:00, 21.01it/s]\n",
      "100%|██████████████████████████████████████████████████████████████████████████████████| 50/50 [00:02<00:00, 21.27it/s]\n"
     ]
    }
   ],
   "source": [
    "aval_datasets = []\n",
    "for i in range(5):\n",
    "    train_dataset = BasicDataset(images_dir=f\"./data/train/img/{i}\",\n",
    "                                mask_dir=f\"./data/train/label/{i}\")\n",
    "    aval_dataset = AvalancheDataset([train_dataset],\n",
    "                                    data_attributes=[\n",
    "                                                    DataAttribute([0] * len(train_dataset), \"targets_task_labels\"),\n",
    "                                                    ])\n",
    "    aval_datasets.append(aval_dataset)"
   ]
  },
  {
   "cell_type": "code",
   "execution_count": 4,
   "metadata": {},
   "outputs": [],
   "source": [
    "bm = benchmark_from_datasets(train=aval_datasets,\n",
    "                             test=[aval_datasets[0]]*len(aval_datasets))"
   ]
  },
  {
   "cell_type": "code",
   "execution_count": 5,
   "metadata": {},
   "outputs": [
    {
     "name": "stdout",
     "output_type": "stream",
     "text": [
      "original training samples = 51\n"
     ]
    }
   ],
   "source": [
    "print(f\"original training samples = {len(bm.train_stream[0].dataset)}\")"
   ]
  },
  {
   "cell_type": "markdown",
   "metadata": {},
   "source": [
    "## Settings"
   ]
  },
  {
   "cell_type": "code",
   "execution_count": 6,
   "metadata": {},
   "outputs": [],
   "source": [
    "epochs = 1\n",
    "batch_size= 8\n",
    "learning_rate = 0.00001\n",
    "weight_decay = 0.00000001\n",
    "momentum = 0.999"
   ]
  },
  {
   "cell_type": "markdown",
   "metadata": {},
   "source": [
    "## Train using NAIVE"
   ]
  },
  {
   "cell_type": "code",
   "execution_count": 7,
   "metadata": {},
   "outputs": [],
   "source": [
    "func_name = \"NAIVE\""
   ]
  },
  {
   "cell_type": "code",
   "execution_count": 8,
   "metadata": {},
   "outputs": [],
   "source": [
    "model = UNet(n_channels=3, n_classes=4)"
   ]
  },
  {
   "cell_type": "code",
   "execution_count": 9,
   "metadata": {},
   "outputs": [
    {
     "name": "stderr",
     "output_type": "stream",
     "text": [
      "ERROR:wandb.jupyter:Failed to detect the name of this notebook, you can set it manually with the WANDB_NOTEBOOK_NAME environment variable to enable code saving.\n",
      "\u001b[34m\u001b[1mwandb\u001b[0m: Currently logged in as: \u001b[33mboyifan1\u001b[0m (\u001b[33mkirigiri_suzumiya\u001b[0m). Use \u001b[1m`wandb login --relogin`\u001b[0m to force relogin\n",
      "\u001b[34m\u001b[1mwandb\u001b[0m: \u001b[33mWARNING\u001b[0m Path ./log/wandb/NAIVE\\wandb\\ wasn't writable, using system temp directory.\n"
     ]
    },
    {
     "data": {
      "text/html": [
       "wandb version 0.16.6 is available!  To upgrade, please run:\n",
       " $ pip install wandb --upgrade"
      ],
      "text/plain": [
       "<IPython.core.display.HTML object>"
      ]
     },
     "metadata": {},
     "output_type": "display_data"
    },
    {
     "data": {
      "text/html": [
       "Tracking run with wandb version 0.16.4"
      ],
      "text/plain": [
       "<IPython.core.display.HTML object>"
      ]
     },
     "metadata": {},
     "output_type": "display_data"
    },
    {
     "data": {
      "text/html": [
       "Run data is saved locally in <code>C:\\Users\\boyifan\\AppData\\Local\\Temp\\wandb\\run-20240501_200028-h62mok68</code>"
      ],
      "text/plain": [
       "<IPython.core.display.HTML object>"
      ]
     },
     "metadata": {},
     "output_type": "display_data"
    },
    {
     "data": {
      "text/html": [
       "Syncing run <strong><a href='https://wandb.ai/kirigiri_suzumiya/UNet_CL/runs/h62mok68' target=\"_blank\">NAIVE</a></strong> to <a href='https://wandb.ai/kirigiri_suzumiya/UNet_CL' target=\"_blank\">Weights & Biases</a> (<a href='https://wandb.me/run' target=\"_blank\">docs</a>)<br/>"
      ],
      "text/plain": [
       "<IPython.core.display.HTML object>"
      ]
     },
     "metadata": {},
     "output_type": "display_data"
    },
    {
     "data": {
      "text/html": [
       " View project at <a href='https://wandb.ai/kirigiri_suzumiya/UNet_CL' target=\"_blank\">https://wandb.ai/kirigiri_suzumiya/UNet_CL</a>"
      ],
      "text/plain": [
       "<IPython.core.display.HTML object>"
      ]
     },
     "metadata": {},
     "output_type": "display_data"
    },
    {
     "data": {
      "text/html": [
       " View run at <a href='https://wandb.ai/kirigiri_suzumiya/UNet_CL/runs/h62mok68' target=\"_blank\">https://wandb.ai/kirigiri_suzumiya/UNet_CL/runs/h62mok68</a>"
      ],
      "text/plain": [
       "<IPython.core.display.HTML object>"
      ]
     },
     "metadata": {},
     "output_type": "display_data"
    }
   ],
   "source": [
    "\n",
    "# DEFINE THE EVALUATION PLUGIN and LOGGERS\n",
    "# The evaluation plugin manages the metrics computation.\n",
    "# It takes as argument a list of metrics, collectes their results and returns\n",
    "# them to the strategy it is attached to.\n",
    "\n",
    "# log to Tensorboard\n",
    "tb_logger = TensorboardLogger(f\"./log/tb_data/{func_name}\")\n",
    "\n",
    "wandb_logger = WandBLogger(project_name=\"UNet_CL\",\n",
    "                           run_name=func_name,\n",
    "                           path=f\"./log/checkpoint/{func_name}\",\n",
    "                           dir=f\"./log/wandb/{func_name}\")\n",
    "\n",
    "# log to text file\n",
    "text_logger = TextLogger(open(f'./log/{func_name}.txt', 'a'))\n",
    "\n",
    "# print to stdout\n",
    "interactive_logger = InteractiveLogger()"
   ]
  },
  {
   "cell_type": "code",
   "execution_count": 10,
   "metadata": {},
   "outputs": [],
   "source": [
    "# CREATE THE STRATEGY INSTANCE (NAIVE)\n",
    "optimizer = optim.RMSprop(model.parameters(),\n",
    "                          lr=learning_rate, \n",
    "                          weight_decay=weight_decay, \n",
    "                          momentum=momentum, \n",
    "                          foreach=True)\n",
    "\n",
    "eval_plugin = EvaluationPlugin(\n",
    "    loss_metrics(minibatch=True, epoch=True, experience=True, stream=True),\n",
    "    timing_metrics(epoch=True, epoch_running=True),\n",
    "    cpu_usage_metrics(experience=True),\n",
    "    disk_usage_metrics(minibatch=True, epoch=True, experience=True, stream=True),\n",
    "    gpu_usage_metrics(gpu_id=0, minibatch=True, epoch=True, experience=True, stream=True),\n",
    "    loggers=[interactive_logger, text_logger, tb_logger, wandb_logger]\n",
    ")"
   ]
  },
  {
   "cell_type": "code",
   "execution_count": 11,
   "metadata": {},
   "outputs": [],
   "source": [
    "from avalanche.training import Naive\n",
    "cl_strategy = Naive(\n",
    "    model=model, \n",
    "    optimizer=optimizer,\n",
    "    criterion=CrossEntropyLoss(), \n",
    "    train_mb_size=batch_size, \n",
    "    train_epochs=epochs,\n",
    "    device=\"cuda:0\",\n",
    "    eval_mb_size=batch_size,\n",
    "    evaluator=eval_plugin)\n",
    "\n"
   ]
  },
  {
   "cell_type": "code",
   "execution_count": 12,
   "metadata": {},
   "outputs": [
    {
     "name": "stdout",
     "output_type": "stream",
     "text": [
      "Starting experiment...\n",
      "-- >> Start of training phase << --\n",
      "100%|████████████████████████████████████████████████████████████████████████████████████| 7/7 [00:53<00:00,  7.61s/it]\n",
      "Epoch 0 ended.\n",
      "\tDiskUsage_Epoch/train_phase/train_stream = 53997.1387\n",
      "\tDiskUsage_MB/train_phase/train_stream = 53997.1387\n",
      "\tLoss_Epoch/train_phase/train_stream = 1.1706\n",
      "\tLoss_MB/train_phase/train_stream = 0.9879\n",
      "\tMaxGPU0Usage_Epoch/train_phase/train_stream = 100.0000\n",
      "\tMaxGPU0Usage_MB/train_phase/train_stream = 20.0000\n",
      "\tRunningTime_Epoch/train_phase/train_stream = 1.5810\n",
      "\tTime_Epoch/train_phase/train_stream = 53.0761\n",
      "-- >> End of training phase << --\n",
      "Training completed\n",
      "Computing accuracy on the whole test set\n",
      "-- >> Start of eval phase << --\n",
      "-- Starting eval on experience 0 from test stream --\n",
      "100%|████████████████████████████████████████████████████████████████████████████████████| 7/7 [00:12<00:00,  1.78s/it]\n",
      "> Eval on experience 0 from test stream ended.\n",
      "\tCPUUsage_Exp/eval_phase/test_stream/Exp000 = 41.4229\n",
      "\tDiskUsage_Exp/eval_phase/test_stream/Exp000 = 53997.7324\n",
      "\tLoss_Exp/eval_phase/test_stream/Exp000 = 1.3262\n",
      "\tMaxGPU0Usage_Experience/eval_phase/test_stream/Exp000 = 100.0000\n",
      "-- >> End of eval phase << --\n",
      "\tDiskUsage_Stream/eval_phase/test_stream = 53997.7324\n",
      "\tLoss_Stream/eval_phase/test_stream = 1.3262\n",
      "\tMaxGPU0Usage_Stream/eval_phase/test_stream = 100.0000\n",
      "-- >> Start of training phase << --\n",
      "100%|████████████████████████████████████████████████████████████████████████████████████| 7/7 [00:50<00:00,  7.18s/it]\n",
      "Epoch 0 ended.\n",
      "\tDiskUsage_Epoch/train_phase/train_stream = 53949.2861\n",
      "\tDiskUsage_MB/train_phase/train_stream = 53949.2861\n",
      "\tLoss_Epoch/train_phase/train_stream = 0.8414\n",
      "\tLoss_MB/train_phase/train_stream = 0.7089\n",
      "\tMaxGPU0Usage_Epoch/train_phase/train_stream = 100.0000\n",
      "\tMaxGPU0Usage_MB/train_phase/train_stream = 78.0000\n",
      "\tRunningTime_Epoch/train_phase/train_stream = 1.1318\n",
      "\tTime_Epoch/train_phase/train_stream = 50.0863\n",
      "-- >> End of training phase << --\n",
      "Training completed\n",
      "Computing accuracy on the whole test set\n",
      "-- >> Start of eval phase << --\n",
      "-- Starting eval on experience 1 from test stream --\n",
      "100%|████████████████████████████████████████████████████████████████████████████████████| 7/7 [00:12<00:00,  1.80s/it]\n",
      "> Eval on experience 1 from test stream ended.\n",
      "\tCPUUsage_Exp/eval_phase/test_stream/Exp001 = 42.7444\n",
      "\tDiskUsage_Exp/eval_phase/test_stream/Exp001 = 53949.8799\n",
      "\tLoss_Exp/eval_phase/test_stream/Exp001 = 12.6247\n",
      "\tMaxGPU0Usage_Experience/eval_phase/test_stream/Exp001 = 100.0000\n",
      "-- >> End of eval phase << --\n",
      "\tDiskUsage_Stream/eval_phase/test_stream = 53949.8799\n",
      "\tLoss_Stream/eval_phase/test_stream = 12.6247\n",
      "\tMaxGPU0Usage_Stream/eval_phase/test_stream = 100.0000\n",
      "-- >> Start of training phase << --\n",
      "100%|████████████████████████████████████████████████████████████████████████████████████| 7/7 [00:50<00:00,  7.17s/it]\n",
      "Epoch 0 ended.\n",
      "\tDiskUsage_Epoch/train_phase/train_stream = 53952.1992\n",
      "\tDiskUsage_MB/train_phase/train_stream = 53952.1992\n",
      "\tLoss_Epoch/train_phase/train_stream = 0.6112\n",
      "\tLoss_MB/train_phase/train_stream = 0.5514\n",
      "\tMaxGPU0Usage_Epoch/train_phase/train_stream = 100.0000\n",
      "\tMaxGPU0Usage_MB/train_phase/train_stream = 64.0000\n",
      "\tRunningTime_Epoch/train_phase/train_stream = 1.1292\n",
      "\tTime_Epoch/train_phase/train_stream = 49.9769\n",
      "-- >> End of training phase << --\n",
      "Training completed\n",
      "Computing accuracy on the whole test set\n",
      "-- >> Start of eval phase << --\n",
      "-- Starting eval on experience 2 from test stream --\n",
      "100%|████████████████████████████████████████████████████████████████████████████████████| 7/7 [00:13<00:00,  1.86s/it]\n",
      "> Eval on experience 2 from test stream ended.\n",
      "\tCPUUsage_Exp/eval_phase/test_stream/Exp002 = 44.3279\n",
      "\tDiskUsage_Exp/eval_phase/test_stream/Exp002 = 53952.7930\n",
      "\tLoss_Exp/eval_phase/test_stream/Exp002 = 32.4483\n",
      "\tMaxGPU0Usage_Experience/eval_phase/test_stream/Exp002 = 100.0000\n",
      "-- >> End of eval phase << --\n",
      "\tDiskUsage_Stream/eval_phase/test_stream = 53952.7930\n",
      "\tLoss_Stream/eval_phase/test_stream = 32.4483\n",
      "\tMaxGPU0Usage_Stream/eval_phase/test_stream = 100.0000\n",
      "-- >> Start of training phase << --\n",
      "100%|████████████████████████████████████████████████████████████████████████████████████| 7/7 [00:49<00:00,  7.09s/it]\n",
      "Epoch 0 ended.\n",
      "\tDiskUsage_Epoch/train_phase/train_stream = 53958.8398\n",
      "\tDiskUsage_MB/train_phase/train_stream = 53958.8398\n",
      "\tLoss_Epoch/train_phase/train_stream = 0.4783\n",
      "\tLoss_MB/train_phase/train_stream = 0.4536\n",
      "\tMaxGPU0Usage_Epoch/train_phase/train_stream = 100.0000\n",
      "\tMaxGPU0Usage_MB/train_phase/train_stream = 69.0000\n",
      "\tRunningTime_Epoch/train_phase/train_stream = 1.1210\n",
      "\tTime_Epoch/train_phase/train_stream = 49.4771\n",
      "-- >> End of training phase << --\n",
      "Training completed\n",
      "Computing accuracy on the whole test set\n",
      "-- >> Start of eval phase << --\n",
      "-- Starting eval on experience 3 from test stream --\n",
      "100%|████████████████████████████████████████████████████████████████████████████████████| 7/7 [00:12<00:00,  1.77s/it]\n",
      "> Eval on experience 3 from test stream ended.\n",
      "\tCPUUsage_Exp/eval_phase/test_stream/Exp003 = 47.8298\n",
      "\tDiskUsage_Exp/eval_phase/test_stream/Exp003 = 53959.4336\n",
      "\tLoss_Exp/eval_phase/test_stream/Exp003 = 27.4826\n",
      "\tMaxGPU0Usage_Experience/eval_phase/test_stream/Exp003 = 100.0000\n",
      "-- >> End of eval phase << --\n",
      "\tDiskUsage_Stream/eval_phase/test_stream = 53959.4336\n",
      "\tLoss_Stream/eval_phase/test_stream = 27.4826\n",
      "\tMaxGPU0Usage_Stream/eval_phase/test_stream = 100.0000\n",
      "-- >> Start of training phase << --\n",
      "100%|████████████████████████████████████████████████████████████████████████████████████| 7/7 [00:49<00:00,  7.11s/it]\n",
      "Epoch 0 ended.\n",
      "\tDiskUsage_Epoch/train_phase/train_stream = 53961.7529\n",
      "\tDiskUsage_MB/train_phase/train_stream = 53961.7529\n",
      "\tLoss_Epoch/train_phase/train_stream = 0.3898\n",
      "\tLoss_MB/train_phase/train_stream = 0.3474\n",
      "\tMaxGPU0Usage_Epoch/train_phase/train_stream = 100.0000\n",
      "\tMaxGPU0Usage_MB/train_phase/train_stream = 4.0000\n",
      "\tRunningTime_Epoch/train_phase/train_stream = 1.1186\n",
      "\tTime_Epoch/train_phase/train_stream = 49.5825\n",
      "-- >> End of training phase << --\n",
      "Training completed\n",
      "Computing accuracy on the whole test set\n",
      "-- >> Start of eval phase << --\n",
      "-- Starting eval on experience 4 from test stream --\n",
      "100%|████████████████████████████████████████████████████████████████████████████████████| 7/7 [00:12<00:00,  1.80s/it]\n",
      "> Eval on experience 4 from test stream ended.\n",
      "\tCPUUsage_Exp/eval_phase/test_stream/Exp004 = 51.3160\n",
      "\tDiskUsage_Exp/eval_phase/test_stream/Exp004 = 53965.4736\n",
      "\tLoss_Exp/eval_phase/test_stream/Exp004 = 18.1992\n",
      "\tMaxGPU0Usage_Experience/eval_phase/test_stream/Exp004 = 100.0000\n",
      "-- >> End of eval phase << --\n",
      "\tDiskUsage_Stream/eval_phase/test_stream = 53965.4736\n",
      "\tLoss_Stream/eval_phase/test_stream = 18.1992\n",
      "\tMaxGPU0Usage_Stream/eval_phase/test_stream = 100.0000\n"
     ]
    }
   ],
   "source": [
    "# TRAINING LOOP\n",
    "print('Starting experiment...')\n",
    "results = []\n",
    "for i, experience in enumerate(bm.train_stream):\n",
    "# if True:\n",
    "    # print(\"Start of experience: \", experience.current_experience)\n",
    "    # print(\"Current Classes: \", experience.classes_in_this_experience)\n",
    "\n",
    "    # train returns a dictionary which contains all the metric values\n",
    "    res = cl_strategy.train(experience)\n",
    "    print('Training completed')\n",
    "\n",
    "    print('Computing accuracy on the whole test set')\n",
    "    # test also returns a dictionary which contains all the metric values\n",
    "    results.append(cl_strategy.eval(bm.test_stream[i]))"
   ]
  },
  {
   "cell_type": "code",
   "execution_count": 13,
   "metadata": {},
   "outputs": [],
   "source": [
    "import pickle\n",
    "pickle.dump(results,open(f\"./log/eval/{func_name}.pkl\",\"wb\"))"
   ]
  },
  {
   "cell_type": "code",
   "execution_count": 14,
   "metadata": {},
   "outputs": [
    {
     "data": {
      "application/vnd.jupyter.widget-view+json": {
       "model_id": "",
       "version_major": 2,
       "version_minor": 0
      },
      "text/plain": [
       "VBox(children=(Label(value='0.014 MB of 0.014 MB uploaded\\r'), FloatProgress(value=1.0, max=1.0)))"
      ]
     },
     "metadata": {},
     "output_type": "display_data"
    },
    {
     "data": {
      "text/html": [
       "<style>\n",
       "    table.wandb td:nth-child(1) { padding: 0 10px; text-align: left ; width: auto;} td:nth-child(2) {text-align: left ; width: 100%}\n",
       "    .wandb-row { display: flex; flex-direction: row; flex-wrap: wrap; justify-content: flex-start; width: 100% }\n",
       "    .wandb-col { display: flex; flex-direction: column; flex-basis: 100%; flex: 1; padding: 10px; }\n",
       "    </style>\n",
       "<div class=\"wandb-row\"><div class=\"wandb-col\"><h3>Run history:</h3><br/><table class=\"wandb\"><tr><td>CPUUsage_Exp/eval_phase/test_stream/Exp000</td><td>▁</td></tr><tr><td>CPUUsage_Exp/eval_phase/test_stream/Exp001</td><td>▁</td></tr><tr><td>CPUUsage_Exp/eval_phase/test_stream/Exp002</td><td>▁</td></tr><tr><td>CPUUsage_Exp/eval_phase/test_stream/Exp003</td><td>▁</td></tr><tr><td>CPUUsage_Exp/eval_phase/test_stream/Exp004</td><td>▁</td></tr><tr><td>DiskUsage_Epoch/train_phase/train_stream</td><td>█▁▁▂▃</td></tr><tr><td>DiskUsage_Exp/eval_phase/test_stream/Exp000</td><td>▁</td></tr><tr><td>DiskUsage_Exp/eval_phase/test_stream/Exp001</td><td>▁</td></tr><tr><td>DiskUsage_Exp/eval_phase/test_stream/Exp002</td><td>▁</td></tr><tr><td>DiskUsage_Exp/eval_phase/test_stream/Exp003</td><td>▁</td></tr><tr><td>DiskUsage_Exp/eval_phase/test_stream/Exp004</td><td>▁</td></tr><tr><td>DiskUsage_MB/train_phase/train_stream</td><td>████████▁▁▁▁▁▁▁▁▁▁▂▂▂▂▂▂▂▂▂▃▃▃▃▃▃▃▃</td></tr><tr><td>DiskUsage_Stream/eval_phase/test_stream</td><td>█▁▁▂▃</td></tr><tr><td>Loss_Epoch/train_phase/train_stream</td><td>█▅▃▂▁</td></tr><tr><td>Loss_Exp/eval_phase/test_stream/Exp000</td><td>▁</td></tr><tr><td>Loss_Exp/eval_phase/test_stream/Exp001</td><td>▁</td></tr><tr><td>Loss_Exp/eval_phase/test_stream/Exp002</td><td>▁</td></tr><tr><td>Loss_Exp/eval_phase/test_stream/Exp003</td><td>▁</td></tr><tr><td>Loss_Exp/eval_phase/test_stream/Exp004</td><td>▁</td></tr><tr><td>Loss_MB/train_phase/train_stream</td><td>█▇▇▇▆▆▆▅▅▅▄▄▄▄▃▃▃▃▃▃▂▂▂▂▂▂▂▂▁▂▁▁▁▁▁</td></tr><tr><td>Loss_Stream/eval_phase/test_stream</td><td>▁▄█▇▅</td></tr><tr><td>MaxGPU0Usage_Epoch/train_phase/train_stream</td><td>▁▁▁▁▁</td></tr><tr><td>MaxGPU0Usage_Experience/eval_phase/test_stream/Exp000</td><td>▁</td></tr><tr><td>MaxGPU0Usage_Experience/eval_phase/test_stream/Exp001</td><td>▁</td></tr><tr><td>MaxGPU0Usage_Experience/eval_phase/test_stream/Exp002</td><td>▁</td></tr><tr><td>MaxGPU0Usage_Experience/eval_phase/test_stream/Exp003</td><td>▁</td></tr><tr><td>MaxGPU0Usage_Experience/eval_phase/test_stream/Exp004</td><td>▁</td></tr><tr><td>MaxGPU0Usage_MB/train_phase/train_stream</td><td>██████▂██████▆██████▅██████▆██████▁</td></tr><tr><td>MaxGPU0Usage_Stream/eval_phase/test_stream</td><td>▁▁▁▁▁</td></tr><tr><td>RunningTime_Epoch/train_phase/train_stream</td><td>█▄▃▂▂▂▁▆▃▂▂▁▁▁▆▃▂▂▁▁▁▆▃▂▂▁▁▁▆▃▂▂▁▁▁</td></tr><tr><td>Time_Epoch/train_phase/train_stream</td><td>█▂▂▁▁</td></tr><tr><td>TrainingExperience</td><td>▁▃▅▆█</td></tr></table><br/></div><div class=\"wandb-col\"><h3>Run summary:</h3><br/><table class=\"wandb\"><tr><td>CPUUsage_Exp/eval_phase/test_stream/Exp000</td><td>41.42295</td></tr><tr><td>CPUUsage_Exp/eval_phase/test_stream/Exp001</td><td>42.7444</td></tr><tr><td>CPUUsage_Exp/eval_phase/test_stream/Exp002</td><td>44.32788</td></tr><tr><td>CPUUsage_Exp/eval_phase/test_stream/Exp003</td><td>47.82977</td></tr><tr><td>CPUUsage_Exp/eval_phase/test_stream/Exp004</td><td>51.31596</td></tr><tr><td>DiskUsage_Epoch/train_phase/train_stream</td><td>53961.75293</td></tr><tr><td>DiskUsage_Exp/eval_phase/test_stream/Exp000</td><td>53997.73242</td></tr><tr><td>DiskUsage_Exp/eval_phase/test_stream/Exp001</td><td>53949.87988</td></tr><tr><td>DiskUsage_Exp/eval_phase/test_stream/Exp002</td><td>53952.79297</td></tr><tr><td>DiskUsage_Exp/eval_phase/test_stream/Exp003</td><td>53959.43359</td></tr><tr><td>DiskUsage_Exp/eval_phase/test_stream/Exp004</td><td>53965.47363</td></tr><tr><td>DiskUsage_MB/train_phase/train_stream</td><td>53961.75293</td></tr><tr><td>DiskUsage_Stream/eval_phase/test_stream</td><td>53965.47363</td></tr><tr><td>Loss_Epoch/train_phase/train_stream</td><td>0.38975</td></tr><tr><td>Loss_Exp/eval_phase/test_stream/Exp000</td><td>1.32625</td></tr><tr><td>Loss_Exp/eval_phase/test_stream/Exp001</td><td>12.62473</td></tr><tr><td>Loss_Exp/eval_phase/test_stream/Exp002</td><td>32.4483</td></tr><tr><td>Loss_Exp/eval_phase/test_stream/Exp003</td><td>27.48265</td></tr><tr><td>Loss_Exp/eval_phase/test_stream/Exp004</td><td>18.19924</td></tr><tr><td>Loss_MB/train_phase/train_stream</td><td>0.34742</td></tr><tr><td>Loss_Stream/eval_phase/test_stream</td><td>18.19924</td></tr><tr><td>MaxGPU0Usage_Epoch/train_phase/train_stream</td><td>100.0</td></tr><tr><td>MaxGPU0Usage_Experience/eval_phase/test_stream/Exp000</td><td>100.0</td></tr><tr><td>MaxGPU0Usage_Experience/eval_phase/test_stream/Exp001</td><td>100.0</td></tr><tr><td>MaxGPU0Usage_Experience/eval_phase/test_stream/Exp002</td><td>100.0</td></tr><tr><td>MaxGPU0Usage_Experience/eval_phase/test_stream/Exp003</td><td>100.0</td></tr><tr><td>MaxGPU0Usage_Experience/eval_phase/test_stream/Exp004</td><td>100.0</td></tr><tr><td>MaxGPU0Usage_MB/train_phase/train_stream</td><td>4.0</td></tr><tr><td>MaxGPU0Usage_Stream/eval_phase/test_stream</td><td>100.0</td></tr><tr><td>RunningTime_Epoch/train_phase/train_stream</td><td>1.11858</td></tr><tr><td>Time_Epoch/train_phase/train_stream</td><td>49.58251</td></tr><tr><td>TrainingExperience</td><td>4</td></tr></table><br/></div></div>"
      ],
      "text/plain": [
       "<IPython.core.display.HTML object>"
      ]
     },
     "metadata": {},
     "output_type": "display_data"
    },
    {
     "data": {
      "text/html": [
       " View run <strong style=\"color:#cdcd00\">NAIVE</strong> at: <a href='https://wandb.ai/kirigiri_suzumiya/UNet_CL/runs/h62mok68' target=\"_blank\">https://wandb.ai/kirigiri_suzumiya/UNet_CL/runs/h62mok68</a><br/>Synced 7 W&B file(s), 0 media file(s), 0 artifact file(s) and 1 other file(s)"
      ],
      "text/plain": [
       "<IPython.core.display.HTML object>"
      ]
     },
     "metadata": {},
     "output_type": "display_data"
    },
    {
     "data": {
      "text/html": [
       "Find logs at: <code>C:\\Users\\boyifan\\AppData\\Local\\Temp\\wandb\\run-20240501_200028-h62mok68\\logs</code>"
      ],
      "text/plain": [
       "<IPython.core.display.HTML object>"
      ]
     },
     "metadata": {},
     "output_type": "display_data"
    }
   ],
   "source": [
    "wandb.finish()"
   ]
  },
  {
   "cell_type": "markdown",
   "metadata": {},
   "source": [
    "## Train using EWC"
   ]
  },
  {
   "cell_type": "code",
   "execution_count": 15,
   "metadata": {},
   "outputs": [],
   "source": [
    "func_name = \"EWC\""
   ]
  },
  {
   "cell_type": "code",
   "execution_count": 16,
   "metadata": {},
   "outputs": [],
   "source": [
    "model = UNet(n_channels=3, n_classes=4)"
   ]
  },
  {
   "cell_type": "code",
   "execution_count": 17,
   "metadata": {},
   "outputs": [
    {
     "name": "stderr",
     "output_type": "stream",
     "text": [
      "\u001b[34m\u001b[1mwandb\u001b[0m: \u001b[33mWARNING\u001b[0m Path .\\log\\wandb\\EWC\\wandb\\ wasn't writable, using system temp directory.\n"
     ]
    },
    {
     "data": {
      "text/html": [
       "wandb version 0.16.6 is available!  To upgrade, please run:\n",
       " $ pip install wandb --upgrade"
      ],
      "text/plain": [
       "<IPython.core.display.HTML object>"
      ]
     },
     "metadata": {},
     "output_type": "display_data"
    },
    {
     "data": {
      "text/html": [
       "Tracking run with wandb version 0.16.4"
      ],
      "text/plain": [
       "<IPython.core.display.HTML object>"
      ]
     },
     "metadata": {},
     "output_type": "display_data"
    },
    {
     "data": {
      "text/html": [
       "Run data is saved locally in <code>C:\\Users\\boyifan\\AppData\\Local\\Temp\\wandb\\run-20240501_200608-avg8jozw</code>"
      ],
      "text/plain": [
       "<IPython.core.display.HTML object>"
      ]
     },
     "metadata": {},
     "output_type": "display_data"
    },
    {
     "data": {
      "text/html": [
       "Syncing run <strong><a href='https://wandb.ai/kirigiri_suzumiya/UNet_CL/runs/avg8jozw' target=\"_blank\">EWC</a></strong> to <a href='https://wandb.ai/kirigiri_suzumiya/UNet_CL' target=\"_blank\">Weights & Biases</a> (<a href='https://wandb.me/run' target=\"_blank\">docs</a>)<br/>"
      ],
      "text/plain": [
       "<IPython.core.display.HTML object>"
      ]
     },
     "metadata": {},
     "output_type": "display_data"
    },
    {
     "data": {
      "text/html": [
       " View project at <a href='https://wandb.ai/kirigiri_suzumiya/UNet_CL' target=\"_blank\">https://wandb.ai/kirigiri_suzumiya/UNet_CL</a>"
      ],
      "text/plain": [
       "<IPython.core.display.HTML object>"
      ]
     },
     "metadata": {},
     "output_type": "display_data"
    },
    {
     "data": {
      "text/html": [
       " View run at <a href='https://wandb.ai/kirigiri_suzumiya/UNet_CL/runs/avg8jozw' target=\"_blank\">https://wandb.ai/kirigiri_suzumiya/UNet_CL/runs/avg8jozw</a>"
      ],
      "text/plain": [
       "<IPython.core.display.HTML object>"
      ]
     },
     "metadata": {},
     "output_type": "display_data"
    }
   ],
   "source": [
    "# DEFINE THE EVALUATION PLUGIN and LOGGERS\n",
    "# The evaluation plugin manages the metrics computation.\n",
    "# It takes as argument a list of metrics, collectes their results and returns\n",
    "# them to the strategy it is attached to.\n",
    "\n",
    "# log to Tensorboard\n",
    "tb_logger = TensorboardLogger(f\"./log/tb_data/{func_name}\")\n",
    "\n",
    "wandb_logger = WandBLogger(project_name=\"UNet_CL\",\n",
    "                           run_name=func_name,\n",
    "                           path=f\".\\log\\checkpoint\\{func_name}\",\n",
    "                           dir=f\".\\log\\wandb\\{func_name}\")\n",
    "\n",
    "# log to text file\n",
    "text_logger = TextLogger(open(f'./log/{func_name}.txt', 'a'))\n",
    "\n",
    "# print to stdout\n",
    "interactive_logger = InteractiveLogger()"
   ]
  },
  {
   "cell_type": "code",
   "execution_count": 18,
   "metadata": {},
   "outputs": [],
   "source": [
    "# CREATE THE STRATEGY INSTANCE (EWC)\n",
    "optimizer = optim.RMSprop(model.parameters(),\n",
    "                          lr=learning_rate, \n",
    "                          weight_decay=weight_decay, \n",
    "                          momentum=momentum, \n",
    "                          foreach=True)\n",
    "\n",
    "eval_plugin = EvaluationPlugin(\n",
    "    loss_metrics(minibatch=True, epoch=True, experience=True, stream=True),\n",
    "    timing_metrics(epoch=True, epoch_running=True),\n",
    "    cpu_usage_metrics(experience=True),\n",
    "    disk_usage_metrics(minibatch=True, epoch=True, experience=True, stream=True),\n",
    "    gpu_usage_metrics(gpu_id=0, minibatch=True, epoch=True, experience=True, stream=True),\n",
    "    loggers=[interactive_logger, text_logger, tb_logger, wandb_logger]\n",
    ")"
   ]
  },
  {
   "cell_type": "code",
   "execution_count": 19,
   "metadata": {},
   "outputs": [],
   "source": [
    "from avalanche.training import EWC\n",
    "cl_strategy = EWC(\n",
    "    model=model, \n",
    "    optimizer=optimizer,\n",
    "    criterion=CrossEntropyLoss(), \n",
    "    ewc_lambda=0.005,\n",
    "    train_mb_size=batch_size, \n",
    "    train_epochs=epochs,\n",
    "    device=\"cuda:0\",\n",
    "    eval_mb_size=batch_size,\n",
    "    evaluator=eval_plugin)\n",
    "\n",
    "\n"
   ]
  },
  {
   "cell_type": "code",
   "execution_count": 20,
   "metadata": {},
   "outputs": [
    {
     "name": "stdout",
     "output_type": "stream",
     "text": [
      "Starting experiment...\n",
      "-- >> Start of training phase << --\n",
      "100%|████████████████████████████████████████████████████████████████████████████████████| 7/7 [00:50<00:00,  7.28s/it]\n",
      "Epoch 0 ended.\n",
      "\tDiskUsage_Epoch/train_phase/train_stream = 53975.8818\n",
      "\tDiskUsage_MB/train_phase/train_stream = 53975.8818\n",
      "\tLoss_Epoch/train_phase/train_stream = 1.1765\n",
      "\tLoss_MB/train_phase/train_stream = 1.0125\n",
      "\tMaxGPU0Usage_Epoch/train_phase/train_stream = 100.0000\n",
      "\tMaxGPU0Usage_MB/train_phase/train_stream = 43.0000\n",
      "\tRunningTime_Epoch/train_phase/train_stream = 1.1928\n",
      "\tTime_Epoch/train_phase/train_stream = 50.7457\n",
      "-- >> End of training phase << --\n",
      "Training completed\n",
      "Computing accuracy on the whole test set\n",
      "-- >> Start of eval phase << --\n",
      "-- Starting eval on experience 0 from test stream --\n",
      "100%|████████████████████████████████████████████████████████████████████████████████████| 7/7 [00:10<00:00,  1.43s/it]\n",
      "> Eval on experience 0 from test stream ended.\n",
      "\tCPUUsage_Exp/eval_phase/test_stream/Exp000 = 47.6060\n",
      "\tDiskUsage_Exp/eval_phase/test_stream/Exp000 = 53987.4014\n",
      "\tLoss_Exp/eval_phase/test_stream/Exp000 = 1.2920\n",
      "\tMaxGPU0Usage_Experience/eval_phase/test_stream/Exp000 = 100.0000\n",
      "-- >> End of eval phase << --\n",
      "\tDiskUsage_Stream/eval_phase/test_stream = 53987.4014\n",
      "\tLoss_Stream/eval_phase/test_stream = 1.2920\n",
      "\tMaxGPU0Usage_Stream/eval_phase/test_stream = 100.0000\n",
      "-- >> Start of training phase << --\n",
      "100%|████████████████████████████████████████████████████████████████████████████████████| 7/7 [00:50<00:00,  7.25s/it]\n",
      "Epoch 0 ended.\n",
      "\tDiskUsage_Epoch/train_phase/train_stream = 53989.7207\n",
      "\tDiskUsage_MB/train_phase/train_stream = 53989.7207\n",
      "\tLoss_Epoch/train_phase/train_stream = 0.8975\n",
      "\tLoss_MB/train_phase/train_stream = 0.8155\n",
      "\tMaxGPU0Usage_Epoch/train_phase/train_stream = 100.0000\n",
      "\tMaxGPU0Usage_MB/train_phase/train_stream = 90.0000\n",
      "\tRunningTime_Epoch/train_phase/train_stream = 1.1705\n",
      "\tTime_Epoch/train_phase/train_stream = 50.5200\n",
      "-- >> End of training phase << --\n",
      "Training completed\n",
      "Computing accuracy on the whole test set\n",
      "-- >> Start of eval phase << --\n",
      "-- Starting eval on experience 1 from test stream --\n",
      "100%|████████████████████████████████████████████████████████████████████████████████████| 7/7 [00:10<00:00,  1.44s/it]\n",
      "> Eval on experience 1 from test stream ended.\n",
      "\tCPUUsage_Exp/eval_phase/test_stream/Exp001 = 40.4874\n",
      "\tDiskUsage_Exp/eval_phase/test_stream/Exp001 = 53990.3145\n",
      "\tLoss_Exp/eval_phase/test_stream/Exp001 = 0.9913\n",
      "\tMaxGPU0Usage_Experience/eval_phase/test_stream/Exp001 = 100.0000\n",
      "-- >> End of eval phase << --\n",
      "\tDiskUsage_Stream/eval_phase/test_stream = 53990.3145\n",
      "\tLoss_Stream/eval_phase/test_stream = 0.9913\n",
      "\tMaxGPU0Usage_Stream/eval_phase/test_stream = 100.0000\n",
      "-- >> Start of training phase << --\n",
      "100%|████████████████████████████████████████████████████████████████████████████████████| 7/7 [00:55<00:00,  7.96s/it]\n",
      "Epoch 0 ended.\n",
      "\tDiskUsage_Epoch/train_phase/train_stream = 53995.0283\n",
      "\tDiskUsage_MB/train_phase/train_stream = 53995.0283\n",
      "\tLoss_Epoch/train_phase/train_stream = 0.6832\n",
      "\tLoss_MB/train_phase/train_stream = 0.6059\n",
      "\tMaxGPU0Usage_Epoch/train_phase/train_stream = 100.0000\n",
      "\tMaxGPU0Usage_MB/train_phase/train_stream = 76.0000\n",
      "\tRunningTime_Epoch/train_phase/train_stream = 1.3268\n",
      "\tTime_Epoch/train_phase/train_stream = 55.5513\n",
      "-- >> End of training phase << --\n",
      "Training completed\n",
      "Computing accuracy on the whole test set\n",
      "-- >> Start of eval phase << --\n",
      "-- Starting eval on experience 2 from test stream --\n",
      "100%|████████████████████████████████████████████████████████████████████████████████████| 7/7 [00:09<00:00,  1.42s/it]\n",
      "> Eval on experience 2 from test stream ended.\n",
      "\tCPUUsage_Exp/eval_phase/test_stream/Exp002 = 46.4708\n",
      "\tDiskUsage_Exp/eval_phase/test_stream/Exp002 = 53995.6221\n",
      "\tLoss_Exp/eval_phase/test_stream/Exp002 = 0.7338\n",
      "\tMaxGPU0Usage_Experience/eval_phase/test_stream/Exp002 = 100.0000\n",
      "-- >> End of eval phase << --\n",
      "\tDiskUsage_Stream/eval_phase/test_stream = 53995.6221\n",
      "\tLoss_Stream/eval_phase/test_stream = 0.7338\n",
      "\tMaxGPU0Usage_Stream/eval_phase/test_stream = 100.0000\n",
      "-- >> Start of training phase << --\n",
      "100%|████████████████████████████████████████████████████████████████████████████████████| 7/7 [00:59<00:00,  8.54s/it]\n",
      "Epoch 0 ended.\n",
      "\tDiskUsage_Epoch/train_phase/train_stream = 54000.5371\n",
      "\tDiskUsage_MB/train_phase/train_stream = 54000.5371\n",
      "\tLoss_Epoch/train_phase/train_stream = 0.5493\n",
      "\tLoss_MB/train_phase/train_stream = 0.5117\n",
      "\tMaxGPU0Usage_Epoch/train_phase/train_stream = 100.0000\n",
      "\tMaxGPU0Usage_MB/train_phase/train_stream = 1.0000\n",
      "\tRunningTime_Epoch/train_phase/train_stream = 1.3825\n",
      "\tTime_Epoch/train_phase/train_stream = 59.6063\n",
      "-- >> End of training phase << --\n",
      "Training completed\n",
      "Computing accuracy on the whole test set\n",
      "-- >> Start of eval phase << --\n",
      "-- Starting eval on experience 3 from test stream --\n",
      "100%|████████████████████████████████████████████████████████████████████████████████████| 7/7 [00:10<00:00,  1.45s/it]\n",
      "> Eval on experience 3 from test stream ended.\n",
      "\tCPUUsage_Exp/eval_phase/test_stream/Exp003 = 50.3079\n",
      "\tDiskUsage_Exp/eval_phase/test_stream/Exp003 = 54001.1309\n",
      "\tLoss_Exp/eval_phase/test_stream/Exp003 = 2.5387\n",
      "\tMaxGPU0Usage_Experience/eval_phase/test_stream/Exp003 = 100.0000\n",
      "-- >> End of eval phase << --\n",
      "\tDiskUsage_Stream/eval_phase/test_stream = 54001.1309\n",
      "\tLoss_Stream/eval_phase/test_stream = 2.5387\n",
      "\tMaxGPU0Usage_Stream/eval_phase/test_stream = 100.0000\n",
      "-- >> Start of training phase << --\n",
      "100%|████████████████████████████████████████████████████████████████████████████████████| 7/7 [01:01<00:00,  8.72s/it]\n",
      "Epoch 0 ended.\n",
      "\tDiskUsage_Epoch/train_phase/train_stream = 54005.3721\n",
      "\tDiskUsage_MB/train_phase/train_stream = 54005.3721\n",
      "\tLoss_Epoch/train_phase/train_stream = 0.4501\n",
      "\tLoss_MB/train_phase/train_stream = 0.4239\n",
      "\tMaxGPU0Usage_Epoch/train_phase/train_stream = 100.0000\n",
      "\tMaxGPU0Usage_MB/train_phase/train_stream = 0\n",
      "\tRunningTime_Epoch/train_phase/train_stream = 1.4427\n",
      "\tTime_Epoch/train_phase/train_stream = 60.8335\n",
      "-- >> End of training phase << --\n",
      "Training completed\n",
      "Computing accuracy on the whole test set\n",
      "-- >> Start of eval phase << --\n",
      "-- Starting eval on experience 4 from test stream --\n",
      "100%|████████████████████████████████████████████████████████████████████████████████████| 7/7 [00:10<00:00,  1.43s/it]\n",
      "> Eval on experience 4 from test stream ended.\n",
      "\tCPUUsage_Exp/eval_phase/test_stream/Exp004 = 52.4517\n",
      "\tDiskUsage_Exp/eval_phase/test_stream/Exp004 = 54007.1631\n",
      "\tLoss_Exp/eval_phase/test_stream/Exp004 = 2.1244\n",
      "\tMaxGPU0Usage_Experience/eval_phase/test_stream/Exp004 = 100.0000\n",
      "-- >> End of eval phase << --\n",
      "\tDiskUsage_Stream/eval_phase/test_stream = 54007.1631\n",
      "\tLoss_Stream/eval_phase/test_stream = 2.1244\n",
      "\tMaxGPU0Usage_Stream/eval_phase/test_stream = 100.0000\n"
     ]
    }
   ],
   "source": [
    "# TRAINING LOOP\n",
    "print('Starting experiment...')\n",
    "results = []\n",
    "for i, experience in enumerate(bm.train_stream):\n",
    "# if True:\n",
    "    # print(\"Start of experience: \", experience.current_experience)\n",
    "    # print(\"Current Classes: \", experience.classes_in_this_experience)\n",
    "\n",
    "    # train returns a dictionary which contains all the metric values\n",
    "    res = cl_strategy.train(experience)\n",
    "    print('Training completed')\n",
    "\n",
    "    print('Computing accuracy on the whole test set')\n",
    "    # test also returns a dictionary which contains all the metric values\n",
    "    results.append(cl_strategy.eval(bm.test_stream[i]))"
   ]
  },
  {
   "cell_type": "code",
   "execution_count": 21,
   "metadata": {},
   "outputs": [],
   "source": [
    "import pickle\n",
    "pickle.dump(results,open(f\"./log/eval/{func_name}.pkl\",\"wb\"))"
   ]
  },
  {
   "cell_type": "code",
   "execution_count": 22,
   "metadata": {},
   "outputs": [
    {
     "data": {
      "application/vnd.jupyter.widget-view+json": {
       "model_id": "",
       "version_major": 2,
       "version_minor": 0
      },
      "text/plain": [
       "VBox(children=(Label(value='0.068 MB of 0.068 MB uploaded\\r'), FloatProgress(value=1.0, max=1.0)))"
      ]
     },
     "metadata": {},
     "output_type": "display_data"
    },
    {
     "data": {
      "text/html": [
       "<style>\n",
       "    table.wandb td:nth-child(1) { padding: 0 10px; text-align: left ; width: auto;} td:nth-child(2) {text-align: left ; width: 100%}\n",
       "    .wandb-row { display: flex; flex-direction: row; flex-wrap: wrap; justify-content: flex-start; width: 100% }\n",
       "    .wandb-col { display: flex; flex-direction: column; flex-basis: 100%; flex: 1; padding: 10px; }\n",
       "    </style>\n",
       "<div class=\"wandb-row\"><div class=\"wandb-col\"><h3>Run history:</h3><br/><table class=\"wandb\"><tr><td>CPUUsage_Exp/eval_phase/test_stream/Exp000</td><td>▁</td></tr><tr><td>CPUUsage_Exp/eval_phase/test_stream/Exp001</td><td>▁</td></tr><tr><td>CPUUsage_Exp/eval_phase/test_stream/Exp002</td><td>▁</td></tr><tr><td>CPUUsage_Exp/eval_phase/test_stream/Exp003</td><td>▁</td></tr><tr><td>CPUUsage_Exp/eval_phase/test_stream/Exp004</td><td>▁</td></tr><tr><td>DiskUsage_Epoch/train_phase/train_stream</td><td>▁▄▆▇█</td></tr><tr><td>DiskUsage_Exp/eval_phase/test_stream/Exp000</td><td>▁</td></tr><tr><td>DiskUsage_Exp/eval_phase/test_stream/Exp001</td><td>▁</td></tr><tr><td>DiskUsage_Exp/eval_phase/test_stream/Exp002</td><td>▁</td></tr><tr><td>DiskUsage_Exp/eval_phase/test_stream/Exp003</td><td>▁</td></tr><tr><td>DiskUsage_Exp/eval_phase/test_stream/Exp004</td><td>▁</td></tr><tr><td>DiskUsage_MB/train_phase/train_stream</td><td>▁▁▁▁▁▁▁▄▄▄▄▄▄▄▅▅▅▅▆▆▆▇▇▇▇▇▇▇███████</td></tr><tr><td>DiskUsage_Stream/eval_phase/test_stream</td><td>▁▂▄▆█</td></tr><tr><td>Loss_Epoch/train_phase/train_stream</td><td>█▅▃▂▁</td></tr><tr><td>Loss_Exp/eval_phase/test_stream/Exp000</td><td>▁</td></tr><tr><td>Loss_Exp/eval_phase/test_stream/Exp001</td><td>▁</td></tr><tr><td>Loss_Exp/eval_phase/test_stream/Exp002</td><td>▁</td></tr><tr><td>Loss_Exp/eval_phase/test_stream/Exp003</td><td>▁</td></tr><tr><td>Loss_Exp/eval_phase/test_stream/Exp004</td><td>▁</td></tr><tr><td>Loss_MB/train_phase/train_stream</td><td>█▇▇▇▆▆▆▅▅▅▅▄▄▄▄▃▃▃▃▃▂▂▂▂▂▂▂▂▁▁▁▁▁▁▁</td></tr><tr><td>Loss_Stream/eval_phase/test_stream</td><td>▃▂▁█▆</td></tr><tr><td>MaxGPU0Usage_Epoch/train_phase/train_stream</td><td>▁▁▁▁▁</td></tr><tr><td>MaxGPU0Usage_Experience/eval_phase/test_stream/Exp000</td><td>▁</td></tr><tr><td>MaxGPU0Usage_Experience/eval_phase/test_stream/Exp001</td><td>▁</td></tr><tr><td>MaxGPU0Usage_Experience/eval_phase/test_stream/Exp002</td><td>▁</td></tr><tr><td>MaxGPU0Usage_Experience/eval_phase/test_stream/Exp003</td><td>▁</td></tr><tr><td>MaxGPU0Usage_Experience/eval_phase/test_stream/Exp004</td><td>▁</td></tr><tr><td>MaxGPU0Usage_MB/train_phase/train_stream</td><td>██████▄██████▇██████▆██████▁██████▁</td></tr><tr><td>MaxGPU0Usage_Stream/eval_phase/test_stream</td><td>▁▁▁▁▁</td></tr><tr><td>RunningTime_Epoch/train_phase/train_stream</td><td>▇▃▂▂▁▁▁▇▃▂▂▁▁▁▇▄▃▂▂▁▁█▄▃▂▂▁▁█▄▃▂▂▁▁</td></tr><tr><td>Time_Epoch/train_phase/train_stream</td><td>▁▁▄▇█</td></tr><tr><td>TrainingExperience</td><td>▁▃▅▆█</td></tr></table><br/></div><div class=\"wandb-col\"><h3>Run summary:</h3><br/><table class=\"wandb\"><tr><td>CPUUsage_Exp/eval_phase/test_stream/Exp000</td><td>47.60595</td></tr><tr><td>CPUUsage_Exp/eval_phase/test_stream/Exp001</td><td>40.48742</td></tr><tr><td>CPUUsage_Exp/eval_phase/test_stream/Exp002</td><td>46.47077</td></tr><tr><td>CPUUsage_Exp/eval_phase/test_stream/Exp003</td><td>50.30791</td></tr><tr><td>CPUUsage_Exp/eval_phase/test_stream/Exp004</td><td>52.45168</td></tr><tr><td>DiskUsage_Epoch/train_phase/train_stream</td><td>54005.37207</td></tr><tr><td>DiskUsage_Exp/eval_phase/test_stream/Exp000</td><td>53987.40137</td></tr><tr><td>DiskUsage_Exp/eval_phase/test_stream/Exp001</td><td>53990.31445</td></tr><tr><td>DiskUsage_Exp/eval_phase/test_stream/Exp002</td><td>53995.62207</td></tr><tr><td>DiskUsage_Exp/eval_phase/test_stream/Exp003</td><td>54001.13086</td></tr><tr><td>DiskUsage_Exp/eval_phase/test_stream/Exp004</td><td>54007.16309</td></tr><tr><td>DiskUsage_MB/train_phase/train_stream</td><td>54005.37207</td></tr><tr><td>DiskUsage_Stream/eval_phase/test_stream</td><td>54007.16309</td></tr><tr><td>Loss_Epoch/train_phase/train_stream</td><td>0.45012</td></tr><tr><td>Loss_Exp/eval_phase/test_stream/Exp000</td><td>1.29197</td></tr><tr><td>Loss_Exp/eval_phase/test_stream/Exp001</td><td>0.99134</td></tr><tr><td>Loss_Exp/eval_phase/test_stream/Exp002</td><td>0.73382</td></tr><tr><td>Loss_Exp/eval_phase/test_stream/Exp003</td><td>2.5387</td></tr><tr><td>Loss_Exp/eval_phase/test_stream/Exp004</td><td>2.12439</td></tr><tr><td>Loss_MB/train_phase/train_stream</td><td>0.42391</td></tr><tr><td>Loss_Stream/eval_phase/test_stream</td><td>2.12439</td></tr><tr><td>MaxGPU0Usage_Epoch/train_phase/train_stream</td><td>100.0</td></tr><tr><td>MaxGPU0Usage_Experience/eval_phase/test_stream/Exp000</td><td>100.0</td></tr><tr><td>MaxGPU0Usage_Experience/eval_phase/test_stream/Exp001</td><td>100.0</td></tr><tr><td>MaxGPU0Usage_Experience/eval_phase/test_stream/Exp002</td><td>100.0</td></tr><tr><td>MaxGPU0Usage_Experience/eval_phase/test_stream/Exp003</td><td>100.0</td></tr><tr><td>MaxGPU0Usage_Experience/eval_phase/test_stream/Exp004</td><td>100.0</td></tr><tr><td>MaxGPU0Usage_MB/train_phase/train_stream</td><td>0</td></tr><tr><td>MaxGPU0Usage_Stream/eval_phase/test_stream</td><td>100.0</td></tr><tr><td>RunningTime_Epoch/train_phase/train_stream</td><td>1.44272</td></tr><tr><td>Time_Epoch/train_phase/train_stream</td><td>60.83348</td></tr><tr><td>TrainingExperience</td><td>4</td></tr></table><br/></div></div>"
      ],
      "text/plain": [
       "<IPython.core.display.HTML object>"
      ]
     },
     "metadata": {},
     "output_type": "display_data"
    },
    {
     "data": {
      "text/html": [
       " View run <strong style=\"color:#cdcd00\">EWC</strong> at: <a href='https://wandb.ai/kirigiri_suzumiya/UNet_CL/runs/avg8jozw' target=\"_blank\">https://wandb.ai/kirigiri_suzumiya/UNet_CL/runs/avg8jozw</a><br/>Synced 7 W&B file(s), 0 media file(s), 0 artifact file(s) and 1 other file(s)"
      ],
      "text/plain": [
       "<IPython.core.display.HTML object>"
      ]
     },
     "metadata": {},
     "output_type": "display_data"
    },
    {
     "data": {
      "text/html": [
       "Find logs at: <code>C:\\Users\\boyifan\\AppData\\Local\\Temp\\wandb\\run-20240501_200608-avg8jozw\\logs</code>"
      ],
      "text/plain": [
       "<IPython.core.display.HTML object>"
      ]
     },
     "metadata": {},
     "output_type": "display_data"
    }
   ],
   "source": [
    "wandb.finish()"
   ]
  },
  {
   "cell_type": "markdown",
   "metadata": {},
   "source": [
    "## Train using LFL"
   ]
  },
  {
   "cell_type": "code",
   "execution_count": 23,
   "metadata": {},
   "outputs": [],
   "source": [
    "func_name = \"LFL\""
   ]
  },
  {
   "cell_type": "code",
   "execution_count": 24,
   "metadata": {},
   "outputs": [],
   "source": [
    "model = UNet(n_channels=3, n_classes=4)"
   ]
  },
  {
   "cell_type": "code",
   "execution_count": 25,
   "metadata": {},
   "outputs": [
    {
     "name": "stderr",
     "output_type": "stream",
     "text": [
      "\u001b[34m\u001b[1mwandb\u001b[0m: \u001b[33mWARNING\u001b[0m Path .\\log\\wandb\\LFL\\wandb\\ wasn't writable, using system temp directory.\n"
     ]
    },
    {
     "data": {
      "application/vnd.jupyter.widget-view+json": {
       "model_id": "51a467499fc545c7b1a5e8350b8c207c",
       "version_major": 2,
       "version_minor": 0
      },
      "text/plain": [
       "VBox(children=(Label(value='Waiting for wandb.init()...\\r'), FloatProgress(value=0.011111111111111112, max=1.0…"
      ]
     },
     "metadata": {},
     "output_type": "display_data"
    },
    {
     "data": {
      "text/html": [
       "wandb version 0.16.6 is available!  To upgrade, please run:\n",
       " $ pip install wandb --upgrade"
      ],
      "text/plain": [
       "<IPython.core.display.HTML object>"
      ]
     },
     "metadata": {},
     "output_type": "display_data"
    },
    {
     "data": {
      "text/html": [
       "Tracking run with wandb version 0.16.4"
      ],
      "text/plain": [
       "<IPython.core.display.HTML object>"
      ]
     },
     "metadata": {},
     "output_type": "display_data"
    },
    {
     "data": {
      "text/html": [
       "Run data is saved locally in <code>C:\\Users\\boyifan\\AppData\\Local\\Temp\\wandb\\run-20240501_201615-xpcy0cta</code>"
      ],
      "text/plain": [
       "<IPython.core.display.HTML object>"
      ]
     },
     "metadata": {},
     "output_type": "display_data"
    },
    {
     "data": {
      "text/html": [
       "Syncing run <strong><a href='https://wandb.ai/kirigiri_suzumiya/UNet_CL/runs/xpcy0cta' target=\"_blank\">LFL</a></strong> to <a href='https://wandb.ai/kirigiri_suzumiya/UNet_CL' target=\"_blank\">Weights & Biases</a> (<a href='https://wandb.me/run' target=\"_blank\">docs</a>)<br/>"
      ],
      "text/plain": [
       "<IPython.core.display.HTML object>"
      ]
     },
     "metadata": {},
     "output_type": "display_data"
    },
    {
     "data": {
      "text/html": [
       " View project at <a href='https://wandb.ai/kirigiri_suzumiya/UNet_CL' target=\"_blank\">https://wandb.ai/kirigiri_suzumiya/UNet_CL</a>"
      ],
      "text/plain": [
       "<IPython.core.display.HTML object>"
      ]
     },
     "metadata": {},
     "output_type": "display_data"
    },
    {
     "data": {
      "text/html": [
       " View run at <a href='https://wandb.ai/kirigiri_suzumiya/UNet_CL/runs/xpcy0cta' target=\"_blank\">https://wandb.ai/kirigiri_suzumiya/UNet_CL/runs/xpcy0cta</a>"
      ],
      "text/plain": [
       "<IPython.core.display.HTML object>"
      ]
     },
     "metadata": {},
     "output_type": "display_data"
    }
   ],
   "source": [
    "# DEFINE THE EVALUATION PLUGIN and LOGGERS\n",
    "# The evaluation plugin manages the metrics computation.\n",
    "# It takes as argument a list of metrics, collectes their results and returns\n",
    "# them to the strategy it is attached to.\n",
    "\n",
    "# log to Tensorboard\n",
    "tb_logger = TensorboardLogger(f\"./log/tb_data/{func_name}\")\n",
    "\n",
    "wandb_logger = WandBLogger(project_name=\"UNet_CL\",\n",
    "                           run_name=func_name,\n",
    "                           path=f\".\\log\\checkpoint\\{func_name}\",\n",
    "                           dir=f\".\\log\\wandb\\{func_name}\")\n",
    "\n",
    "# log to text file\n",
    "text_logger = TextLogger(open(f'./log/{func_name}.txt', 'a'))\n",
    "\n",
    "# print to stdout\n",
    "interactive_logger = InteractiveLogger()"
   ]
  },
  {
   "cell_type": "code",
   "execution_count": 26,
   "metadata": {},
   "outputs": [],
   "source": [
    "# CREATE THE STRATEGY INSTANCE (LFL)\n",
    "optimizer = optim.RMSprop(model.parameters(),\n",
    "                          lr=learning_rate, \n",
    "                          weight_decay=weight_decay, \n",
    "                          momentum=momentum, \n",
    "                          foreach=True)\n",
    "\n",
    "eval_plugin = EvaluationPlugin(\n",
    "    loss_metrics(minibatch=True, epoch=True, experience=True, stream=True),\n",
    "    timing_metrics(epoch=True, epoch_running=True),\n",
    "    cpu_usage_metrics(experience=True),\n",
    "    disk_usage_metrics(minibatch=True, epoch=True, experience=True, stream=True),\n",
    "    gpu_usage_metrics(gpu_id=0, minibatch=True, epoch=True, experience=True, stream=True),\n",
    "    loggers=[interactive_logger, text_logger, tb_logger, wandb_logger]\n",
    ")"
   ]
  },
  {
   "cell_type": "code",
   "execution_count": 27,
   "metadata": {},
   "outputs": [],
   "source": [
    "from utils.util import SGLFL\n",
    "cl_strategy = SGLFL(\n",
    "    model=model, \n",
    "    optimizer=optimizer,\n",
    "    criterion=CrossEntropyLoss(), \n",
    "    lambda_e=0.005,\n",
    "    train_mb_size=batch_size, \n",
    "    train_epochs=epochs,\n",
    "    device=\"cuda:0\",\n",
    "    eval_mb_size=batch_size,\n",
    "    evaluator=eval_plugin)\n",
    "\n"
   ]
  },
  {
   "cell_type": "code",
   "execution_count": 28,
   "metadata": {},
   "outputs": [
    {
     "name": "stdout",
     "output_type": "stream",
     "text": [
      "Starting experiment...\n",
      "-- >> Start of training phase << --\n",
      "100%|████████████████████████████████████████████████████████████████████████████████████| 7/7 [00:50<00:00,  7.28s/it]\n",
      "Epoch 0 ended.\n",
      "\tDiskUsage_Epoch/train_phase/train_stream = 54019.9463\n",
      "\tDiskUsage_MB/train_phase/train_stream = 54019.9463\n",
      "\tLoss_Epoch/train_phase/train_stream = 1.2492\n",
      "\tLoss_MB/train_phase/train_stream = 1.1023\n",
      "\tMaxGPU0Usage_Epoch/train_phase/train_stream = 100.0000\n",
      "\tMaxGPU0Usage_MB/train_phase/train_stream = 43.0000\n",
      "\tRunningTime_Epoch/train_phase/train_stream = 1.2026\n",
      "\tTime_Epoch/train_phase/train_stream = 50.7797\n",
      "-- >> End of training phase << --\n",
      "Training completed\n",
      "Computing accuracy on the whole test set\n",
      "-- >> Start of eval phase << --\n",
      "-- Starting eval on experience 0 from test stream --\n",
      "100%|████████████████████████████████████████████████████████████████████████████████████| 7/7 [00:09<00:00,  1.42s/it]\n",
      "> Eval on experience 0 from test stream ended.\n",
      "\tCPUUsage_Exp/eval_phase/test_stream/Exp000 = 44.6325\n",
      "\tDiskUsage_Exp/eval_phase/test_stream/Exp000 = 54020.5400\n",
      "\tLoss_Exp/eval_phase/test_stream/Exp000 = 1.3057\n",
      "\tMaxGPU0Usage_Experience/eval_phase/test_stream/Exp000 = 100.0000\n",
      "-- >> End of eval phase << --\n",
      "\tDiskUsage_Stream/eval_phase/test_stream = 54020.5400\n",
      "\tLoss_Stream/eval_phase/test_stream = 1.3057\n",
      "\tMaxGPU0Usage_Stream/eval_phase/test_stream = 100.0000\n",
      "-- >> Start of training phase << --\n",
      "100%|████████████████████████████████████████████████████████████████████████████████████| 7/7 [02:41<00:00, 23.02s/it]\n",
      "Epoch 0 ended.\n",
      "\tDiskUsage_Epoch/train_phase/train_stream = 54035.4473\n",
      "\tDiskUsage_MB/train_phase/train_stream = 54035.4473\n",
      "\tLoss_Epoch/train_phase/train_stream = 1.1668\n",
      "\tLoss_MB/train_phase/train_stream = 1.0365\n",
      "\tMaxGPU0Usage_Epoch/train_phase/train_stream = 100.0000\n",
      "\tMaxGPU0Usage_MB/train_phase/train_stream = 99.0000\n",
      "\tRunningTime_Epoch/train_phase/train_stream = 3.5847\n",
      "\tTime_Epoch/train_phase/train_stream = 160.9418\n",
      "-- >> End of training phase << --\n",
      "Training completed\n",
      "Computing accuracy on the whole test set\n",
      "-- >> Start of eval phase << --\n",
      "-- Starting eval on experience 1 from test stream --\n",
      "100%|████████████████████████████████████████████████████████████████████████████████████| 7/7 [00:15<00:00,  2.19s/it]\n",
      "> Eval on experience 1 from test stream ended.\n",
      "\tCPUUsage_Exp/eval_phase/test_stream/Exp001 = 49.5758\n",
      "\tDiskUsage_Exp/eval_phase/test_stream/Exp001 = 54036.1348\n",
      "\tLoss_Exp/eval_phase/test_stream/Exp001 = 1.0420\n",
      "\tMaxGPU0Usage_Experience/eval_phase/test_stream/Exp001 = 100.0000\n",
      "-- >> End of eval phase << --\n",
      "\tDiskUsage_Stream/eval_phase/test_stream = 54036.1348\n",
      "\tLoss_Stream/eval_phase/test_stream = 1.0420\n",
      "\tMaxGPU0Usage_Stream/eval_phase/test_stream = 100.0000\n",
      "-- >> Start of training phase << --\n",
      "100%|████████████████████████████████████████████████████████████████████████████████████| 7/7 [02:44<00:00, 23.55s/it]\n",
      "Epoch 0 ended.\n",
      "\tDiskUsage_Epoch/train_phase/train_stream = 54040.3311\n",
      "\tDiskUsage_MB/train_phase/train_stream = 54040.3311\n",
      "\tLoss_Epoch/train_phase/train_stream = 0.7137\n",
      "\tLoss_MB/train_phase/train_stream = 0.3845\n",
      "\tMaxGPU0Usage_Epoch/train_phase/train_stream = 100.0000\n",
      "\tMaxGPU0Usage_MB/train_phase/train_stream = 23.0000\n",
      "\tRunningTime_Epoch/train_phase/train_stream = 3.5626\n",
      "\tTime_Epoch/train_phase/train_stream = 164.6866\n",
      "-- >> End of training phase << --\n",
      "Training completed\n",
      "Computing accuracy on the whole test set\n",
      "-- >> Start of eval phase << --\n",
      "-- Starting eval on experience 2 from test stream --\n",
      "100%|████████████████████████████████████████████████████████████████████████████████████| 7/7 [00:15<00:00,  2.20s/it]\n",
      "> Eval on experience 2 from test stream ended.\n",
      "\tCPUUsage_Exp/eval_phase/test_stream/Exp002 = 45.3868\n",
      "\tDiskUsage_Exp/eval_phase/test_stream/Exp002 = 54040.9248\n",
      "\tLoss_Exp/eval_phase/test_stream/Exp002 = 0.3974\n",
      "\tMaxGPU0Usage_Experience/eval_phase/test_stream/Exp002 = 100.0000\n",
      "-- >> End of eval phase << --\n",
      "\tDiskUsage_Stream/eval_phase/test_stream = 54040.9248\n",
      "\tLoss_Stream/eval_phase/test_stream = 0.3974\n",
      "\tMaxGPU0Usage_Stream/eval_phase/test_stream = 100.0000\n",
      "-- >> Start of training phase << --\n",
      "100%|████████████████████████████████████████████████████████████████████████████████████| 7/7 [02:45<00:00, 23.58s/it]\n",
      "Epoch 0 ended.\n",
      "\tDiskUsage_Epoch/train_phase/train_stream = 54045.1211\n",
      "\tDiskUsage_MB/train_phase/train_stream = 54045.1211\n",
      "\tLoss_Epoch/train_phase/train_stream = 0.6263\n",
      "\tLoss_MB/train_phase/train_stream = 0.4648\n",
      "\tMaxGPU0Usage_Epoch/train_phase/train_stream = 100.0000\n",
      "\tMaxGPU0Usage_MB/train_phase/train_stream = 0\n",
      "\tRunningTime_Epoch/train_phase/train_stream = 3.5669\n",
      "\tTime_Epoch/train_phase/train_stream = 164.8241\n",
      "-- >> End of training phase << --\n",
      "Training completed\n",
      "Computing accuracy on the whole test set\n",
      "-- >> Start of eval phase << --\n",
      "-- Starting eval on experience 3 from test stream --\n",
      "100%|████████████████████████████████████████████████████████████████████████████████████| 7/7 [00:15<00:00,  2.19s/it]\n",
      "> Eval on experience 3 from test stream ended.\n",
      "\tCPUUsage_Exp/eval_phase/test_stream/Exp003 = 48.5813\n",
      "\tDiskUsage_Exp/eval_phase/test_stream/Exp003 = 54046.3662\n",
      "\tLoss_Exp/eval_phase/test_stream/Exp003 = 0.5359\n",
      "\tMaxGPU0Usage_Experience/eval_phase/test_stream/Exp003 = 100.0000\n",
      "-- >> End of eval phase << --\n",
      "\tDiskUsage_Stream/eval_phase/test_stream = 54046.3662\n",
      "\tLoss_Stream/eval_phase/test_stream = 0.5359\n",
      "\tMaxGPU0Usage_Stream/eval_phase/test_stream = 100.0000\n",
      "-- >> Start of training phase << --\n",
      "100%|████████████████████████████████████████████████████████████████████████████████████| 7/7 [02:48<00:00, 24.08s/it]\n",
      "Epoch 0 ended.\n",
      "\tDiskUsage_Epoch/train_phase/train_stream = 54049.9990\n",
      "\tDiskUsage_MB/train_phase/train_stream = 54049.9990\n",
      "\tLoss_Epoch/train_phase/train_stream = 0.5544\n",
      "\tLoss_MB/train_phase/train_stream = 0.7289\n",
      "\tMaxGPU0Usage_Epoch/train_phase/train_stream = 100.0000\n",
      "\tMaxGPU0Usage_MB/train_phase/train_stream = 0\n",
      "\tRunningTime_Epoch/train_phase/train_stream = 3.5322\n",
      "\tTime_Epoch/train_phase/train_stream = 168.3639\n",
      "-- >> End of training phase << --\n",
      "Training completed\n",
      "Computing accuracy on the whole test set\n",
      "-- >> Start of eval phase << --\n",
      "-- Starting eval on experience 4 from test stream --\n",
      "100%|████████████████████████████████████████████████████████████████████████████████████| 7/7 [00:15<00:00,  2.19s/it]\n",
      "> Eval on experience 4 from test stream ended.\n",
      "\tCPUUsage_Exp/eval_phase/test_stream/Exp004 = 47.0589\n",
      "\tDiskUsage_Exp/eval_phase/test_stream/Exp004 = 54050.5928\n",
      "\tLoss_Exp/eval_phase/test_stream/Exp004 = 0.5098\n",
      "\tMaxGPU0Usage_Experience/eval_phase/test_stream/Exp004 = 100.0000\n",
      "-- >> End of eval phase << --\n",
      "\tDiskUsage_Stream/eval_phase/test_stream = 54050.5928\n",
      "\tLoss_Stream/eval_phase/test_stream = 0.5098\n",
      "\tMaxGPU0Usage_Stream/eval_phase/test_stream = 100.0000\n"
     ]
    }
   ],
   "source": [
    "# TRAINING LOOP\n",
    "print('Starting experiment...')\n",
    "results = []\n",
    "for i, experience in enumerate(bm.train_stream):\n",
    "# if True:\n",
    "    # print(\"Start of experience: \", experience.current_experience)\n",
    "    # print(\"Current Classes: \", experience.classes_in_this_experience)\n",
    "\n",
    "    # train returns a dictionary which contains all the metric values\n",
    "    res = cl_strategy.train(experience)\n",
    "    print('Training completed')\n",
    "\n",
    "    print('Computing accuracy on the whole test set')\n",
    "    # test also returns a dictionary which contains all the metric values\n",
    "    results.append(cl_strategy.eval(bm.test_stream[i]))"
   ]
  },
  {
   "cell_type": "code",
   "execution_count": 29,
   "metadata": {},
   "outputs": [],
   "source": [
    "import pickle\n",
    "pickle.dump(results,open(f\"./log/eval/{func_name}.pkl\",\"wb\"))"
   ]
  },
  {
   "cell_type": "code",
   "execution_count": 30,
   "metadata": {},
   "outputs": [
    {
     "data": {
      "application/vnd.jupyter.widget-view+json": {
       "model_id": "",
       "version_major": 2,
       "version_minor": 0
      },
      "text/plain": [
       "VBox(children=(Label(value='0.082 MB of 0.082 MB uploaded\\r'), FloatProgress(value=1.0, max=1.0)))"
      ]
     },
     "metadata": {},
     "output_type": "display_data"
    },
    {
     "data": {
      "text/html": [
       "<style>\n",
       "    table.wandb td:nth-child(1) { padding: 0 10px; text-align: left ; width: auto;} td:nth-child(2) {text-align: left ; width: 100%}\n",
       "    .wandb-row { display: flex; flex-direction: row; flex-wrap: wrap; justify-content: flex-start; width: 100% }\n",
       "    .wandb-col { display: flex; flex-direction: column; flex-basis: 100%; flex: 1; padding: 10px; }\n",
       "    </style>\n",
       "<div class=\"wandb-row\"><div class=\"wandb-col\"><h3>Run history:</h3><br/><table class=\"wandb\"><tr><td>CPUUsage_Exp/eval_phase/test_stream/Exp000</td><td>▁</td></tr><tr><td>CPUUsage_Exp/eval_phase/test_stream/Exp001</td><td>▁</td></tr><tr><td>CPUUsage_Exp/eval_phase/test_stream/Exp002</td><td>▁</td></tr><tr><td>CPUUsage_Exp/eval_phase/test_stream/Exp003</td><td>▁</td></tr><tr><td>CPUUsage_Exp/eval_phase/test_stream/Exp004</td><td>▁</td></tr><tr><td>DiskUsage_Epoch/train_phase/train_stream</td><td>▁▅▆▇█</td></tr><tr><td>DiskUsage_Exp/eval_phase/test_stream/Exp000</td><td>▁</td></tr><tr><td>DiskUsage_Exp/eval_phase/test_stream/Exp001</td><td>▁</td></tr><tr><td>DiskUsage_Exp/eval_phase/test_stream/Exp002</td><td>▁</td></tr><tr><td>DiskUsage_Exp/eval_phase/test_stream/Exp003</td><td>▁</td></tr><tr><td>DiskUsage_Exp/eval_phase/test_stream/Exp004</td><td>▁</td></tr><tr><td>DiskUsage_MB/train_phase/train_stream</td><td>▁▁▁▁▁▁▁▂▄▅▅▅▅▅▅▅▅▆▆▆▆▆▇▇▇▇▇▇▇▇▇████</td></tr><tr><td>DiskUsage_Stream/eval_phase/test_stream</td><td>▁▅▆▇█</td></tr><tr><td>Loss_Epoch/train_phase/train_stream</td><td>█▇▃▂▁</td></tr><tr><td>Loss_Exp/eval_phase/test_stream/Exp000</td><td>▁</td></tr><tr><td>Loss_Exp/eval_phase/test_stream/Exp001</td><td>▁</td></tr><tr><td>Loss_Exp/eval_phase/test_stream/Exp002</td><td>▁</td></tr><tr><td>Loss_Exp/eval_phase/test_stream/Exp003</td><td>▁</td></tr><tr><td>Loss_Exp/eval_phase/test_stream/Exp004</td><td>▁</td></tr><tr><td>Loss_MB/train_phase/train_stream</td><td>█▇▇▇▆▆▆▆▇▇▇▆▆▆▅█▃▂▂▁▁▄▂▂▃▃▃▂▄▂▂▁▂▄▄</td></tr><tr><td>Loss_Stream/eval_phase/test_stream</td><td>█▆▁▂▂</td></tr><tr><td>MaxGPU0Usage_Epoch/train_phase/train_stream</td><td>▁▁▁▁▁</td></tr><tr><td>MaxGPU0Usage_Experience/eval_phase/test_stream/Exp000</td><td>▁</td></tr><tr><td>MaxGPU0Usage_Experience/eval_phase/test_stream/Exp001</td><td>▁</td></tr><tr><td>MaxGPU0Usage_Experience/eval_phase/test_stream/Exp002</td><td>▁</td></tr><tr><td>MaxGPU0Usage_Experience/eval_phase/test_stream/Exp003</td><td>▁</td></tr><tr><td>MaxGPU0Usage_Experience/eval_phase/test_stream/Exp004</td><td>▁</td></tr><tr><td>MaxGPU0Usage_MB/train_phase/train_stream</td><td>██████▄█████████████▃██████▁██████▁</td></tr><tr><td>MaxGPU0Usage_Stream/eval_phase/test_stream</td><td>▁▁▁▁▁</td></tr><tr><td>RunningTime_Epoch/train_phase/train_stream</td><td>▃▂▁▁▁▁▁█▄▃▂▂▂▂█▄▃▂▂▂▂█▄▃▂▂▂▂█▄▃▂▂▂▂</td></tr><tr><td>Time_Epoch/train_phase/train_stream</td><td>▁████</td></tr><tr><td>TrainingExperience</td><td>▁▃▅▆█</td></tr></table><br/></div><div class=\"wandb-col\"><h3>Run summary:</h3><br/><table class=\"wandb\"><tr><td>CPUUsage_Exp/eval_phase/test_stream/Exp000</td><td>44.63249</td></tr><tr><td>CPUUsage_Exp/eval_phase/test_stream/Exp001</td><td>49.57577</td></tr><tr><td>CPUUsage_Exp/eval_phase/test_stream/Exp002</td><td>45.38676</td></tr><tr><td>CPUUsage_Exp/eval_phase/test_stream/Exp003</td><td>48.58126</td></tr><tr><td>CPUUsage_Exp/eval_phase/test_stream/Exp004</td><td>47.0589</td></tr><tr><td>DiskUsage_Epoch/train_phase/train_stream</td><td>54049.99902</td></tr><tr><td>DiskUsage_Exp/eval_phase/test_stream/Exp000</td><td>54020.54004</td></tr><tr><td>DiskUsage_Exp/eval_phase/test_stream/Exp001</td><td>54036.13477</td></tr><tr><td>DiskUsage_Exp/eval_phase/test_stream/Exp002</td><td>54040.9248</td></tr><tr><td>DiskUsage_Exp/eval_phase/test_stream/Exp003</td><td>54046.36621</td></tr><tr><td>DiskUsage_Exp/eval_phase/test_stream/Exp004</td><td>54050.59277</td></tr><tr><td>DiskUsage_MB/train_phase/train_stream</td><td>54049.99902</td></tr><tr><td>DiskUsage_Stream/eval_phase/test_stream</td><td>54050.59277</td></tr><tr><td>Loss_Epoch/train_phase/train_stream</td><td>0.55439</td></tr><tr><td>Loss_Exp/eval_phase/test_stream/Exp000</td><td>1.30566</td></tr><tr><td>Loss_Exp/eval_phase/test_stream/Exp001</td><td>1.04196</td></tr><tr><td>Loss_Exp/eval_phase/test_stream/Exp002</td><td>0.39736</td></tr><tr><td>Loss_Exp/eval_phase/test_stream/Exp003</td><td>0.53594</td></tr><tr><td>Loss_Exp/eval_phase/test_stream/Exp004</td><td>0.5098</td></tr><tr><td>Loss_MB/train_phase/train_stream</td><td>0.72885</td></tr><tr><td>Loss_Stream/eval_phase/test_stream</td><td>0.5098</td></tr><tr><td>MaxGPU0Usage_Epoch/train_phase/train_stream</td><td>100.0</td></tr><tr><td>MaxGPU0Usage_Experience/eval_phase/test_stream/Exp000</td><td>100.0</td></tr><tr><td>MaxGPU0Usage_Experience/eval_phase/test_stream/Exp001</td><td>100.0</td></tr><tr><td>MaxGPU0Usage_Experience/eval_phase/test_stream/Exp002</td><td>100.0</td></tr><tr><td>MaxGPU0Usage_Experience/eval_phase/test_stream/Exp003</td><td>100.0</td></tr><tr><td>MaxGPU0Usage_Experience/eval_phase/test_stream/Exp004</td><td>100.0</td></tr><tr><td>MaxGPU0Usage_MB/train_phase/train_stream</td><td>0</td></tr><tr><td>MaxGPU0Usage_Stream/eval_phase/test_stream</td><td>100.0</td></tr><tr><td>RunningTime_Epoch/train_phase/train_stream</td><td>3.53216</td></tr><tr><td>Time_Epoch/train_phase/train_stream</td><td>168.3639</td></tr><tr><td>TrainingExperience</td><td>4</td></tr></table><br/></div></div>"
      ],
      "text/plain": [
       "<IPython.core.display.HTML object>"
      ]
     },
     "metadata": {},
     "output_type": "display_data"
    },
    {
     "data": {
      "text/html": [
       " View run <strong style=\"color:#cdcd00\">LFL</strong> at: <a href='https://wandb.ai/kirigiri_suzumiya/UNet_CL/runs/xpcy0cta' target=\"_blank\">https://wandb.ai/kirigiri_suzumiya/UNet_CL/runs/xpcy0cta</a><br/>Synced 7 W&B file(s), 0 media file(s), 0 artifact file(s) and 1 other file(s)"
      ],
      "text/plain": [
       "<IPython.core.display.HTML object>"
      ]
     },
     "metadata": {},
     "output_type": "display_data"
    },
    {
     "data": {
      "text/html": [
       "Find logs at: <code>C:\\Users\\boyifan\\AppData\\Local\\Temp\\wandb\\run-20240501_201615-xpcy0cta\\logs</code>"
      ],
      "text/plain": [
       "<IPython.core.display.HTML object>"
      ]
     },
     "metadata": {},
     "output_type": "display_data"
    }
   ],
   "source": [
    "wandb.finish()"
   ]
  },
  {
   "cell_type": "markdown",
   "metadata": {},
   "source": [
    "## Train using SI"
   ]
  },
  {
   "cell_type": "code",
   "execution_count": 31,
   "metadata": {},
   "outputs": [],
   "source": [
    "func_name = \"SI\""
   ]
  },
  {
   "cell_type": "code",
   "execution_count": 32,
   "metadata": {},
   "outputs": [],
   "source": [
    "model = UNet(n_channels=3, n_classes=4)"
   ]
  },
  {
   "cell_type": "code",
   "execution_count": 33,
   "metadata": {},
   "outputs": [
    {
     "name": "stderr",
     "output_type": "stream",
     "text": [
      "\u001b[34m\u001b[1mwandb\u001b[0m: \u001b[33mWARNING\u001b[0m Path .\\log\\wandb\\SI\\wandb\\ wasn't writable, using system temp directory.\n"
     ]
    },
    {
     "data": {
      "application/vnd.jupyter.widget-view+json": {
       "model_id": "c6a5521f31a442fe8488eb9b89238646",
       "version_major": 2,
       "version_minor": 0
      },
      "text/plain": [
       "VBox(children=(Label(value='Waiting for wandb.init()...\\r'), FloatProgress(value=0.011111111111111112, max=1.0…"
      ]
     },
     "metadata": {},
     "output_type": "display_data"
    },
    {
     "data": {
      "text/html": [
       "wandb version 0.16.6 is available!  To upgrade, please run:\n",
       " $ pip install wandb --upgrade"
      ],
      "text/plain": [
       "<IPython.core.display.HTML object>"
      ]
     },
     "metadata": {},
     "output_type": "display_data"
    },
    {
     "data": {
      "text/html": [
       "Tracking run with wandb version 0.16.4"
      ],
      "text/plain": [
       "<IPython.core.display.HTML object>"
      ]
     },
     "metadata": {},
     "output_type": "display_data"
    },
    {
     "data": {
      "text/html": [
       "Run data is saved locally in <code>C:\\Users\\boyifan\\AppData\\Local\\Temp\\wandb\\run-20240501_202940-oy4zdz1f</code>"
      ],
      "text/plain": [
       "<IPython.core.display.HTML object>"
      ]
     },
     "metadata": {},
     "output_type": "display_data"
    },
    {
     "data": {
      "text/html": [
       "Syncing run <strong><a href='https://wandb.ai/kirigiri_suzumiya/UNet_CL/runs/oy4zdz1f' target=\"_blank\">SI</a></strong> to <a href='https://wandb.ai/kirigiri_suzumiya/UNet_CL' target=\"_blank\">Weights & Biases</a> (<a href='https://wandb.me/run' target=\"_blank\">docs</a>)<br/>"
      ],
      "text/plain": [
       "<IPython.core.display.HTML object>"
      ]
     },
     "metadata": {},
     "output_type": "display_data"
    },
    {
     "data": {
      "text/html": [
       " View project at <a href='https://wandb.ai/kirigiri_suzumiya/UNet_CL' target=\"_blank\">https://wandb.ai/kirigiri_suzumiya/UNet_CL</a>"
      ],
      "text/plain": [
       "<IPython.core.display.HTML object>"
      ]
     },
     "metadata": {},
     "output_type": "display_data"
    },
    {
     "data": {
      "text/html": [
       " View run at <a href='https://wandb.ai/kirigiri_suzumiya/UNet_CL/runs/oy4zdz1f' target=\"_blank\">https://wandb.ai/kirigiri_suzumiya/UNet_CL/runs/oy4zdz1f</a>"
      ],
      "text/plain": [
       "<IPython.core.display.HTML object>"
      ]
     },
     "metadata": {},
     "output_type": "display_data"
    }
   ],
   "source": [
    "# DEFINE THE EVALUATION PLUGIN and LOGGERS\n",
    "# The evaluation plugin manages the metrics computation.\n",
    "# It takes as argument a list of metrics, collectes their results and returns\n",
    "# them to the strategy it is attached to.\n",
    "\n",
    "# log to Tensorboard\n",
    "tb_logger = TensorboardLogger(f\"./log/tb_data/{func_name}\")\n",
    "\n",
    "wandb_logger = WandBLogger(project_name=\"UNet_CL\",\n",
    "                           run_name=func_name,\n",
    "                           path=f\".\\log\\checkpoint\\{func_name}\",\n",
    "                           dir=f\".\\log\\wandb\\{func_name}\")\n",
    "\n",
    "# log to text file\n",
    "text_logger = TextLogger(open(f'./log/{func_name}.txt', 'a'))\n",
    "\n",
    "# print to stdout\n",
    "interactive_logger = InteractiveLogger()"
   ]
  },
  {
   "cell_type": "code",
   "execution_count": 34,
   "metadata": {},
   "outputs": [],
   "source": [
    "# CREATE THE STRATEGY INSTANCE (SI)\n",
    "optimizer = optim.RMSprop(model.parameters(),\n",
    "                          lr=learning_rate, \n",
    "                          weight_decay=weight_decay, \n",
    "                          momentum=momentum, \n",
    "                          foreach=True)\n",
    "\n",
    "eval_plugin = EvaluationPlugin(\n",
    "    loss_metrics(minibatch=True, epoch=True, experience=True, stream=True),\n",
    "    timing_metrics(epoch=True, epoch_running=True),\n",
    "    cpu_usage_metrics(experience=True),\n",
    "    disk_usage_metrics(minibatch=True, epoch=True, experience=True, stream=True),\n",
    "    gpu_usage_metrics(gpu_id=0, minibatch=True, epoch=True, experience=True, stream=True),\n",
    "    loggers=[interactive_logger, text_logger, tb_logger, wandb_logger]\n",
    ")"
   ]
  },
  {
   "cell_type": "code",
   "execution_count": 35,
   "metadata": {},
   "outputs": [],
   "source": [
    "from avalanche.training import SynapticIntelligence\n",
    "cl_strategy = SynapticIntelligence(\n",
    "    model=model, \n",
    "    optimizer=optimizer,\n",
    "    criterion=CrossEntropyLoss(), \n",
    "    si_lambda=0.005,\n",
    "    train_mb_size=batch_size, \n",
    "    train_epochs=epochs,\n",
    "    device=\"cuda:0\",\n",
    "    eval_mb_size=batch_size,\n",
    "    evaluator=eval_plugin)"
   ]
  },
  {
   "cell_type": "code",
   "execution_count": 36,
   "metadata": {},
   "outputs": [
    {
     "name": "stdout",
     "output_type": "stream",
     "text": [
      "Starting experiment...\n",
      "-- >> Start of training phase << --\n",
      "100%|████████████████████████████████████████████████████████████████████████████████████| 7/7 [01:00<00:00,  8.62s/it]\n",
      "Epoch 0 ended.\n",
      "\tDiskUsage_Epoch/train_phase/train_stream = 54072.6855\n",
      "\tDiskUsage_MB/train_phase/train_stream = 54072.6855\n",
      "\tLoss_Epoch/train_phase/train_stream = 1.0782\n",
      "\tLoss_MB/train_phase/train_stream = 0.9304\n",
      "\tMaxGPU0Usage_Epoch/train_phase/train_stream = 100.0000\n",
      "\tMaxGPU0Usage_MB/train_phase/train_stream = 1.0000\n",
      "\tRunningTime_Epoch/train_phase/train_stream = 1.4543\n",
      "\tTime_Epoch/train_phase/train_stream = 60.1733\n",
      "-- >> End of training phase << --\n",
      "Training completed\n",
      "Computing accuracy on the whole test set\n",
      "-- >> Start of eval phase << --\n",
      "-- Starting eval on experience 0 from test stream --\n",
      "100%|████████████████████████████████████████████████████████████████████████████████████| 7/7 [00:15<00:00,  2.18s/it]\n",
      "> Eval on experience 0 from test stream ended.\n",
      "\tCPUUsage_Exp/eval_phase/test_stream/Exp000 = 54.4045\n",
      "\tDiskUsage_Exp/eval_phase/test_stream/Exp000 = 54073.2793\n",
      "\tLoss_Exp/eval_phase/test_stream/Exp000 = 1.2680\n",
      "\tMaxGPU0Usage_Experience/eval_phase/test_stream/Exp000 = 100.0000\n",
      "-- >> End of eval phase << --\n",
      "\tDiskUsage_Stream/eval_phase/test_stream = 54073.2793\n",
      "\tLoss_Stream/eval_phase/test_stream = 1.2680\n",
      "\tMaxGPU0Usage_Stream/eval_phase/test_stream = 100.0000\n",
      "-- >> Start of training phase << --\n",
      "100%|████████████████████████████████████████████████████████████████████████████████████| 7/7 [00:59<00:00,  8.50s/it]\n",
      "Epoch 0 ended.\n",
      "\tDiskUsage_Epoch/train_phase/train_stream = 54075.5986\n",
      "\tDiskUsage_MB/train_phase/train_stream = 54075.5986\n",
      "\tLoss_Epoch/train_phase/train_stream = 0.8232\n",
      "\tLoss_MB/train_phase/train_stream = 0.7319\n",
      "\tMaxGPU0Usage_Epoch/train_phase/train_stream = 100.0000\n",
      "\tMaxGPU0Usage_MB/train_phase/train_stream = 4.0000\n",
      "\tRunningTime_Epoch/train_phase/train_stream = 1.3743\n",
      "\tTime_Epoch/train_phase/train_stream = 59.3219\n",
      "-- >> End of training phase << --\n",
      "Training completed\n",
      "Computing accuracy on the whole test set\n",
      "-- >> Start of eval phase << --\n",
      "-- Starting eval on experience 1 from test stream --\n",
      "100%|████████████████████████████████████████████████████████████████████████████████████| 7/7 [00:15<00:00,  2.21s/it]\n",
      "> Eval on experience 1 from test stream ended.\n",
      "\tCPUUsage_Exp/eval_phase/test_stream/Exp001 = 49.3255\n",
      "\tDiskUsage_Exp/eval_phase/test_stream/Exp001 = 54079.1943\n",
      "\tLoss_Exp/eval_phase/test_stream/Exp001 = 1.0523\n",
      "\tMaxGPU0Usage_Experience/eval_phase/test_stream/Exp001 = 100.0000\n",
      "-- >> End of eval phase << --\n",
      "\tDiskUsage_Stream/eval_phase/test_stream = 54079.1943\n",
      "\tLoss_Stream/eval_phase/test_stream = 1.0523\n",
      "\tMaxGPU0Usage_Stream/eval_phase/test_stream = 100.0000\n",
      "-- >> Start of training phase << --\n",
      "100%|████████████████████████████████████████████████████████████████████████████████████| 7/7 [00:59<00:00,  8.50s/it]\n",
      "Epoch 0 ended.\n",
      "\tDiskUsage_Epoch/train_phase/train_stream = 54081.5137\n",
      "\tDiskUsage_MB/train_phase/train_stream = 54081.5137\n",
      "\tLoss_Epoch/train_phase/train_stream = 0.6399\n",
      "\tLoss_MB/train_phase/train_stream = 0.5701\n",
      "\tMaxGPU0Usage_Epoch/train_phase/train_stream = 100.0000\n",
      "\tMaxGPU0Usage_MB/train_phase/train_stream = 4.0000\n",
      "\tRunningTime_Epoch/train_phase/train_stream = 1.3741\n",
      "\tTime_Epoch/train_phase/train_stream = 59.3433\n",
      "-- >> End of training phase << --\n",
      "Training completed\n",
      "Computing accuracy on the whole test set\n",
      "-- >> Start of eval phase << --\n",
      "-- Starting eval on experience 2 from test stream --\n",
      "100%|████████████████████████████████████████████████████████████████████████████████████| 7/7 [00:15<00:00,  2.19s/it]\n",
      "> Eval on experience 2 from test stream ended.\n",
      "\tCPUUsage_Exp/eval_phase/test_stream/Exp002 = 47.4237\n",
      "\tDiskUsage_Exp/eval_phase/test_stream/Exp002 = 54082.1074\n",
      "\tLoss_Exp/eval_phase/test_stream/Exp002 = 0.7840\n",
      "\tMaxGPU0Usage_Experience/eval_phase/test_stream/Exp002 = 100.0000\n",
      "-- >> End of eval phase << --\n",
      "\tDiskUsage_Stream/eval_phase/test_stream = 54082.1074\n",
      "\tLoss_Stream/eval_phase/test_stream = 0.7840\n",
      "\tMaxGPU0Usage_Stream/eval_phase/test_stream = 100.0000\n",
      "-- >> Start of training phase << --\n",
      "100%|████████████████████████████████████████████████████████████████████████████████████| 7/7 [00:59<00:00,  8.50s/it]\n",
      "Epoch 0 ended.\n",
      "\tDiskUsage_Epoch/train_phase/train_stream = 54087.2373\n",
      "\tDiskUsage_MB/train_phase/train_stream = 54087.2373\n",
      "\tLoss_Epoch/train_phase/train_stream = 0.5148\n",
      "\tLoss_MB/train_phase/train_stream = 0.4575\n",
      "\tMaxGPU0Usage_Epoch/train_phase/train_stream = 100.0000\n",
      "\tMaxGPU0Usage_MB/train_phase/train_stream = 2.0000\n",
      "\tRunningTime_Epoch/train_phase/train_stream = 1.3742\n",
      "\tTime_Epoch/train_phase/train_stream = 59.3218\n",
      "-- >> End of training phase << --\n",
      "Training completed\n",
      "Computing accuracy on the whole test set\n",
      "-- >> Start of eval phase << --\n",
      "-- Starting eval on experience 3 from test stream --\n",
      "100%|████████████████████████████████████████████████████████████████████████████████████| 7/7 [00:15<00:00,  2.17s/it]\n",
      "> Eval on experience 3 from test stream ended.\n",
      "\tCPUUsage_Exp/eval_phase/test_stream/Exp003 = 49.5690\n",
      "\tDiskUsage_Exp/eval_phase/test_stream/Exp003 = 54087.8311\n",
      "\tLoss_Exp/eval_phase/test_stream/Exp003 = 1.6181\n",
      "\tMaxGPU0Usage_Experience/eval_phase/test_stream/Exp003 = 100.0000\n",
      "-- >> End of eval phase << --\n",
      "\tDiskUsage_Stream/eval_phase/test_stream = 54087.8311\n",
      "\tLoss_Stream/eval_phase/test_stream = 1.6181\n",
      "\tMaxGPU0Usage_Stream/eval_phase/test_stream = 100.0000\n",
      "-- >> Start of training phase << --\n",
      "100%|████████████████████████████████████████████████████████████████████████████████████| 7/7 [00:59<00:00,  8.53s/it]\n",
      "Epoch 0 ended.\n",
      "\tDiskUsage_Epoch/train_phase/train_stream = 54090.1504\n",
      "\tDiskUsage_MB/train_phase/train_stream = 54090.1504\n",
      "\tLoss_Epoch/train_phase/train_stream = 0.4211\n",
      "\tLoss_MB/train_phase/train_stream = 0.3718\n",
      "\tMaxGPU0Usage_Epoch/train_phase/train_stream = 100.0000\n",
      "\tMaxGPU0Usage_MB/train_phase/train_stream = 18.0000\n",
      "\tRunningTime_Epoch/train_phase/train_stream = 1.3744\n",
      "\tTime_Epoch/train_phase/train_stream = 59.4822\n",
      "-- >> End of training phase << --\n",
      "Training completed\n",
      "Computing accuracy on the whole test set\n",
      "-- >> Start of eval phase << --\n",
      "-- Starting eval on experience 4 from test stream --\n",
      "100%|████████████████████████████████████████████████████████████████████████████████████| 7/7 [00:15<00:00,  2.20s/it]\n",
      "> Eval on experience 4 from test stream ended.\n",
      "\tCPUUsage_Exp/eval_phase/test_stream/Exp004 = 49.7976\n",
      "\tDiskUsage_Exp/eval_phase/test_stream/Exp004 = 54090.7441\n",
      "\tLoss_Exp/eval_phase/test_stream/Exp004 = 1.9652\n",
      "\tMaxGPU0Usage_Experience/eval_phase/test_stream/Exp004 = 100.0000\n",
      "-- >> End of eval phase << --\n",
      "\tDiskUsage_Stream/eval_phase/test_stream = 54090.7441\n",
      "\tLoss_Stream/eval_phase/test_stream = 1.9652\n",
      "\tMaxGPU0Usage_Stream/eval_phase/test_stream = 100.0000\n"
     ]
    }
   ],
   "source": [
    "# TRAINING LOOP\n",
    "print('Starting experiment...')\n",
    "results = []\n",
    "for i, experience in enumerate(bm.train_stream):\n",
    "# if True:\n",
    "    # print(\"Start of experience: \", experience.current_experience)\n",
    "    # print(\"Current Classes: \", experience.classes_in_this_experience)\n",
    "\n",
    "    # train returns a dictionary which contains all the metric values\n",
    "    res = cl_strategy.train(experience)\n",
    "    print('Training completed')\n",
    "\n",
    "    print('Computing accuracy on the whole test set')\n",
    "    # test also returns a dictionary which contains all the metric values\n",
    "    results.append(cl_strategy.eval(bm.test_stream[i]))"
   ]
  },
  {
   "cell_type": "code",
   "execution_count": 37,
   "metadata": {},
   "outputs": [],
   "source": [
    "import pickle\n",
    "pickle.dump(results,open(f\"./log/eval/{func_name}.pkl\",\"wb\"))"
   ]
  },
  {
   "cell_type": "code",
   "execution_count": 38,
   "metadata": {},
   "outputs": [
    {
     "data": {
      "application/vnd.jupyter.widget-view+json": {
       "model_id": "",
       "version_major": 2,
       "version_minor": 0
      },
      "text/plain": [
       "VBox(children=(Label(value='0.096 MB of 0.142 MB uploaded\\r'), FloatProgress(value=0.6763287623326227, max=1.0…"
      ]
     },
     "metadata": {},
     "output_type": "display_data"
    },
    {
     "data": {
      "text/html": [
       "<style>\n",
       "    table.wandb td:nth-child(1) { padding: 0 10px; text-align: left ; width: auto;} td:nth-child(2) {text-align: left ; width: 100%}\n",
       "    .wandb-row { display: flex; flex-direction: row; flex-wrap: wrap; justify-content: flex-start; width: 100% }\n",
       "    .wandb-col { display: flex; flex-direction: column; flex-basis: 100%; flex: 1; padding: 10px; }\n",
       "    </style>\n",
       "<div class=\"wandb-row\"><div class=\"wandb-col\"><h3>Run history:</h3><br/><table class=\"wandb\"><tr><td>CPUUsage_Exp/eval_phase/test_stream/Exp000</td><td>▁</td></tr><tr><td>CPUUsage_Exp/eval_phase/test_stream/Exp001</td><td>▁</td></tr><tr><td>CPUUsage_Exp/eval_phase/test_stream/Exp002</td><td>▁</td></tr><tr><td>CPUUsage_Exp/eval_phase/test_stream/Exp003</td><td>▁</td></tr><tr><td>CPUUsage_Exp/eval_phase/test_stream/Exp004</td><td>▁</td></tr><tr><td>DiskUsage_Epoch/train_phase/train_stream</td><td>▁▂▅▇█</td></tr><tr><td>DiskUsage_Exp/eval_phase/test_stream/Exp000</td><td>▁</td></tr><tr><td>DiskUsage_Exp/eval_phase/test_stream/Exp001</td><td>▁</td></tr><tr><td>DiskUsage_Exp/eval_phase/test_stream/Exp002</td><td>▁</td></tr><tr><td>DiskUsage_Exp/eval_phase/test_stream/Exp003</td><td>▁</td></tr><tr><td>DiskUsage_Exp/eval_phase/test_stream/Exp004</td><td>▁</td></tr><tr><td>DiskUsage_MB/train_phase/train_stream</td><td>▁▁▄▄▄▄▄▄▄▄▅▅▅▅▆▆▆▆▆▆▆▆▆▆▇▇▇▇███████</td></tr><tr><td>DiskUsage_Stream/eval_phase/test_stream</td><td>▁▃▅▇█</td></tr><tr><td>Loss_Epoch/train_phase/train_stream</td><td>█▅▃▂▁</td></tr><tr><td>Loss_Exp/eval_phase/test_stream/Exp000</td><td>▁</td></tr><tr><td>Loss_Exp/eval_phase/test_stream/Exp001</td><td>▁</td></tr><tr><td>Loss_Exp/eval_phase/test_stream/Exp002</td><td>▁</td></tr><tr><td>Loss_Exp/eval_phase/test_stream/Exp003</td><td>▁</td></tr><tr><td>Loss_Exp/eval_phase/test_stream/Exp004</td><td>▁</td></tr><tr><td>Loss_MB/train_phase/train_stream</td><td>█▇▇▇▆▆▆▅▅▅▅▄▄▄▄▄▃▃▃▃▃▃▂▂▂▂▂▂▂▂▁▁▁▁▁</td></tr><tr><td>Loss_Stream/eval_phase/test_stream</td><td>▄▃▁▆█</td></tr><tr><td>MaxGPU0Usage_Epoch/train_phase/train_stream</td><td>▁▁▁▁▁</td></tr><tr><td>MaxGPU0Usage_Experience/eval_phase/test_stream/Exp000</td><td>▁</td></tr><tr><td>MaxGPU0Usage_Experience/eval_phase/test_stream/Exp001</td><td>▁</td></tr><tr><td>MaxGPU0Usage_Experience/eval_phase/test_stream/Exp002</td><td>▁</td></tr><tr><td>MaxGPU0Usage_Experience/eval_phase/test_stream/Exp003</td><td>▁</td></tr><tr><td>MaxGPU0Usage_Experience/eval_phase/test_stream/Exp004</td><td>▁</td></tr><tr><td>MaxGPU0Usage_MB/train_phase/train_stream</td><td>██████▁██████▁██████▁██████▁██████▂</td></tr><tr><td>MaxGPU0Usage_Stream/eval_phase/test_stream</td><td>▁▁▁▁▁</td></tr><tr><td>RunningTime_Epoch/train_phase/train_stream</td><td>█▄▃▂▂▁▁█▄▂▂▁▁▁█▄▂▂▁▁▁█▄▂▂▁▁▁█▄▂▂▁▁▁</td></tr><tr><td>Time_Epoch/train_phase/train_stream</td><td>█▁▁▁▂</td></tr><tr><td>TrainingExperience</td><td>▁▃▅▆█</td></tr></table><br/></div><div class=\"wandb-col\"><h3>Run summary:</h3><br/><table class=\"wandb\"><tr><td>CPUUsage_Exp/eval_phase/test_stream/Exp000</td><td>54.4045</td></tr><tr><td>CPUUsage_Exp/eval_phase/test_stream/Exp001</td><td>49.32553</td></tr><tr><td>CPUUsage_Exp/eval_phase/test_stream/Exp002</td><td>47.42371</td></tr><tr><td>CPUUsage_Exp/eval_phase/test_stream/Exp003</td><td>49.56897</td></tr><tr><td>CPUUsage_Exp/eval_phase/test_stream/Exp004</td><td>49.7976</td></tr><tr><td>DiskUsage_Epoch/train_phase/train_stream</td><td>54090.15039</td></tr><tr><td>DiskUsage_Exp/eval_phase/test_stream/Exp000</td><td>54073.2793</td></tr><tr><td>DiskUsage_Exp/eval_phase/test_stream/Exp001</td><td>54079.19434</td></tr><tr><td>DiskUsage_Exp/eval_phase/test_stream/Exp002</td><td>54082.10742</td></tr><tr><td>DiskUsage_Exp/eval_phase/test_stream/Exp003</td><td>54087.83105</td></tr><tr><td>DiskUsage_Exp/eval_phase/test_stream/Exp004</td><td>54090.74414</td></tr><tr><td>DiskUsage_MB/train_phase/train_stream</td><td>54090.15039</td></tr><tr><td>DiskUsage_Stream/eval_phase/test_stream</td><td>54090.74414</td></tr><tr><td>Loss_Epoch/train_phase/train_stream</td><td>0.42109</td></tr><tr><td>Loss_Exp/eval_phase/test_stream/Exp000</td><td>1.26799</td></tr><tr><td>Loss_Exp/eval_phase/test_stream/Exp001</td><td>1.05232</td></tr><tr><td>Loss_Exp/eval_phase/test_stream/Exp002</td><td>0.78402</td></tr><tr><td>Loss_Exp/eval_phase/test_stream/Exp003</td><td>1.61805</td></tr><tr><td>Loss_Exp/eval_phase/test_stream/Exp004</td><td>1.96523</td></tr><tr><td>Loss_MB/train_phase/train_stream</td><td>0.37184</td></tr><tr><td>Loss_Stream/eval_phase/test_stream</td><td>1.96523</td></tr><tr><td>MaxGPU0Usage_Epoch/train_phase/train_stream</td><td>100.0</td></tr><tr><td>MaxGPU0Usage_Experience/eval_phase/test_stream/Exp000</td><td>100.0</td></tr><tr><td>MaxGPU0Usage_Experience/eval_phase/test_stream/Exp001</td><td>100.0</td></tr><tr><td>MaxGPU0Usage_Experience/eval_phase/test_stream/Exp002</td><td>100.0</td></tr><tr><td>MaxGPU0Usage_Experience/eval_phase/test_stream/Exp003</td><td>100.0</td></tr><tr><td>MaxGPU0Usage_Experience/eval_phase/test_stream/Exp004</td><td>100.0</td></tr><tr><td>MaxGPU0Usage_MB/train_phase/train_stream</td><td>18.0</td></tr><tr><td>MaxGPU0Usage_Stream/eval_phase/test_stream</td><td>100.0</td></tr><tr><td>RunningTime_Epoch/train_phase/train_stream</td><td>1.37435</td></tr><tr><td>Time_Epoch/train_phase/train_stream</td><td>59.48222</td></tr><tr><td>TrainingExperience</td><td>4</td></tr></table><br/></div></div>"
      ],
      "text/plain": [
       "<IPython.core.display.HTML object>"
      ]
     },
     "metadata": {},
     "output_type": "display_data"
    },
    {
     "data": {
      "text/html": [
       " View run <strong style=\"color:#cdcd00\">SI</strong> at: <a href='https://wandb.ai/kirigiri_suzumiya/UNet_CL/runs/oy4zdz1f' target=\"_blank\">https://wandb.ai/kirigiri_suzumiya/UNet_CL/runs/oy4zdz1f</a><br/>Synced 7 W&B file(s), 0 media file(s), 0 artifact file(s) and 1 other file(s)"
      ],
      "text/plain": [
       "<IPython.core.display.HTML object>"
      ]
     },
     "metadata": {},
     "output_type": "display_data"
    },
    {
     "data": {
      "text/html": [
       "Find logs at: <code>C:\\Users\\boyifan\\AppData\\Local\\Temp\\wandb\\run-20240501_202940-oy4zdz1f\\logs</code>"
      ],
      "text/plain": [
       "<IPython.core.display.HTML object>"
      ]
     },
     "metadata": {},
     "output_type": "display_data"
    }
   ],
   "source": [
    "wandb.finish()"
   ]
  },
  {
   "cell_type": "markdown",
   "metadata": {},
   "source": [
    "## Train using GEM"
   ]
  },
  {
   "cell_type": "code",
   "execution_count": 39,
   "metadata": {},
   "outputs": [],
   "source": [
    "func_name = \"GEM\""
   ]
  },
  {
   "cell_type": "code",
   "execution_count": 40,
   "metadata": {},
   "outputs": [],
   "source": [
    "model = UNet(n_channels=3, n_classes=4)"
   ]
  },
  {
   "cell_type": "code",
   "execution_count": 41,
   "metadata": {},
   "outputs": [
    {
     "name": "stderr",
     "output_type": "stream",
     "text": [
      "\u001b[34m\u001b[1mwandb\u001b[0m: \u001b[33mWARNING\u001b[0m Path .\\log\\wandb\\GEM\\wandb\\ wasn't writable, using system temp directory.\n"
     ]
    },
    {
     "data": {
      "application/vnd.jupyter.widget-view+json": {
       "model_id": "7eaceb9142604980b8bda501ab0e3923",
       "version_major": 2,
       "version_minor": 0
      },
      "text/plain": [
       "VBox(children=(Label(value='Waiting for wandb.init()...\\r'), FloatProgress(value=0.011111111111111112, max=1.0…"
      ]
     },
     "metadata": {},
     "output_type": "display_data"
    },
    {
     "data": {
      "text/html": [
       "wandb version 0.16.6 is available!  To upgrade, please run:\n",
       " $ pip install wandb --upgrade"
      ],
      "text/plain": [
       "<IPython.core.display.HTML object>"
      ]
     },
     "metadata": {},
     "output_type": "display_data"
    },
    {
     "data": {
      "text/html": [
       "Tracking run with wandb version 0.16.4"
      ],
      "text/plain": [
       "<IPython.core.display.HTML object>"
      ]
     },
     "metadata": {},
     "output_type": "display_data"
    },
    {
     "data": {
      "text/html": [
       "Run data is saved locally in <code>C:\\Users\\boyifan\\AppData\\Local\\Temp\\wandb\\run-20240501_203617-yuw0sgc3</code>"
      ],
      "text/plain": [
       "<IPython.core.display.HTML object>"
      ]
     },
     "metadata": {},
     "output_type": "display_data"
    },
    {
     "data": {
      "text/html": [
       "Syncing run <strong><a href='https://wandb.ai/kirigiri_suzumiya/UNet_CL/runs/yuw0sgc3' target=\"_blank\">GEM</a></strong> to <a href='https://wandb.ai/kirigiri_suzumiya/UNet_CL' target=\"_blank\">Weights & Biases</a> (<a href='https://wandb.me/run' target=\"_blank\">docs</a>)<br/>"
      ],
      "text/plain": [
       "<IPython.core.display.HTML object>"
      ]
     },
     "metadata": {},
     "output_type": "display_data"
    },
    {
     "data": {
      "text/html": [
       " View project at <a href='https://wandb.ai/kirigiri_suzumiya/UNet_CL' target=\"_blank\">https://wandb.ai/kirigiri_suzumiya/UNet_CL</a>"
      ],
      "text/plain": [
       "<IPython.core.display.HTML object>"
      ]
     },
     "metadata": {},
     "output_type": "display_data"
    },
    {
     "data": {
      "text/html": [
       " View run at <a href='https://wandb.ai/kirigiri_suzumiya/UNet_CL/runs/yuw0sgc3' target=\"_blank\">https://wandb.ai/kirigiri_suzumiya/UNet_CL/runs/yuw0sgc3</a>"
      ],
      "text/plain": [
       "<IPython.core.display.HTML object>"
      ]
     },
     "metadata": {},
     "output_type": "display_data"
    }
   ],
   "source": [
    "# DEFINE THE EVALUATION PLUGIN and LOGGERS\n",
    "# The evaluation plugin manages the metrics computation.\n",
    "# It takes as argument a list of metrics, collectes their results and returns\n",
    "# them to the strategy it is attached to.\n",
    "\n",
    "# log to Tensorboard\n",
    "tb_logger = TensorboardLogger(f\"./log/tb_data/{func_name}\")\n",
    "\n",
    "wandb_logger = WandBLogger(project_name=\"UNet_CL\",\n",
    "                           run_name=func_name,\n",
    "                           path=f\".\\log\\checkpoint\\{func_name}\",\n",
    "                           dir=f\".\\log\\wandb\\{func_name}\")\n",
    "\n",
    "# log to text file\n",
    "text_logger = TextLogger(open(f'./log/{func_name}.txt', 'a'))\n",
    "\n",
    "# print to stdout\n",
    "interactive_logger = InteractiveLogger()"
   ]
  },
  {
   "cell_type": "code",
   "execution_count": 42,
   "metadata": {},
   "outputs": [],
   "source": [
    "# CREATE THE STRATEGY INSTANCE (GEM)\n",
    "optimizer = optim.RMSprop(model.parameters(),\n",
    "                          lr=learning_rate, \n",
    "                          weight_decay=weight_decay, \n",
    "                          momentum=momentum, \n",
    "                          foreach=True)\n",
    "\n",
    "eval_plugin = EvaluationPlugin(\n",
    "    loss_metrics(minibatch=True, epoch=True, experience=True, stream=True),\n",
    "    timing_metrics(epoch=True, epoch_running=True),\n",
    "    cpu_usage_metrics(experience=True),\n",
    "    disk_usage_metrics(minibatch=True, epoch=True, experience=True, stream=True),\n",
    "    gpu_usage_metrics(gpu_id=0, minibatch=True, epoch=True, experience=True, stream=True),\n",
    "    loggers=[interactive_logger, text_logger, tb_logger, wandb_logger]\n",
    ")\n"
   ]
  },
  {
   "cell_type": "code",
   "execution_count": 43,
   "metadata": {},
   "outputs": [],
   "source": [
    "from avalanche.training import GEM\n",
    "cl_strategy = GEM(\n",
    "    model=model, \n",
    "    optimizer=optimizer,\n",
    "    criterion=CrossEntropyLoss(), \n",
    "    patterns_per_exp=10,\n",
    "    train_mb_size=batch_size, \n",
    "    train_epochs=epochs,\n",
    "    device=\"cuda:0\",\n",
    "    eval_mb_size=batch_size,\n",
    "    evaluator=eval_plugin)"
   ]
  },
  {
   "cell_type": "code",
   "execution_count": 44,
   "metadata": {},
   "outputs": [
    {
     "name": "stdout",
     "output_type": "stream",
     "text": [
      "Starting experiment...\n",
      "-- >> Start of training phase << --\n",
      "100%|████████████████████████████████████████████████████████████████████████████████████| 7/7 [00:59<00:00,  8.55s/it]\n",
      "Epoch 0 ended.\n",
      "\tDiskUsage_Epoch/train_phase/train_stream = 54112.4238\n",
      "\tDiskUsage_MB/train_phase/train_stream = 54112.4238\n",
      "\tLoss_Epoch/train_phase/train_stream = 0.9938\n",
      "\tLoss_MB/train_phase/train_stream = 0.8568\n",
      "\tMaxGPU0Usage_Epoch/train_phase/train_stream = 100.0000\n",
      "\tMaxGPU0Usage_MB/train_phase/train_stream = 6.0000\n",
      "\tRunningTime_Epoch/train_phase/train_stream = 1.4302\n",
      "\tTime_Epoch/train_phase/train_stream = 59.6464\n",
      "-- >> End of training phase << --\n",
      "Training completed\n",
      "Computing accuracy on the whole test set\n",
      "-- >> Start of eval phase << --\n",
      "-- Starting eval on experience 0 from test stream --\n",
      "100%|████████████████████████████████████████████████████████████████████████████████████| 7/7 [00:15<00:00,  2.18s/it]\n",
      "> Eval on experience 0 from test stream ended.\n",
      "\tCPUUsage_Exp/eval_phase/test_stream/Exp000 = 50.0074\n",
      "\tDiskUsage_Exp/eval_phase/test_stream/Exp000 = 54113.0176\n",
      "\tLoss_Exp/eval_phase/test_stream/Exp000 = 1.2377\n",
      "\tMaxGPU0Usage_Experience/eval_phase/test_stream/Exp000 = 100.0000\n",
      "-- >> End of eval phase << --\n",
      "\tDiskUsage_Stream/eval_phase/test_stream = 54113.0176\n",
      "\tLoss_Stream/eval_phase/test_stream = 1.2377\n",
      "\tMaxGPU0Usage_Stream/eval_phase/test_stream = 100.0000\n",
      "-- >> Start of training phase << --\n",
      "100%|████████████████████████████████████████████████████████████████████████████████████| 7/7 [04:06<00:00, 35.28s/it]\n",
      "Epoch 0 ended.\n",
      "\tDiskUsage_Epoch/train_phase/train_stream = 54119.6592\n",
      "\tDiskUsage_MB/train_phase/train_stream = 54119.6592\n",
      "\tLoss_Epoch/train_phase/train_stream = 0.7586\n",
      "\tLoss_MB/train_phase/train_stream = 0.6843\n",
      "\tMaxGPU0Usage_Epoch/train_phase/train_stream = 100.0000\n",
      "\tMaxGPU0Usage_MB/train_phase/train_stream = 100.0000\n",
      "\tRunningTime_Epoch/train_phase/train_stream = 5.2106\n",
      "\tTime_Epoch/train_phase/train_stream = 246.7471\n",
      "-- >> End of training phase << --\n",
      "Training completed\n",
      "Computing accuracy on the whole test set\n",
      "-- >> Start of eval phase << --\n",
      "-- Starting eval on experience 1 from test stream --\n",
      "100%|████████████████████████████████████████████████████████████████████████████████████| 7/7 [00:15<00:00,  2.20s/it]\n",
      "> Eval on experience 1 from test stream ended.\n",
      "\tCPUUsage_Exp/eval_phase/test_stream/Exp001 = 46.8535\n",
      "\tDiskUsage_Exp/eval_phase/test_stream/Exp001 = 54120.2529\n",
      "\tLoss_Exp/eval_phase/test_stream/Exp001 = 0.8027\n",
      "\tMaxGPU0Usage_Experience/eval_phase/test_stream/Exp001 = 100.0000\n",
      "-- >> End of eval phase << --\n",
      "\tDiskUsage_Stream/eval_phase/test_stream = 54120.2529\n",
      "\tLoss_Stream/eval_phase/test_stream = 0.8027\n",
      "\tMaxGPU0Usage_Stream/eval_phase/test_stream = 100.0000\n",
      "-- >> Start of training phase << --\n",
      "100%|████████████████████████████████████████████████████████████████████████████████████| 7/7 [07:24<00:00, 63.47s/it]\n",
      "Epoch 0 ended.\n",
      "\tDiskUsage_Epoch/train_phase/train_stream = 54124.5205\n",
      "\tDiskUsage_MB/train_phase/train_stream = 54124.5205\n",
      "\tLoss_Epoch/train_phase/train_stream = 0.5958\n",
      "\tLoss_MB/train_phase/train_stream = 0.5475\n",
      "\tMaxGPU0Usage_Epoch/train_phase/train_stream = 100.0000\n",
      "\tMaxGPU0Usage_MB/train_phase/train_stream = 100.0000\n",
      "\tRunningTime_Epoch/train_phase/train_stream = 8.7131\n",
      "\tTime_Epoch/train_phase/train_stream = 444.1167\n",
      "-- >> End of training phase << --\n",
      "Training completed\n",
      "Computing accuracy on the whole test set\n",
      "-- >> Start of eval phase << --\n",
      "-- Starting eval on experience 2 from test stream --\n",
      "100%|████████████████████████████████████████████████████████████████████████████████████| 7/7 [00:15<00:00,  2.19s/it]\n",
      "> Eval on experience 2 from test stream ended.\n",
      "\tCPUUsage_Exp/eval_phase/test_stream/Exp002 = 45.4692\n",
      "\tDiskUsage_Exp/eval_phase/test_stream/Exp002 = 54125.1143\n",
      "\tLoss_Exp/eval_phase/test_stream/Exp002 = 0.4617\n",
      "\tMaxGPU0Usage_Experience/eval_phase/test_stream/Exp002 = 100.0000\n",
      "-- >> End of eval phase << --\n",
      "\tDiskUsage_Stream/eval_phase/test_stream = 54125.1143\n",
      "\tLoss_Stream/eval_phase/test_stream = 0.4617\n",
      "\tMaxGPU0Usage_Stream/eval_phase/test_stream = 100.0000\n",
      "-- >> Start of training phase << --\n",
      "100%|████████████████████████████████████████████████████████████████████████████████████| 7/7 [10:25<00:00, 89.41s/it]\n",
      "Epoch 0 ended.\n",
      "\tDiskUsage_Epoch/train_phase/train_stream = 54129.3584\n",
      "\tDiskUsage_MB/train_phase/train_stream = 54129.3584\n",
      "\tLoss_Epoch/train_phase/train_stream = 0.4843\n",
      "\tLoss_MB/train_phase/train_stream = 0.4389\n",
      "\tMaxGPU0Usage_Epoch/train_phase/train_stream = 100.0000\n",
      "\tMaxGPU0Usage_MB/train_phase/train_stream = 100.0000\n",
      "\tRunningTime_Epoch/train_phase/train_stream = 13.1614\n",
      "\tTime_Epoch/train_phase/train_stream = 625.6636\n",
      "-- >> End of training phase << --\n",
      "Training completed\n",
      "Computing accuracy on the whole test set\n",
      "-- >> Start of eval phase << --\n",
      "-- Starting eval on experience 3 from test stream --\n",
      "100%|████████████████████████████████████████████████████████████████████████████████████| 7/7 [00:15<00:00,  2.20s/it]\n",
      "> Eval on experience 3 from test stream ended.\n",
      "\tCPUUsage_Exp/eval_phase/test_stream/Exp003 = 50.4061\n",
      "\tDiskUsage_Exp/eval_phase/test_stream/Exp003 = 54129.9521\n",
      "\tLoss_Exp/eval_phase/test_stream/Exp003 = 0.4113\n",
      "\tMaxGPU0Usage_Experience/eval_phase/test_stream/Exp003 = 100.0000\n",
      "-- >> End of eval phase << --\n",
      "\tDiskUsage_Stream/eval_phase/test_stream = 54129.9521\n",
      "\tLoss_Stream/eval_phase/test_stream = 0.4113\n",
      "\tMaxGPU0Usage_Stream/eval_phase/test_stream = 100.0000\n",
      "-- >> Start of training phase << --\n",
      "100%|███████████████████████████████████████████████████████████████████████████████████| 7/7 [13:04<00:00, 112.02s/it]\n",
      "Epoch 0 ended.\n",
      "\tDiskUsage_Epoch/train_phase/train_stream = 54134.2207\n",
      "\tDiskUsage_MB/train_phase/train_stream = 54134.2207\n",
      "\tLoss_Epoch/train_phase/train_stream = 0.3932\n",
      "\tLoss_MB/train_phase/train_stream = 0.3828\n",
      "\tMaxGPU0Usage_Epoch/train_phase/train_stream = 100.0000\n",
      "\tMaxGPU0Usage_MB/train_phase/train_stream = 100.0000\n",
      "\tRunningTime_Epoch/train_phase/train_stream = 16.9502\n",
      "\tTime_Epoch/train_phase/train_stream = 783.9995\n",
      "-- >> End of training phase << --\n",
      "Training completed\n",
      "Computing accuracy on the whole test set\n",
      "-- >> Start of eval phase << --\n",
      "-- Starting eval on experience 4 from test stream --\n",
      "100%|████████████████████████████████████████████████████████████████████████████████████| 7/7 [00:21<00:00,  3.07s/it]\n",
      "> Eval on experience 4 from test stream ended.\n",
      "\tCPUUsage_Exp/eval_phase/test_stream/Exp004 = 50.5789\n",
      "\tDiskUsage_Exp/eval_phase/test_stream/Exp004 = 54134.8145\n",
      "\tLoss_Exp/eval_phase/test_stream/Exp004 = 0.3012\n",
      "\tMaxGPU0Usage_Experience/eval_phase/test_stream/Exp004 = 100.0000\n",
      "-- >> End of eval phase << --\n",
      "\tDiskUsage_Stream/eval_phase/test_stream = 54134.8145\n",
      "\tLoss_Stream/eval_phase/test_stream = 0.3012\n",
      "\tMaxGPU0Usage_Stream/eval_phase/test_stream = 100.0000\n"
     ]
    }
   ],
   "source": [
    "# TRAINING LOOP\n",
    "print('Starting experiment...')\n",
    "results = []\n",
    "for i, experience in enumerate(bm.train_stream):\n",
    "# if True:\n",
    "    # print(\"Start of experience: \", experience.current_experience)\n",
    "    # print(\"Current Classes: \", experience.classes_in_this_experience)\n",
    "\n",
    "    # train returns a dictionary which contains all the metric values\n",
    "    res = cl_strategy.train(experience)\n",
    "    print('Training completed')\n",
    "\n",
    "    print('Computing accuracy on the whole test set')\n",
    "    # test also returns a dictionary which contains all the metric values\n",
    "    results.append(cl_strategy.eval(bm.test_stream[i]))"
   ]
  },
  {
   "cell_type": "code",
   "execution_count": 45,
   "metadata": {},
   "outputs": [],
   "source": [
    "import pickle\n",
    "pickle.dump(results,open(f\"./log/eval/{func_name}.pkl\",\"wb\"))"
   ]
  },
  {
   "cell_type": "code",
   "execution_count": 46,
   "metadata": {},
   "outputs": [
    {
     "data": {
      "application/vnd.jupyter.widget-view+json": {
       "model_id": "",
       "version_major": 2,
       "version_minor": 0
      },
      "text/plain": [
       "VBox(children=(Label(value='0.118 MB of 0.142 MB uploaded\\r'), FloatProgress(value=0.8299167972989268, max=1.0…"
      ]
     },
     "metadata": {},
     "output_type": "display_data"
    },
    {
     "data": {
      "text/html": [
       "<style>\n",
       "    table.wandb td:nth-child(1) { padding: 0 10px; text-align: left ; width: auto;} td:nth-child(2) {text-align: left ; width: 100%}\n",
       "    .wandb-row { display: flex; flex-direction: row; flex-wrap: wrap; justify-content: flex-start; width: 100% }\n",
       "    .wandb-col { display: flex; flex-direction: column; flex-basis: 100%; flex: 1; padding: 10px; }\n",
       "    </style>\n",
       "<div class=\"wandb-row\"><div class=\"wandb-col\"><h3>Run history:</h3><br/><table class=\"wandb\"><tr><td>CPUUsage_Exp/eval_phase/test_stream/Exp000</td><td>▁</td></tr><tr><td>CPUUsage_Exp/eval_phase/test_stream/Exp001</td><td>▁</td></tr><tr><td>CPUUsage_Exp/eval_phase/test_stream/Exp002</td><td>▁</td></tr><tr><td>CPUUsage_Exp/eval_phase/test_stream/Exp003</td><td>▁</td></tr><tr><td>CPUUsage_Exp/eval_phase/test_stream/Exp004</td><td>▁</td></tr><tr><td>DiskUsage_Epoch/train_phase/train_stream</td><td>▁▃▅▆█</td></tr><tr><td>DiskUsage_Exp/eval_phase/test_stream/Exp000</td><td>▁</td></tr><tr><td>DiskUsage_Exp/eval_phase/test_stream/Exp001</td><td>▁</td></tr><tr><td>DiskUsage_Exp/eval_phase/test_stream/Exp002</td><td>▁</td></tr><tr><td>DiskUsage_Exp/eval_phase/test_stream/Exp003</td><td>▁</td></tr><tr><td>DiskUsage_Exp/eval_phase/test_stream/Exp004</td><td>▁</td></tr><tr><td>DiskUsage_MB/train_phase/train_stream</td><td>▁▁▁▁▁▁▂▂▃▃▃▃▄▄▅▅▅▅▅▅▅▆▆▆▆▆▆▇▇██████</td></tr><tr><td>DiskUsage_Stream/eval_phase/test_stream</td><td>▁▃▅▆█</td></tr><tr><td>Loss_Epoch/train_phase/train_stream</td><td>█▅▃▂▁</td></tr><tr><td>Loss_Exp/eval_phase/test_stream/Exp000</td><td>▁</td></tr><tr><td>Loss_Exp/eval_phase/test_stream/Exp001</td><td>▁</td></tr><tr><td>Loss_Exp/eval_phase/test_stream/Exp002</td><td>▁</td></tr><tr><td>Loss_Exp/eval_phase/test_stream/Exp003</td><td>▁</td></tr><tr><td>Loss_Exp/eval_phase/test_stream/Exp004</td><td>▁</td></tr><tr><td>Loss_MB/train_phase/train_stream</td><td>█▇▇▇▆▆▅▅▅▅▅▄▄▄▄▃▃▃▃▃▃▂▂▂▂▂▂▂▂▁▁▁▁▁▁</td></tr><tr><td>Loss_Stream/eval_phase/test_stream</td><td>█▅▂▂▁</td></tr><tr><td>MaxGPU0Usage_Epoch/train_phase/train_stream</td><td>▁▁▁▁▁</td></tr><tr><td>MaxGPU0Usage_Experience/eval_phase/test_stream/Exp000</td><td>▁</td></tr><tr><td>MaxGPU0Usage_Experience/eval_phase/test_stream/Exp001</td><td>▁</td></tr><tr><td>MaxGPU0Usage_Experience/eval_phase/test_stream/Exp002</td><td>▁</td></tr><tr><td>MaxGPU0Usage_Experience/eval_phase/test_stream/Exp003</td><td>▁</td></tr><tr><td>MaxGPU0Usage_Experience/eval_phase/test_stream/Exp004</td><td>▁</td></tr><tr><td>MaxGPU0Usage_MB/train_phase/train_stream</td><td>██████▁████████████████████████████</td></tr><tr><td>MaxGPU0Usage_Stream/eval_phase/test_stream</td><td>▁▁▁▁▁</td></tr><tr><td>RunningTime_Epoch/train_phase/train_stream</td><td>▂▁▁▁▁▁▁▃▂▂▁▁▁▁▅▃▂▂▂▂▁▆▄▃▂▂▂▂█▄▃▃▂▂▂</td></tr><tr><td>Time_Epoch/train_phase/train_stream</td><td>▁▃▅▆█</td></tr><tr><td>TrainingExperience</td><td>▁▃▅▆█</td></tr></table><br/></div><div class=\"wandb-col\"><h3>Run summary:</h3><br/><table class=\"wandb\"><tr><td>CPUUsage_Exp/eval_phase/test_stream/Exp000</td><td>50.0074</td></tr><tr><td>CPUUsage_Exp/eval_phase/test_stream/Exp001</td><td>46.85353</td></tr><tr><td>CPUUsage_Exp/eval_phase/test_stream/Exp002</td><td>45.46922</td></tr><tr><td>CPUUsage_Exp/eval_phase/test_stream/Exp003</td><td>50.40614</td></tr><tr><td>CPUUsage_Exp/eval_phase/test_stream/Exp004</td><td>50.57892</td></tr><tr><td>DiskUsage_Epoch/train_phase/train_stream</td><td>54134.2207</td></tr><tr><td>DiskUsage_Exp/eval_phase/test_stream/Exp000</td><td>54113.01758</td></tr><tr><td>DiskUsage_Exp/eval_phase/test_stream/Exp001</td><td>54120.25293</td></tr><tr><td>DiskUsage_Exp/eval_phase/test_stream/Exp002</td><td>54125.11426</td></tr><tr><td>DiskUsage_Exp/eval_phase/test_stream/Exp003</td><td>54129.95215</td></tr><tr><td>DiskUsage_Exp/eval_phase/test_stream/Exp004</td><td>54134.81445</td></tr><tr><td>DiskUsage_MB/train_phase/train_stream</td><td>54134.2207</td></tr><tr><td>DiskUsage_Stream/eval_phase/test_stream</td><td>54134.81445</td></tr><tr><td>Loss_Epoch/train_phase/train_stream</td><td>0.3932</td></tr><tr><td>Loss_Exp/eval_phase/test_stream/Exp000</td><td>1.23768</td></tr><tr><td>Loss_Exp/eval_phase/test_stream/Exp001</td><td>0.80266</td></tr><tr><td>Loss_Exp/eval_phase/test_stream/Exp002</td><td>0.46168</td></tr><tr><td>Loss_Exp/eval_phase/test_stream/Exp003</td><td>0.41135</td></tr><tr><td>Loss_Exp/eval_phase/test_stream/Exp004</td><td>0.30115</td></tr><tr><td>Loss_MB/train_phase/train_stream</td><td>0.38279</td></tr><tr><td>Loss_Stream/eval_phase/test_stream</td><td>0.30115</td></tr><tr><td>MaxGPU0Usage_Epoch/train_phase/train_stream</td><td>100.0</td></tr><tr><td>MaxGPU0Usage_Experience/eval_phase/test_stream/Exp000</td><td>100.0</td></tr><tr><td>MaxGPU0Usage_Experience/eval_phase/test_stream/Exp001</td><td>100.0</td></tr><tr><td>MaxGPU0Usage_Experience/eval_phase/test_stream/Exp002</td><td>100.0</td></tr><tr><td>MaxGPU0Usage_Experience/eval_phase/test_stream/Exp003</td><td>100.0</td></tr><tr><td>MaxGPU0Usage_Experience/eval_phase/test_stream/Exp004</td><td>100.0</td></tr><tr><td>MaxGPU0Usage_MB/train_phase/train_stream</td><td>100.0</td></tr><tr><td>MaxGPU0Usage_Stream/eval_phase/test_stream</td><td>100.0</td></tr><tr><td>RunningTime_Epoch/train_phase/train_stream</td><td>16.95015</td></tr><tr><td>Time_Epoch/train_phase/train_stream</td><td>783.99953</td></tr><tr><td>TrainingExperience</td><td>4</td></tr></table><br/></div></div>"
      ],
      "text/plain": [
       "<IPython.core.display.HTML object>"
      ]
     },
     "metadata": {},
     "output_type": "display_data"
    },
    {
     "data": {
      "text/html": [
       " View run <strong style=\"color:#cdcd00\">GEM</strong> at: <a href='https://wandb.ai/kirigiri_suzumiya/UNet_CL/runs/yuw0sgc3' target=\"_blank\">https://wandb.ai/kirigiri_suzumiya/UNet_CL/runs/yuw0sgc3</a><br/>Synced 7 W&B file(s), 0 media file(s), 0 artifact file(s) and 1 other file(s)"
      ],
      "text/plain": [
       "<IPython.core.display.HTML object>"
      ]
     },
     "metadata": {},
     "output_type": "display_data"
    },
    {
     "data": {
      "text/html": [
       "Find logs at: <code>C:\\Users\\boyifan\\AppData\\Local\\Temp\\wandb\\run-20240501_203617-yuw0sgc3\\logs</code>"
      ],
      "text/plain": [
       "<IPython.core.display.HTML object>"
      ]
     },
     "metadata": {},
     "output_type": "display_data"
    }
   ],
   "source": [
    "wandb.finish()"
   ]
  },
  {
   "cell_type": "code",
   "execution_count": null,
   "metadata": {},
   "outputs": [],
   "source": []
  }
 ],
 "metadata": {
  "kernelspec": {
   "display_name": "Python 3 (ipykernel)",
   "language": "python",
   "name": "python3"
  },
  "language_info": {
   "codemirror_mode": {
    "name": "ipython",
    "version": 3
   },
   "file_extension": ".py",
   "mimetype": "text/x-python",
   "name": "python",
   "nbconvert_exporter": "python",
   "pygments_lexer": "ipython3",
   "version": "3.8.19"
  }
 },
 "nbformat": 4,
 "nbformat_minor": 4
}
