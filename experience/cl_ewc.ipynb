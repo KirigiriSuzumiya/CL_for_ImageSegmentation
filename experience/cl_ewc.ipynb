{
 "cells": [
  {
   "cell_type": "markdown",
   "metadata": {},
   "source": [
    "# Experience"
   ]
  },
  {
   "cell_type": "markdown",
   "metadata": {},
   "source": [
    "## Import module"
   ]
  },
  {
   "cell_type": "code",
   "execution_count": 1,
   "metadata": {},
   "outputs": [
    {
     "name": "stderr",
     "output_type": "stream",
     "text": [
      "d:\\anaconda\\envs\\cl_env\\lib\\site-packages\\tqdm\\auto.py:21: TqdmWarning: IProgress not found. Please update jupyter and ipywidgets. See https://ipywidgets.readthedocs.io/en/stable/user_install.html\n",
      "  from .autonotebook import tqdm as notebook_tqdm\n"
     ]
    }
   ],
   "source": [
    "from utils import BasicDataset\n",
    "from unet import UNet\n",
    "from torch.nn import CrossEntropyLoss\n",
    "from avalanche.benchmarks.scenarios.dataset_scenario import benchmark_from_datasets\n",
    "from avalanche.evaluation.metrics import WeightCheckpoint, gpu_usage_metrics, \\\n",
    "    loss_metrics, timing_metrics, cpu_usage_metrics, disk_usage_metrics\n",
    "from avalanche.benchmarks.utils import AvalancheDataset\n",
    "from avalanche.logging import InteractiveLogger, TextLogger, WandBLogger, TensorboardLogger\n",
    "from avalanche.training.plugins import EvaluationPlugin\n",
    "from avalanche.training.supervised import Naive,EWC\n",
    "from avalanche.benchmarks.scenarios.supervised import class_incremental_benchmark\n",
    "from torch import optim\n",
    "import numpy as np\n",
    "import wandb"
   ]
  },
  {
   "cell_type": "markdown",
   "metadata": {},
   "source": [
    "## Prepare Dataset"
   ]
  },
  {
   "cell_type": "code",
   "execution_count": 2,
   "metadata": {},
   "outputs": [],
   "source": [
    "from avalanche.benchmarks import benchmark_from_datasets\n",
    "from avalanche.benchmarks.utils.data_attribute import DataAttribute\n",
    "import torch"
   ]
  },
  {
   "cell_type": "code",
   "execution_count": 3,
   "metadata": {},
   "outputs": [
    {
     "name": "stderr",
     "output_type": "stream",
     "text": [
      "100%|██████████| 51/51 [00:04<00:00, 10.92it/s]\n",
      "100%|██████████| 51/51 [00:04<00:00, 11.65it/s]\n",
      "100%|██████████| 51/51 [00:04<00:00, 10.64it/s]\n",
      "100%|██████████| 50/50 [00:04<00:00, 11.38it/s]\n",
      "100%|██████████| 50/50 [00:04<00:00, 12.25it/s]\n"
     ]
    }
   ],
   "source": [
    "aval_datasets = []\n",
    "for i in range(5):\n",
    "    train_dataset = BasicDataset(images_dir=f\"./data/train/img/{i}\",\n",
    "                                mask_dir=f\"./data/train/label/{i}\")\n",
    "    aval_dataset = AvalancheDataset([train_dataset],\n",
    "                                    data_attributes=[\n",
    "                                                    DataAttribute([0] * len(train_dataset), \"targets_task_labels\"),\n",
    "                                                    ])\n",
    "    aval_datasets.append(aval_dataset)"
   ]
  },
  {
   "cell_type": "code",
   "execution_count": 4,
   "metadata": {},
   "outputs": [],
   "source": [
    "bm = benchmark_from_datasets(train=aval_datasets,\n",
    "                             test=[aval_datasets[0]]*len(aval_datasets))"
   ]
  },
  {
   "cell_type": "code",
   "execution_count": 5,
   "metadata": {},
   "outputs": [
    {
     "name": "stdout",
     "output_type": "stream",
     "text": [
      "original training samples = 51\n"
     ]
    }
   ],
   "source": [
    "print(f\"original training samples = {len(bm.train_stream[0].dataset)}\")"
   ]
  },
  {
   "cell_type": "markdown",
   "metadata": {},
   "source": [
    "## Settings"
   ]
  },
  {
   "cell_type": "code",
   "execution_count": 6,
   "metadata": {},
   "outputs": [],
   "source": [
    "epochs = 1\n",
    "batch_size= 8\n",
    "learning_rate = 0.00001\n",
    "weight_decay = 0.00000001\n",
    "momentum = 0.999"
   ]
  },
  {
   "cell_type": "markdown",
   "metadata": {},
   "source": [
    "## Train using NAIVE"
   ]
  },
  {
   "cell_type": "code",
   "execution_count": 8,
   "metadata": {},
   "outputs": [],
   "source": [
    "func_name = \"NAIVE\""
   ]
  },
  {
   "cell_type": "code",
   "execution_count": 9,
   "metadata": {},
   "outputs": [],
   "source": [
    "model = UNet(n_channels=3, n_classes=4)"
   ]
  },
  {
   "cell_type": "code",
   "execution_count": 10,
   "metadata": {},
   "outputs": [
    {
     "name": "stderr",
     "output_type": "stream",
     "text": [
      "ERROR:wandb.jupyter:Failed to detect the name of this notebook, you can set it manually with the WANDB_NOTEBOOK_NAME environment variable to enable code saving.\n",
      "\u001b[34m\u001b[1mwandb\u001b[0m: Currently logged in as: \u001b[33mboyifan1\u001b[0m (\u001b[33mkirigiri_suzumiya\u001b[0m). Use \u001b[1m`wandb login --relogin`\u001b[0m to force relogin\n",
      "\u001b[34m\u001b[1mwandb\u001b[0m: \u001b[33mWARNING\u001b[0m Path ./log/wandb/NAIVE\\wandb\\ wasn't writable, using system temp directory.\n"
     ]
    },
    {
     "data": {
      "text/html": [
       "Tracking run with wandb version 0.16.6"
      ],
      "text/plain": [
       "<IPython.core.display.HTML object>"
      ]
     },
     "metadata": {},
     "output_type": "display_data"
    },
    {
     "data": {
      "text/html": [
       "Run data is saved locally in <code>C:\\Users\\boyif\\AppData\\Local\\Temp\\wandb\\run-20240501_122939-ti95a31a</code>"
      ],
      "text/plain": [
       "<IPython.core.display.HTML object>"
      ]
     },
     "metadata": {},
     "output_type": "display_data"
    },
    {
     "data": {
      "text/html": [
       "Syncing run <strong><a href='https://wandb.ai/kirigiri_suzumiya/Avalanche/runs/ti95a31a' target=\"_blank\">NAIVE</a></strong> to <a href='https://wandb.ai/kirigiri_suzumiya/Avalanche' target=\"_blank\">Weights & Biases</a> (<a href='https://wandb.me/run' target=\"_blank\">docs</a>)<br/>"
      ],
      "text/plain": [
       "<IPython.core.display.HTML object>"
      ]
     },
     "metadata": {},
     "output_type": "display_data"
    },
    {
     "data": {
      "text/html": [
       " View project at <a href='https://wandb.ai/kirigiri_suzumiya/Avalanche' target=\"_blank\">https://wandb.ai/kirigiri_suzumiya/Avalanche</a>"
      ],
      "text/plain": [
       "<IPython.core.display.HTML object>"
      ]
     },
     "metadata": {},
     "output_type": "display_data"
    },
    {
     "data": {
      "text/html": [
       " View run at <a href='https://wandb.ai/kirigiri_suzumiya/Avalanche/runs/ti95a31a' target=\"_blank\">https://wandb.ai/kirigiri_suzumiya/Avalanche/runs/ti95a31a</a>"
      ],
      "text/plain": [
       "<IPython.core.display.HTML object>"
      ]
     },
     "metadata": {},
     "output_type": "display_data"
    }
   ],
   "source": [
    "\n",
    "# DEFINE THE EVALUATION PLUGIN and LOGGERS\n",
    "# The evaluation plugin manages the metrics computation.\n",
    "# It takes as argument a list of metrics, collectes their results and returns\n",
    "# them to the strategy it is attached to.\n",
    "\n",
    "# log to Tensorboard\n",
    "tb_logger = TensorboardLogger(f\"./log/tb_data/{func_name}\")\n",
    "\n",
    "wandb_logger = WandBLogger(run_name=func_name,\n",
    "                           path=f\"./log/checkpoint/{func_name}\",\n",
    "                           dir=f\"./log/wandb/{func_name}\")\n",
    "\n",
    "# log to text file\n",
    "text_logger = TextLogger(open(f'./log/{func_name}.txt', 'a'))\n",
    "\n",
    "# print to stdout\n",
    "interactive_logger = InteractiveLogger()"
   ]
  },
  {
   "cell_type": "code",
   "execution_count": 11,
   "metadata": {},
   "outputs": [],
   "source": [
    "# CREATE THE STRATEGY INSTANCE (NAIVE)\n",
    "optimizer = optim.RMSprop(model.parameters(),\n",
    "                          lr=learning_rate, \n",
    "                          weight_decay=weight_decay, \n",
    "                          momentum=momentum, \n",
    "                          foreach=True)\n",
    "\n",
    "eval_plugin = EvaluationPlugin(\n",
    "    loss_metrics(minibatch=True, epoch=True, experience=True, stream=True),\n",
    "    timing_metrics(epoch=True, epoch_running=True),\n",
    "    cpu_usage_metrics(experience=True),\n",
    "    disk_usage_metrics(minibatch=True, epoch=True, experience=True, stream=True),\n",
    "    gpu_usage_metrics(gpu_id=0, minibatch=True, epoch=True, experience=True, stream=True),\n",
    "    loggers=[interactive_logger, text_logger, tb_logger, wandb_logger]\n",
    ")"
   ]
  },
  {
   "cell_type": "code",
   "execution_count": 12,
   "metadata": {},
   "outputs": [],
   "source": [
    "from avalanche.training import Naive\n",
    "cl_strategy = Naive(\n",
    "    model=model, \n",
    "    optimizer=optimizer,\n",
    "    criterion=CrossEntropyLoss(), \n",
    "    train_mb_size=batch_size, \n",
    "    train_epochs=epochs,\n",
    "    device=\"cuda:0\",\n",
    "    eval_mb_size=batch_size,\n",
    "    evaluator=eval_plugin)\n",
    "\n"
   ]
  },
  {
   "cell_type": "code",
   "execution_count": 14,
   "metadata": {},
   "outputs": [
    {
     "name": "stdout",
     "output_type": "stream",
     "text": [
      "Starting experiment...\n",
      "-- >> Start of training phase << --\n",
      "100%|██████████| 7/7 [05:44<00:00, 49.18s/it]\n",
      "Epoch 0 ended.\n",
      "\tDiskUsage_Epoch/train_phase/train_stream = 54033.4600\n",
      "\tDiskUsage_MB/train_phase/train_stream = 54033.4600\n",
      "\tLoss_Epoch/train_phase/train_stream = 1.4154\n",
      "\tLoss_MB/train_phase/train_stream = 1.2648\n",
      "\tMaxGPU0Usage_Epoch/train_phase/train_stream = 100.0000\n",
      "\tMaxGPU0Usage_MB/train_phase/train_stream = 100.0000\n",
      "\tRunningTime_Epoch/train_phase/train_stream = 10.9573\n",
      "\tTime_Epoch/train_phase/train_stream = 344.1592\n",
      "-- >> End of training phase << --\n",
      "Training completed\n",
      "Computing accuracy on the whole test set\n",
      "-- >> Start of eval phase << --\n",
      "-- Starting eval on experience 0 from test stream --\n",
      "100%|██████████| 7/7 [00:57<00:00,  8.20s/it]\n",
      "> Eval on experience 0 from test stream ended.\n",
      "\tCPUUsage_Exp/eval_phase/test_stream/Exp000 = 43.8914\n",
      "\tDiskUsage_Exp/eval_phase/test_stream/Exp000 = 54034.0537\n",
      "\tLoss_Exp/eval_phase/test_stream/Exp000 = 1.4168\n",
      "\tMaxGPU0Usage_Experience/eval_phase/test_stream/Exp000 = 100.0000\n",
      "-- >> End of eval phase << --\n",
      "\tDiskUsage_Stream/eval_phase/test_stream = 54034.0537\n",
      "\tLoss_Stream/eval_phase/test_stream = 1.4168\n",
      "\tMaxGPU0Usage_Stream/eval_phase/test_stream = 100.0000\n",
      "-- >> Start of training phase << --\n",
      "100%|██████████| 7/7 [05:07<00:00, 43.87s/it]\n",
      "Epoch 0 ended.\n",
      "\tDiskUsage_Epoch/train_phase/train_stream = 54036.3730\n",
      "\tDiskUsage_MB/train_phase/train_stream = 54036.3730\n",
      "\tLoss_Epoch/train_phase/train_stream = 1.1446\n",
      "\tLoss_MB/train_phase/train_stream = 1.0416\n",
      "\tMaxGPU0Usage_Epoch/train_phase/train_stream = 100.0000\n",
      "\tMaxGPU0Usage_MB/train_phase/train_stream = 100.0000\n",
      "\tRunningTime_Epoch/train_phase/train_stream = 7.8613\n",
      "\tTime_Epoch/train_phase/train_stream = 306.9723\n",
      "-- >> End of training phase << --\n",
      "Training completed\n",
      "Computing accuracy on the whole test set\n",
      "-- >> Start of eval phase << --\n",
      "-- Starting eval on experience 1 from test stream --\n",
      "100%|██████████| 7/7 [01:01<00:00,  8.84s/it]\n",
      "> Eval on experience 1 from test stream ended.\n",
      "\tCPUUsage_Exp/eval_phase/test_stream/Exp001 = 37.2777\n",
      "\tDiskUsage_Exp/eval_phase/test_stream/Exp001 = 54036.9668\n",
      "\tLoss_Exp/eval_phase/test_stream/Exp001 = 1.2613\n",
      "\tMaxGPU0Usage_Experience/eval_phase/test_stream/Exp001 = 100.0000\n",
      "-- >> End of eval phase << --\n",
      "\tDiskUsage_Stream/eval_phase/test_stream = 54036.9668\n",
      "\tLoss_Stream/eval_phase/test_stream = 1.2613\n",
      "\tMaxGPU0Usage_Stream/eval_phase/test_stream = 100.0000\n",
      "-- >> Start of training phase << --\n",
      "100%|██████████| 7/7 [05:08<00:00, 44.13s/it]\n",
      "Epoch 0 ended.\n",
      "\tDiskUsage_Epoch/train_phase/train_stream = 54039.2861\n",
      "\tDiskUsage_MB/train_phase/train_stream = 54039.2861\n",
      "\tLoss_Epoch/train_phase/train_stream = 0.9198\n",
      "\tLoss_MB/train_phase/train_stream = 0.8289\n",
      "\tMaxGPU0Usage_Epoch/train_phase/train_stream = 100.0000\n",
      "\tMaxGPU0Usage_MB/train_phase/train_stream = 100.0000\n",
      "\tRunningTime_Epoch/train_phase/train_stream = 7.5337\n",
      "\tTime_Epoch/train_phase/train_stream = 308.8412\n",
      "-- >> End of training phase << --\n",
      "Training completed\n",
      "Computing accuracy on the whole test set\n",
      "-- >> Start of eval phase << --\n",
      "-- Starting eval on experience 2 from test stream --\n",
      "100%|██████████| 7/7 [00:55<00:00,  7.86s/it]\n",
      "> Eval on experience 2 from test stream ended.\n",
      "\tCPUUsage_Exp/eval_phase/test_stream/Exp002 = 38.1815\n",
      "\tDiskUsage_Exp/eval_phase/test_stream/Exp002 = 54039.8799\n",
      "\tLoss_Exp/eval_phase/test_stream/Exp002 = 1.6281\n",
      "\tMaxGPU0Usage_Experience/eval_phase/test_stream/Exp002 = 100.0000\n",
      "-- >> End of eval phase << --\n",
      "\tDiskUsage_Stream/eval_phase/test_stream = 54039.8799\n",
      "\tLoss_Stream/eval_phase/test_stream = 1.6281\n",
      "\tMaxGPU0Usage_Stream/eval_phase/test_stream = 100.0000\n",
      "-- >> Start of training phase << --\n",
      "100%|██████████| 7/7 [04:56<00:00, 42.29s/it]\n",
      "Epoch 0 ended.\n",
      "\tDiskUsage_Epoch/train_phase/train_stream = 54042.1992\n",
      "\tDiskUsage_MB/train_phase/train_stream = 54042.1992\n",
      "\tLoss_Epoch/train_phase/train_stream = 0.7403\n",
      "\tLoss_MB/train_phase/train_stream = 0.6866\n",
      "\tMaxGPU0Usage_Epoch/train_phase/train_stream = 100.0000\n",
      "\tMaxGPU0Usage_MB/train_phase/train_stream = 100.0000\n",
      "\tRunningTime_Epoch/train_phase/train_stream = 7.0099\n",
      "\tTime_Epoch/train_phase/train_stream = 295.9532\n",
      "-- >> End of training phase << --\n",
      "Training completed\n",
      "Computing accuracy on the whole test set\n",
      "-- >> Start of eval phase << --\n",
      "-- Starting eval on experience 3 from test stream --\n",
      "100%|██████████| 7/7 [00:54<00:00,  7.77s/it]\n",
      "> Eval on experience 3 from test stream ended.\n",
      "\tCPUUsage_Exp/eval_phase/test_stream/Exp003 = 46.4199\n",
      "\tDiskUsage_Exp/eval_phase/test_stream/Exp003 = 54042.7930\n",
      "\tLoss_Exp/eval_phase/test_stream/Exp003 = 1.4830\n",
      "\tMaxGPU0Usage_Experience/eval_phase/test_stream/Exp003 = 100.0000\n",
      "-- >> End of eval phase << --\n",
      "\tDiskUsage_Stream/eval_phase/test_stream = 54042.7930\n",
      "\tLoss_Stream/eval_phase/test_stream = 1.4830\n",
      "\tMaxGPU0Usage_Stream/eval_phase/test_stream = 100.0000\n",
      "-- >> Start of training phase << --\n",
      "100%|██████████| 7/7 [04:49<00:00, 41.38s/it]\n",
      "Epoch 0 ended.\n",
      "\tDiskUsage_Epoch/train_phase/train_stream = 54045.1123\n",
      "\tDiskUsage_MB/train_phase/train_stream = 54045.1123\n",
      "\tLoss_Epoch/train_phase/train_stream = 0.5992\n",
      "\tLoss_MB/train_phase/train_stream = 0.5541\n",
      "\tMaxGPU0Usage_Epoch/train_phase/train_stream = 100.0000\n",
      "\tMaxGPU0Usage_MB/train_phase/train_stream = 100.0000\n",
      "\tRunningTime_Epoch/train_phase/train_stream = 6.8756\n",
      "\tTime_Epoch/train_phase/train_stream = 289.6132\n",
      "-- >> End of training phase << --\n",
      "Training completed\n",
      "Computing accuracy on the whole test set\n",
      "-- >> Start of eval phase << --\n",
      "-- Starting eval on experience 4 from test stream --\n",
      "100%|██████████| 7/7 [00:54<00:00,  7.78s/it]\n",
      "> Eval on experience 4 from test stream ended.\n",
      "\tCPUUsage_Exp/eval_phase/test_stream/Exp004 = 43.6516\n",
      "\tDiskUsage_Exp/eval_phase/test_stream/Exp004 = 54045.7061\n",
      "\tLoss_Exp/eval_phase/test_stream/Exp004 = 0.7488\n",
      "\tMaxGPU0Usage_Experience/eval_phase/test_stream/Exp004 = 100.0000\n",
      "-- >> End of eval phase << --\n",
      "\tDiskUsage_Stream/eval_phase/test_stream = 54045.7061\n",
      "\tLoss_Stream/eval_phase/test_stream = 0.7488\n",
      "\tMaxGPU0Usage_Stream/eval_phase/test_stream = 100.0000\n"
     ]
    }
   ],
   "source": [
    "# TRAINING LOOP\n",
    "print('Starting experiment...')\n",
    "results = []\n",
    "for i, experience in enumerate(bm.train_stream):\n",
    "# if True:\n",
    "    # print(\"Start of experience: \", experience.current_experience)\n",
    "    # print(\"Current Classes: \", experience.classes_in_this_experience)\n",
    "\n",
    "    # train returns a dictionary which contains all the metric values\n",
    "    res = cl_strategy.train(experience)\n",
    "    print('Training completed')\n",
    "\n",
    "    print('Computing accuracy on the whole test set')\n",
    "    # test also returns a dictionary which contains all the metric values\n",
    "    results.append(cl_strategy.eval(bm.test_stream[i]))"
   ]
  },
  {
   "cell_type": "code",
   "execution_count": 17,
   "metadata": {},
   "outputs": [],
   "source": [
    "import pickle\n",
    "pickle.dump(results,open(f\"./log/eval/{func_name}.pkl\",\"wb\"))"
   ]
  },
  {
   "cell_type": "markdown",
   "metadata": {},
   "source": [
    "## Train using EWC"
   ]
  },
  {
   "cell_type": "code",
   "execution_count": 8,
   "metadata": {},
   "outputs": [],
   "source": [
    "func_name = \"EWC\""
   ]
  },
  {
   "cell_type": "code",
   "execution_count": 9,
   "metadata": {},
   "outputs": [],
   "source": [
    "model = UNet(n_channels=3, n_classes=4)"
   ]
  },
  {
   "cell_type": "code",
   "execution_count": 10,
   "metadata": {},
   "outputs": [
    {
     "name": "stderr",
     "output_type": "stream",
     "text": [
      "ERROR:wandb.jupyter:Failed to detect the name of this notebook, you can set it manually with the WANDB_NOTEBOOK_NAME environment variable to enable code saving.\n",
      "\u001b[34m\u001b[1mwandb\u001b[0m: Currently logged in as: \u001b[33mboyifan1\u001b[0m (\u001b[33mkirigiri_suzumiya\u001b[0m). Use \u001b[1m`wandb login --relogin`\u001b[0m to force relogin\n",
      "\u001b[34m\u001b[1mwandb\u001b[0m: \u001b[33mWARNING\u001b[0m Path .\\log\\wandb\\EWC\\wandb\\ wasn't writable, using system temp directory.\n"
     ]
    },
    {
     "data": {
      "text/html": [
       "Tracking run with wandb version 0.16.6"
      ],
      "text/plain": [
       "<IPython.core.display.HTML object>"
      ]
     },
     "metadata": {},
     "output_type": "display_data"
    },
    {
     "data": {
      "text/html": [
       "Run data is saved locally in <code>C:\\Users\\boyif\\AppData\\Local\\Temp\\wandb\\run-20240501_131718-sqh04axy</code>"
      ],
      "text/plain": [
       "<IPython.core.display.HTML object>"
      ]
     },
     "metadata": {},
     "output_type": "display_data"
    },
    {
     "data": {
      "text/html": [
       "Syncing run <strong><a href='https://wandb.ai/kirigiri_suzumiya/Avalanche/runs/sqh04axy' target=\"_blank\">EWC</a></strong> to <a href='https://wandb.ai/kirigiri_suzumiya/Avalanche' target=\"_blank\">Weights & Biases</a> (<a href='https://wandb.me/run' target=\"_blank\">docs</a>)<br/>"
      ],
      "text/plain": [
       "<IPython.core.display.HTML object>"
      ]
     },
     "metadata": {},
     "output_type": "display_data"
    },
    {
     "data": {
      "text/html": [
       " View project at <a href='https://wandb.ai/kirigiri_suzumiya/Avalanche' target=\"_blank\">https://wandb.ai/kirigiri_suzumiya/Avalanche</a>"
      ],
      "text/plain": [
       "<IPython.core.display.HTML object>"
      ]
     },
     "metadata": {},
     "output_type": "display_data"
    },
    {
     "data": {
      "text/html": [
       " View run at <a href='https://wandb.ai/kirigiri_suzumiya/Avalanche/runs/sqh04axy' target=\"_blank\">https://wandb.ai/kirigiri_suzumiya/Avalanche/runs/sqh04axy</a>"
      ],
      "text/plain": [
       "<IPython.core.display.HTML object>"
      ]
     },
     "metadata": {},
     "output_type": "display_data"
    }
   ],
   "source": [
    "# DEFINE THE EVALUATION PLUGIN and LOGGERS\n",
    "# The evaluation plugin manages the metrics computation.\n",
    "# It takes as argument a list of metrics, collectes their results and returns\n",
    "# them to the strategy it is attached to.\n",
    "\n",
    "# log to Tensorboard\n",
    "tb_logger = TensorboardLogger(f\"./log/tb_data/{func_name}\")\n",
    "\n",
    "wandb_logger = WandBLogger(run_name=func_name,\n",
    "                           path=f\".\\log\\checkpoint\\{func_name}\",\n",
    "                           dir=f\".\\log\\wandb\\{func_name}\")\n",
    "\n",
    "# log to text file\n",
    "text_logger = TextLogger(open(f'./log/{func_name}.txt', 'a'))\n",
    "\n",
    "# print to stdout\n",
    "interactive_logger = InteractiveLogger()"
   ]
  },
  {
   "cell_type": "code",
   "execution_count": 11,
   "metadata": {},
   "outputs": [],
   "source": [
    "# CREATE THE STRATEGY INSTANCE (EWC)\n",
    "optimizer = optim.RMSprop(model.parameters(),\n",
    "                          lr=learning_rate, \n",
    "                          weight_decay=weight_decay, \n",
    "                          momentum=momentum, \n",
    "                          foreach=True)\n",
    "\n",
    "eval_plugin = EvaluationPlugin(\n",
    "    loss_metrics(minibatch=True, epoch=True, experience=True, stream=True),\n",
    "    timing_metrics(epoch=True, epoch_running=True),\n",
    "    cpu_usage_metrics(experience=True),\n",
    "    disk_usage_metrics(minibatch=True, epoch=True, experience=True, stream=True),\n",
    "    gpu_usage_metrics(gpu_id=0, minibatch=True, epoch=True, experience=True, stream=True),\n",
    "    loggers=[interactive_logger, text_logger, tb_logger, wandb_logger]\n",
    ")"
   ]
  },
  {
   "cell_type": "code",
   "execution_count": 12,
   "metadata": {},
   "outputs": [],
   "source": [
    "from avalanche.training import EWC\n",
    "cl_strategy = EWC(\n",
    "    model=model, \n",
    "    optimizer=optimizer,\n",
    "    criterion=CrossEntropyLoss(), \n",
    "    ewc_lambda=0.005,\n",
    "    train_mb_size=batch_size, \n",
    "    train_epochs=epochs,\n",
    "    device=\"cuda:0\",\n",
    "    eval_mb_size=batch_size,\n",
    "    evaluator=eval_plugin)\n",
    "\n",
    "\n"
   ]
  },
  {
   "cell_type": "code",
   "execution_count": 13,
   "metadata": {},
   "outputs": [
    {
     "name": "stdout",
     "output_type": "stream",
     "text": [
      "Starting experiment...\n",
      "-- >> Start of training phase << --\n",
      "100%|██████████| 7/7 [05:48<00:00, 49.84s/it]\n",
      "Epoch 0 ended.\n",
      "\tDiskUsage_Epoch/train_phase/train_stream = 54065.7539\n",
      "\tDiskUsage_MB/train_phase/train_stream = 54065.7539\n",
      "\tLoss_Epoch/train_phase/train_stream = 1.5289\n",
      "\tLoss_MB/train_phase/train_stream = 1.3414\n",
      "\tMaxGPU0Usage_Epoch/train_phase/train_stream = 100.0000\n",
      "\tMaxGPU0Usage_MB/train_phase/train_stream = 100.0000\n",
      "\tRunningTime_Epoch/train_phase/train_stream = 9.6164\n",
      "\tTime_Epoch/train_phase/train_stream = 348.7892\n",
      "-- >> End of training phase << --\n",
      "Training completed\n",
      "Computing accuracy on the whole test set\n",
      "-- >> Start of eval phase << --\n",
      "-- Starting eval on experience 0 from test stream --\n",
      "100%|██████████| 7/7 [01:19<00:00, 11.37s/it]\n",
      "> Eval on experience 0 from test stream ended.\n",
      "\tCPUUsage_Exp/eval_phase/test_stream/Exp000 = 32.6071\n",
      "\tDiskUsage_Exp/eval_phase/test_stream/Exp000 = 54067.7373\n",
      "\tLoss_Exp/eval_phase/test_stream/Exp000 = 1.4442\n",
      "\tMaxGPU0Usage_Experience/eval_phase/test_stream/Exp000 = 100.0000\n",
      "-- >> End of eval phase << --\n",
      "\tDiskUsage_Stream/eval_phase/test_stream = 54067.7373\n",
      "\tLoss_Stream/eval_phase/test_stream = 1.4442\n",
      "\tMaxGPU0Usage_Stream/eval_phase/test_stream = 100.0000\n",
      "-- >> Start of training phase << --\n",
      "100%|██████████| 7/7 [04:54<00:00, 42.01s/it]\n",
      "Epoch 0 ended.\n",
      "\tDiskUsage_Epoch/train_phase/train_stream = 54070.0566\n",
      "\tDiskUsage_MB/train_phase/train_stream = 54070.0566\n",
      "\tLoss_Epoch/train_phase/train_stream = 1.1647\n",
      "\tLoss_MB/train_phase/train_stream = 1.0390\n",
      "\tMaxGPU0Usage_Epoch/train_phase/train_stream = 100.0000\n",
      "\tMaxGPU0Usage_MB/train_phase/train_stream = 100.0000\n",
      "\tRunningTime_Epoch/train_phase/train_stream = 7.1216\n",
      "\tTime_Epoch/train_phase/train_stream = 293.9630\n",
      "-- >> End of training phase << --\n",
      "Training completed\n",
      "Computing accuracy on the whole test set\n",
      "-- >> Start of eval phase << --\n",
      "-- Starting eval on experience 1 from test stream --\n",
      "100%|██████████| 7/7 [01:04<00:00,  9.18s/it]\n",
      "> Eval on experience 1 from test stream ended.\n",
      "\tCPUUsage_Exp/eval_phase/test_stream/Exp001 = 45.0066\n",
      "\tDiskUsage_Exp/eval_phase/test_stream/Exp001 = 54070.6504\n",
      "\tLoss_Exp/eval_phase/test_stream/Exp001 = 1.4283\n",
      "\tMaxGPU0Usage_Experience/eval_phase/test_stream/Exp001 = 100.0000\n",
      "-- >> End of eval phase << --\n",
      "\tDiskUsage_Stream/eval_phase/test_stream = 54070.6504\n",
      "\tLoss_Stream/eval_phase/test_stream = 1.4283\n",
      "\tMaxGPU0Usage_Stream/eval_phase/test_stream = 100.0000\n",
      "-- >> Start of training phase << --\n",
      "100%|██████████| 7/7 [05:11<00:00, 44.44s/it]\n",
      "Epoch 0 ended.\n",
      "\tDiskUsage_Epoch/train_phase/train_stream = 54072.9697\n",
      "\tDiskUsage_MB/train_phase/train_stream = 54072.9697\n",
      "\tLoss_Epoch/train_phase/train_stream = 0.9334\n",
      "\tLoss_MB/train_phase/train_stream = 0.8482\n",
      "\tMaxGPU0Usage_Epoch/train_phase/train_stream = 100.0000\n",
      "\tMaxGPU0Usage_MB/train_phase/train_stream = 100.0000\n",
      "\tRunningTime_Epoch/train_phase/train_stream = 7.2223\n",
      "\tTime_Epoch/train_phase/train_stream = 311.0064\n",
      "-- >> End of training phase << --\n",
      "Training completed\n",
      "Computing accuracy on the whole test set\n",
      "-- >> Start of eval phase << --\n",
      "-- Starting eval on experience 2 from test stream --\n",
      "100%|██████████| 7/7 [01:09<00:00,  9.97s/it]\n",
      "> Eval on experience 2 from test stream ended.\n",
      "\tCPUUsage_Exp/eval_phase/test_stream/Exp002 = 44.0334\n",
      "\tDiskUsage_Exp/eval_phase/test_stream/Exp002 = 54073.5635\n",
      "\tLoss_Exp/eval_phase/test_stream/Exp002 = 0.9890\n",
      "\tMaxGPU0Usage_Experience/eval_phase/test_stream/Exp002 = 100.0000\n",
      "-- >> End of eval phase << --\n",
      "\tDiskUsage_Stream/eval_phase/test_stream = 54073.5635\n",
      "\tLoss_Stream/eval_phase/test_stream = 0.9890\n",
      "\tMaxGPU0Usage_Stream/eval_phase/test_stream = 100.0000\n",
      "-- >> Start of training phase << --\n",
      "100%|██████████| 7/7 [05:27<00:00, 46.82s/it]\n",
      "Epoch 0 ended.\n",
      "\tDiskUsage_Epoch/train_phase/train_stream = 54075.8828\n",
      "\tDiskUsage_MB/train_phase/train_stream = 54075.8828\n",
      "\tLoss_Epoch/train_phase/train_stream = 0.7773\n",
      "\tLoss_MB/train_phase/train_stream = 0.7139\n",
      "\tMaxGPU0Usage_Epoch/train_phase/train_stream = 100.0000\n",
      "\tMaxGPU0Usage_MB/train_phase/train_stream = 100.0000\n",
      "\tRunningTime_Epoch/train_phase/train_stream = 7.3691\n",
      "\tTime_Epoch/train_phase/train_stream = 327.6282\n",
      "-- >> End of training phase << --\n",
      "Training completed\n",
      "Computing accuracy on the whole test set\n",
      "-- >> Start of eval phase << --\n",
      "-- Starting eval on experience 3 from test stream --\n",
      "100%|██████████| 7/7 [00:56<00:00,  8.08s/it]\n",
      "> Eval on experience 3 from test stream ended.\n",
      "\tCPUUsage_Exp/eval_phase/test_stream/Exp003 = 42.5099\n",
      "\tDiskUsage_Exp/eval_phase/test_stream/Exp003 = 54076.4766\n",
      "\tLoss_Exp/eval_phase/test_stream/Exp003 = 0.8353\n",
      "\tMaxGPU0Usage_Experience/eval_phase/test_stream/Exp003 = 100.0000\n",
      "-- >> End of eval phase << --\n",
      "\tDiskUsage_Stream/eval_phase/test_stream = 54076.4766\n",
      "\tLoss_Stream/eval_phase/test_stream = 0.8353\n",
      "\tMaxGPU0Usage_Stream/eval_phase/test_stream = 100.0000\n",
      "-- >> Start of training phase << --\n",
      "100%|██████████| 7/7 [05:30<00:00, 47.27s/it]\n",
      "Epoch 0 ended.\n",
      "\tDiskUsage_Epoch/train_phase/train_stream = 54078.7959\n",
      "\tDiskUsage_MB/train_phase/train_stream = 54078.7959\n",
      "\tLoss_Epoch/train_phase/train_stream = 0.6537\n",
      "\tLoss_MB/train_phase/train_stream = 0.6048\n",
      "\tMaxGPU0Usage_Epoch/train_phase/train_stream = 100.0000\n",
      "\tMaxGPU0Usage_MB/train_phase/train_stream = 100.0000\n",
      "\tRunningTime_Epoch/train_phase/train_stream = 7.2240\n",
      "\tTime_Epoch/train_phase/train_stream = 330.7909\n",
      "-- >> End of training phase << --\n",
      "Training completed\n",
      "Computing accuracy on the whole test set\n",
      "-- >> Start of eval phase << --\n",
      "-- Starting eval on experience 4 from test stream --\n",
      "100%|██████████| 7/7 [00:54<00:00,  7.75s/it]\n",
      "> Eval on experience 4 from test stream ended.\n",
      "\tCPUUsage_Exp/eval_phase/test_stream/Exp004 = 45.3257\n",
      "\tDiskUsage_Exp/eval_phase/test_stream/Exp004 = 54079.3896\n",
      "\tLoss_Exp/eval_phase/test_stream/Exp004 = 0.7900\n",
      "\tMaxGPU0Usage_Experience/eval_phase/test_stream/Exp004 = 100.0000\n",
      "-- >> End of eval phase << --\n",
      "\tDiskUsage_Stream/eval_phase/test_stream = 54079.3896\n",
      "\tLoss_Stream/eval_phase/test_stream = 0.7900\n",
      "\tMaxGPU0Usage_Stream/eval_phase/test_stream = 100.0000\n"
     ]
    }
   ],
   "source": [
    "# TRAINING LOOP\n",
    "print('Starting experiment...')\n",
    "results = []\n",
    "for i, experience in enumerate(bm.train_stream):\n",
    "# if True:\n",
    "    # print(\"Start of experience: \", experience.current_experience)\n",
    "    # print(\"Current Classes: \", experience.classes_in_this_experience)\n",
    "\n",
    "    # train returns a dictionary which contains all the metric values\n",
    "    res = cl_strategy.train(experience)\n",
    "    print('Training completed')\n",
    "\n",
    "    print('Computing accuracy on the whole test set')\n",
    "    # test also returns a dictionary which contains all the metric values\n",
    "    results.append(cl_strategy.eval(bm.test_stream[i]))"
   ]
  },
  {
   "cell_type": "code",
   "execution_count": 14,
   "metadata": {},
   "outputs": [],
   "source": [
    "import pickle\n",
    "pickle.dump(results,open(f\"./log/eval/{func_name}.pkl\",\"wb\"))"
   ]
  },
  {
   "cell_type": "markdown",
   "metadata": {},
   "source": [
    "## Train using LFL"
   ]
  },
  {
   "cell_type": "code",
   "execution_count": 7,
   "metadata": {},
   "outputs": [],
   "source": [
    "func_name = \"LFL\""
   ]
  },
  {
   "cell_type": "code",
   "execution_count": 8,
   "metadata": {},
   "outputs": [],
   "source": [
    "model = UNet(n_channels=3, n_classes=4)"
   ]
  },
  {
   "cell_type": "code",
   "execution_count": 9,
   "metadata": {},
   "outputs": [
    {
     "name": "stderr",
     "output_type": "stream",
     "text": [
      "ERROR:wandb.jupyter:Failed to detect the name of this notebook, you can set it manually with the WANDB_NOTEBOOK_NAME environment variable to enable code saving.\n",
      "\u001b[34m\u001b[1mwandb\u001b[0m: Currently logged in as: \u001b[33mboyifan1\u001b[0m (\u001b[33mkirigiri_suzumiya\u001b[0m). Use \u001b[1m`wandb login --relogin`\u001b[0m to force relogin\n",
      "\u001b[34m\u001b[1mwandb\u001b[0m: \u001b[33mWARNING\u001b[0m Path .\\log\\wandb\\LFL\\wandb\\ wasn't writable, using system temp directory.\n"
     ]
    },
    {
     "data": {
      "text/html": [
       "Tracking run with wandb version 0.16.6"
      ],
      "text/plain": [
       "<IPython.core.display.HTML object>"
      ]
     },
     "metadata": {},
     "output_type": "display_data"
    },
    {
     "data": {
      "text/html": [
       "Run data is saved locally in <code>C:\\Users\\boyif\\AppData\\Local\\Temp\\wandb\\run-20240501_142320-pseywfaz</code>"
      ],
      "text/plain": [
       "<IPython.core.display.HTML object>"
      ]
     },
     "metadata": {},
     "output_type": "display_data"
    },
    {
     "data": {
      "text/html": [
       "Syncing run <strong><a href='https://wandb.ai/kirigiri_suzumiya/Avalanche/runs/pseywfaz' target=\"_blank\">LFL</a></strong> to <a href='https://wandb.ai/kirigiri_suzumiya/Avalanche' target=\"_blank\">Weights & Biases</a> (<a href='https://wandb.me/run' target=\"_blank\">docs</a>)<br/>"
      ],
      "text/plain": [
       "<IPython.core.display.HTML object>"
      ]
     },
     "metadata": {},
     "output_type": "display_data"
    },
    {
     "data": {
      "text/html": [
       " View project at <a href='https://wandb.ai/kirigiri_suzumiya/Avalanche' target=\"_blank\">https://wandb.ai/kirigiri_suzumiya/Avalanche</a>"
      ],
      "text/plain": [
       "<IPython.core.display.HTML object>"
      ]
     },
     "metadata": {},
     "output_type": "display_data"
    },
    {
     "data": {
      "text/html": [
       " View run at <a href='https://wandb.ai/kirigiri_suzumiya/Avalanche/runs/pseywfaz' target=\"_blank\">https://wandb.ai/kirigiri_suzumiya/Avalanche/runs/pseywfaz</a>"
      ],
      "text/plain": [
       "<IPython.core.display.HTML object>"
      ]
     },
     "metadata": {},
     "output_type": "display_data"
    }
   ],
   "source": [
    "# DEFINE THE EVALUATION PLUGIN and LOGGERS\n",
    "# The evaluation plugin manages the metrics computation.\n",
    "# It takes as argument a list of metrics, collectes their results and returns\n",
    "# them to the strategy it is attached to.\n",
    "\n",
    "# log to Tensorboard\n",
    "tb_logger = TensorboardLogger(f\"./log/tb_data/{func_name}\")\n",
    "\n",
    "wandb_logger = WandBLogger(run_name=func_name,\n",
    "                           path=f\".\\log\\checkpoint\\{func_name}\",\n",
    "                           dir=f\".\\log\\wandb\\{func_name}\")\n",
    "\n",
    "# log to text file\n",
    "text_logger = TextLogger(open(f'./log/{func_name}.txt', 'a'))\n",
    "\n",
    "# print to stdout\n",
    "interactive_logger = InteractiveLogger()"
   ]
  },
  {
   "cell_type": "code",
   "execution_count": 10,
   "metadata": {},
   "outputs": [],
   "source": [
    "# CREATE THE STRATEGY INSTANCE (LFL)\n",
    "optimizer = optim.RMSprop(model.parameters(),\n",
    "                          lr=learning_rate, \n",
    "                          weight_decay=weight_decay, \n",
    "                          momentum=momentum, \n",
    "                          foreach=True)\n",
    "\n",
    "eval_plugin = EvaluationPlugin(\n",
    "    loss_metrics(minibatch=True, epoch=True, experience=True, stream=True),\n",
    "    timing_metrics(epoch=True, epoch_running=True),\n",
    "    cpu_usage_metrics(experience=True),\n",
    "    disk_usage_metrics(minibatch=True, epoch=True, experience=True, stream=True),\n",
    "    gpu_usage_metrics(gpu_id=0, minibatch=True, epoch=True, experience=True, stream=True),\n",
    "    loggers=[interactive_logger, text_logger, tb_logger, wandb_logger]\n",
    ")"
   ]
  },
  {
   "cell_type": "code",
   "execution_count": 11,
   "metadata": {},
   "outputs": [],
   "source": [
    "from utils.util import SGLFL\n",
    "cl_strategy = SGLFL(\n",
    "    model=model, \n",
    "    optimizer=optimizer,\n",
    "    criterion=CrossEntropyLoss(), \n",
    "    lambda_e=0.005,\n",
    "    train_mb_size=batch_size, \n",
    "    train_epochs=epochs,\n",
    "    device=\"cuda:0\",\n",
    "    eval_mb_size=batch_size,\n",
    "    evaluator=eval_plugin)\n",
    "\n"
   ]
  },
  {
   "cell_type": "code",
   "execution_count": 12,
   "metadata": {},
   "outputs": [
    {
     "name": "stdout",
     "output_type": "stream",
     "text": [
      "Starting experiment...\n",
      "-- >> Start of training phase << --\n",
      "100%|██████████| 7/7 [05:17<00:00, 45.37s/it]\n",
      "Epoch 0 ended.\n",
      "\tDiskUsage_Epoch/train_phase/train_stream = 53902.5674\n",
      "\tDiskUsage_MB/train_phase/train_stream = 53902.5674\n",
      "\tLoss_Epoch/train_phase/train_stream = 1.1221\n",
      "\tLoss_MB/train_phase/train_stream = 0.9843\n",
      "\tMaxGPU0Usage_Epoch/train_phase/train_stream = 100.0000\n",
      "\tMaxGPU0Usage_MB/train_phase/train_stream = 100.0000\n",
      "\tRunningTime_Epoch/train_phase/train_stream = 8.8557\n",
      "\tTime_Epoch/train_phase/train_stream = 317.5070\n",
      "-- >> End of training phase << --\n",
      "Training completed\n",
      "Computing accuracy on the whole test set\n",
      "-- >> Start of eval phase << --\n",
      "-- Starting eval on experience 0 from test stream --\n",
      "100%|██████████| 7/7 [01:01<00:00,  8.80s/it]\n",
      "> Eval on experience 0 from test stream ended.\n",
      "\tCPUUsage_Exp/eval_phase/test_stream/Exp000 = 42.5514\n",
      "\tDiskUsage_Exp/eval_phase/test_stream/Exp000 = 53903.1611\n",
      "\tLoss_Exp/eval_phase/test_stream/Exp000 = 1.2879\n",
      "\tMaxGPU0Usage_Experience/eval_phase/test_stream/Exp000 = 100.0000\n",
      "-- >> End of eval phase << --\n",
      "\tDiskUsage_Stream/eval_phase/test_stream = 53903.1611\n",
      "\tLoss_Stream/eval_phase/test_stream = 1.2879\n",
      "\tMaxGPU0Usage_Stream/eval_phase/test_stream = 100.0000\n",
      "-- >> Start of training phase << --\n",
      "100%|██████████| 7/7 [07:17<00:00, 62.48s/it]\n",
      "Epoch 0 ended.\n",
      "\tDiskUsage_Epoch/train_phase/train_stream = 53909.4805\n",
      "\tDiskUsage_MB/train_phase/train_stream = 53909.4805\n",
      "\tLoss_Epoch/train_phase/train_stream = 1.1233\n",
      "\tLoss_MB/train_phase/train_stream = 0.9547\n",
      "\tMaxGPU0Usage_Epoch/train_phase/train_stream = 100.0000\n",
      "\tMaxGPU0Usage_MB/train_phase/train_stream = 100.0000\n",
      "\tRunningTime_Epoch/train_phase/train_stream = 10.4759\n",
      "\tTime_Epoch/train_phase/train_stream = 437.3019\n",
      "-- >> End of training phase << --\n",
      "Training completed\n",
      "Computing accuracy on the whole test set\n",
      "-- >> Start of eval phase << --\n",
      "-- Starting eval on experience 1 from test stream --\n",
      "100%|██████████| 7/7 [01:12<00:00, 10.32s/it]\n",
      "> Eval on experience 1 from test stream ended.\n",
      "\tCPUUsage_Exp/eval_phase/test_stream/Exp001 = 38.5861\n",
      "\tDiskUsage_Exp/eval_phase/test_stream/Exp001 = 53910.0742\n",
      "\tLoss_Exp/eval_phase/test_stream/Exp001 = 0.7996\n",
      "\tMaxGPU0Usage_Experience/eval_phase/test_stream/Exp001 = 100.0000\n",
      "-- >> End of eval phase << --\n",
      "\tDiskUsage_Stream/eval_phase/test_stream = 53910.0742\n",
      "\tLoss_Stream/eval_phase/test_stream = 0.7996\n",
      "\tMaxGPU0Usage_Stream/eval_phase/test_stream = 100.0000\n",
      "-- >> Start of training phase << --\n",
      "100%|██████████| 7/7 [07:19<00:00, 62.77s/it]\n",
      "Epoch 0 ended.\n",
      "\tDiskUsage_Epoch/train_phase/train_stream = 53912.3936\n",
      "\tDiskUsage_MB/train_phase/train_stream = 53912.3936\n",
      "\tLoss_Epoch/train_phase/train_stream = 0.5969\n",
      "\tLoss_MB/train_phase/train_stream = 0.6591\n",
      "\tMaxGPU0Usage_Epoch/train_phase/train_stream = 100.0000\n",
      "\tMaxGPU0Usage_MB/train_phase/train_stream = 100.0000\n",
      "\tRunningTime_Epoch/train_phase/train_stream = 10.5984\n",
      "\tTime_Epoch/train_phase/train_stream = 439.2956\n",
      "-- >> End of training phase << --\n",
      "Training completed\n",
      "Computing accuracy on the whole test set\n",
      "-- >> Start of eval phase << --\n",
      "-- Starting eval on experience 2 from test stream --\n",
      "100%|██████████| 7/7 [01:12<00:00, 10.38s/it]\n",
      "> Eval on experience 2 from test stream ended.\n",
      "\tCPUUsage_Exp/eval_phase/test_stream/Exp002 = 41.0798\n",
      "\tDiskUsage_Exp/eval_phase/test_stream/Exp002 = 53912.9873\n",
      "\tLoss_Exp/eval_phase/test_stream/Exp002 = 0.6652\n",
      "\tMaxGPU0Usage_Experience/eval_phase/test_stream/Exp002 = 100.0000\n",
      "-- >> End of eval phase << --\n",
      "\tDiskUsage_Stream/eval_phase/test_stream = 53912.9873\n",
      "\tLoss_Stream/eval_phase/test_stream = 0.6652\n",
      "\tMaxGPU0Usage_Stream/eval_phase/test_stream = 100.0000\n",
      "-- >> Start of training phase << --\n",
      "100%|██████████| 7/7 [07:25<00:00, 63.71s/it]\n",
      "Epoch 0 ended.\n",
      "\tDiskUsage_Epoch/train_phase/train_stream = 53915.3066\n",
      "\tDiskUsage_MB/train_phase/train_stream = 53915.3066\n",
      "\tLoss_Epoch/train_phase/train_stream = 0.5324\n",
      "\tLoss_MB/train_phase/train_stream = 0.4071\n",
      "\tMaxGPU0Usage_Epoch/train_phase/train_stream = 100.0000\n",
      "\tMaxGPU0Usage_MB/train_phase/train_stream = 100.0000\n",
      "\tRunningTime_Epoch/train_phase/train_stream = 10.5792\n",
      "\tTime_Epoch/train_phase/train_stream = 445.8703\n",
      "-- >> End of training phase << --\n",
      "Training completed\n",
      "Computing accuracy on the whole test set\n",
      "-- >> Start of eval phase << --\n",
      "-- Starting eval on experience 3 from test stream --\n",
      "100%|██████████| 7/7 [01:09<00:00,  9.92s/it]\n",
      "> Eval on experience 3 from test stream ended.\n",
      "\tCPUUsage_Exp/eval_phase/test_stream/Exp003 = 35.5085\n",
      "\tDiskUsage_Exp/eval_phase/test_stream/Exp003 = 53915.9004\n",
      "\tLoss_Exp/eval_phase/test_stream/Exp003 = 0.4618\n",
      "\tMaxGPU0Usage_Experience/eval_phase/test_stream/Exp003 = 100.0000\n",
      "-- >> End of eval phase << --\n",
      "\tDiskUsage_Stream/eval_phase/test_stream = 53915.9004\n",
      "\tLoss_Stream/eval_phase/test_stream = 0.4618\n",
      "\tMaxGPU0Usage_Stream/eval_phase/test_stream = 100.0000\n",
      "-- >> Start of training phase << --\n",
      "100%|██████████| 7/7 [07:28<00:00, 64.07s/it]\n",
      "Epoch 0 ended.\n",
      "\tDiskUsage_Epoch/train_phase/train_stream = 53918.2197\n",
      "\tDiskUsage_MB/train_phase/train_stream = 53918.2197\n",
      "\tLoss_Epoch/train_phase/train_stream = 0.8148\n",
      "\tLoss_MB/train_phase/train_stream = 0.7127\n",
      "\tMaxGPU0Usage_Epoch/train_phase/train_stream = 100.0000\n",
      "\tMaxGPU0Usage_MB/train_phase/train_stream = 100.0000\n",
      "\tRunningTime_Epoch/train_phase/train_stream = 10.9544\n",
      "\tTime_Epoch/train_phase/train_stream = 448.3910\n",
      "-- >> End of training phase << --\n",
      "Training completed\n",
      "Computing accuracy on the whole test set\n",
      "-- >> Start of eval phase << --\n",
      "-- Starting eval on experience 4 from test stream --\n",
      "100%|██████████| 7/7 [01:02<00:00,  8.90s/it]\n",
      "> Eval on experience 4 from test stream ended.\n",
      "\tCPUUsage_Exp/eval_phase/test_stream/Exp004 = 47.0854\n",
      "\tDiskUsage_Exp/eval_phase/test_stream/Exp004 = 53918.8135\n",
      "\tLoss_Exp/eval_phase/test_stream/Exp004 = 0.5163\n",
      "\tMaxGPU0Usage_Experience/eval_phase/test_stream/Exp004 = 100.0000\n",
      "-- >> End of eval phase << --\n",
      "\tDiskUsage_Stream/eval_phase/test_stream = 53918.8135\n",
      "\tLoss_Stream/eval_phase/test_stream = 0.5163\n",
      "\tMaxGPU0Usage_Stream/eval_phase/test_stream = 100.0000\n"
     ]
    }
   ],
   "source": [
    "# TRAINING LOOP\n",
    "print('Starting experiment...')\n",
    "results = []\n",
    "for i, experience in enumerate(bm.train_stream):\n",
    "# if True:\n",
    "    # print(\"Start of experience: \", experience.current_experience)\n",
    "    # print(\"Current Classes: \", experience.classes_in_this_experience)\n",
    "\n",
    "    # train returns a dictionary which contains all the metric values\n",
    "    res = cl_strategy.train(experience)\n",
    "    print('Training completed')\n",
    "\n",
    "    print('Computing accuracy on the whole test set')\n",
    "    # test also returns a dictionary which contains all the metric values\n",
    "    results.append(cl_strategy.eval(bm.test_stream[i]))"
   ]
  },
  {
   "cell_type": "code",
   "execution_count": 13,
   "metadata": {},
   "outputs": [],
   "source": [
    "import pickle\n",
    "pickle.dump(results,open(f\"./log/eval/{func_name}.pkl\",\"wb\"))"
   ]
  },
  {
   "cell_type": "markdown",
   "metadata": {},
   "source": [
    "## Train using SI"
   ]
  },
  {
   "cell_type": "code",
   "execution_count": 7,
   "metadata": {},
   "outputs": [],
   "source": [
    "func_name = \"SI\""
   ]
  },
  {
   "cell_type": "code",
   "execution_count": 8,
   "metadata": {},
   "outputs": [],
   "source": [
    "model = UNet(n_channels=3, n_classes=4)"
   ]
  },
  {
   "cell_type": "code",
   "execution_count": 9,
   "metadata": {},
   "outputs": [
    {
     "name": "stderr",
     "output_type": "stream",
     "text": [
      "ERROR:wandb.jupyter:Failed to detect the name of this notebook, you can set it manually with the WANDB_NOTEBOOK_NAME environment variable to enable code saving.\n",
      "\u001b[34m\u001b[1mwandb\u001b[0m: Currently logged in as: \u001b[33mboyifan1\u001b[0m (\u001b[33mkirigiri_suzumiya\u001b[0m). Use \u001b[1m`wandb login --relogin`\u001b[0m to force relogin\n",
      "\u001b[34m\u001b[1mwandb\u001b[0m: \u001b[33mWARNING\u001b[0m Path .\\log\\wandb\\SI\\wandb\\ wasn't writable, using system temp directory.\n"
     ]
    },
    {
     "data": {
      "text/html": [
       "Tracking run with wandb version 0.16.6"
      ],
      "text/plain": [
       "<IPython.core.display.HTML object>"
      ]
     },
     "metadata": {},
     "output_type": "display_data"
    },
    {
     "data": {
      "text/html": [
       "Run data is saved locally in <code>C:\\Users\\boyif\\AppData\\Local\\Temp\\wandb\\run-20240501_150818-7j864yyp</code>"
      ],
      "text/plain": [
       "<IPython.core.display.HTML object>"
      ]
     },
     "metadata": {},
     "output_type": "display_data"
    },
    {
     "data": {
      "text/html": [
       "Syncing run <strong><a href='https://wandb.ai/kirigiri_suzumiya/Avalanche/runs/7j864yyp' target=\"_blank\">SI</a></strong> to <a href='https://wandb.ai/kirigiri_suzumiya/Avalanche' target=\"_blank\">Weights & Biases</a> (<a href='https://wandb.me/run' target=\"_blank\">docs</a>)<br/>"
      ],
      "text/plain": [
       "<IPython.core.display.HTML object>"
      ]
     },
     "metadata": {},
     "output_type": "display_data"
    },
    {
     "data": {
      "text/html": [
       " View project at <a href='https://wandb.ai/kirigiri_suzumiya/Avalanche' target=\"_blank\">https://wandb.ai/kirigiri_suzumiya/Avalanche</a>"
      ],
      "text/plain": [
       "<IPython.core.display.HTML object>"
      ]
     },
     "metadata": {},
     "output_type": "display_data"
    },
    {
     "data": {
      "text/html": [
       " View run at <a href='https://wandb.ai/kirigiri_suzumiya/Avalanche/runs/7j864yyp' target=\"_blank\">https://wandb.ai/kirigiri_suzumiya/Avalanche/runs/7j864yyp</a>"
      ],
      "text/plain": [
       "<IPython.core.display.HTML object>"
      ]
     },
     "metadata": {},
     "output_type": "display_data"
    }
   ],
   "source": [
    "# DEFINE THE EVALUATION PLUGIN and LOGGERS\n",
    "# The evaluation plugin manages the metrics computation.\n",
    "# It takes as argument a list of metrics, collectes their results and returns\n",
    "# them to the strategy it is attached to.\n",
    "\n",
    "# log to Tensorboard\n",
    "tb_logger = TensorboardLogger(f\"./log/tb_data/{func_name}\")\n",
    "\n",
    "wandb_logger = WandBLogger(run_name=func_name,\n",
    "                           path=f\".\\log\\checkpoint\\{func_name}\",\n",
    "                           dir=f\".\\log\\wandb\\{func_name}\")\n",
    "\n",
    "# log to text file\n",
    "text_logger = TextLogger(open(f'./log/{func_name}.txt', 'a'))\n",
    "\n",
    "# print to stdout\n",
    "interactive_logger = InteractiveLogger()"
   ]
  },
  {
   "cell_type": "code",
   "execution_count": 10,
   "metadata": {},
   "outputs": [],
   "source": [
    "# CREATE THE STRATEGY INSTANCE (SI)\n",
    "optimizer = optim.RMSprop(model.parameters(),\n",
    "                          lr=learning_rate, \n",
    "                          weight_decay=weight_decay, \n",
    "                          momentum=momentum, \n",
    "                          foreach=True)\n",
    "\n",
    "eval_plugin = EvaluationPlugin(\n",
    "    loss_metrics(minibatch=True, epoch=True, experience=True, stream=True),\n",
    "    timing_metrics(epoch=True, epoch_running=True),\n",
    "    cpu_usage_metrics(experience=True),\n",
    "    disk_usage_metrics(minibatch=True, epoch=True, experience=True, stream=True),\n",
    "    gpu_usage_metrics(gpu_id=0, minibatch=True, epoch=True, experience=True, stream=True),\n",
    "    loggers=[interactive_logger, text_logger, tb_logger, wandb_logger]\n",
    ")"
   ]
  },
  {
   "cell_type": "code",
   "execution_count": 11,
   "metadata": {},
   "outputs": [],
   "source": [
    "from avalanche.training import SynapticIntelligence\n",
    "cl_strategy = SynapticIntelligence(\n",
    "    model=model, \n",
    "    optimizer=optimizer,\n",
    "    criterion=CrossEntropyLoss(), \n",
    "    si_lambda=0.005,\n",
    "    train_mb_size=batch_size, \n",
    "    train_epochs=epochs,\n",
    "    device=\"cuda:0\",\n",
    "    eval_mb_size=batch_size,\n",
    "    evaluator=eval_plugin)"
   ]
  },
  {
   "cell_type": "code",
   "execution_count": 12,
   "metadata": {},
   "outputs": [
    {
     "name": "stdout",
     "output_type": "stream",
     "text": [
      "Starting experiment...\n",
      "-- >> Start of training phase << --\n",
      "100%|██████████| 7/7 [07:18<00:00, 62.70s/it]\n",
      "Epoch 0 ended.\n",
      "\tDiskUsage_Epoch/train_phase/train_stream = 53930.7344\n",
      "\tDiskUsage_MB/train_phase/train_stream = 53930.7344\n",
      "\tLoss_Epoch/train_phase/train_stream = 1.1688\n",
      "\tLoss_MB/train_phase/train_stream = 1.0098\n",
      "\tMaxGPU0Usage_Epoch/train_phase/train_stream = 100.0000\n",
      "\tMaxGPU0Usage_MB/train_phase/train_stream = 100.0000\n",
      "\tRunningTime_Epoch/train_phase/train_stream = 10.2833\n",
      "\tTime_Epoch/train_phase/train_stream = 438.7538\n",
      "-- >> End of training phase << --\n",
      "Training completed\n",
      "Computing accuracy on the whole test set\n",
      "-- >> Start of eval phase << --\n",
      "-- Starting eval on experience 0 from test stream --\n",
      "100%|██████████| 7/7 [01:12<00:00, 10.43s/it]\n",
      "> Eval on experience 0 from test stream ended.\n",
      "\tCPUUsage_Exp/eval_phase/test_stream/Exp000 = 43.1977\n",
      "\tDiskUsage_Exp/eval_phase/test_stream/Exp000 = 53931.3281\n",
      "\tLoss_Exp/eval_phase/test_stream/Exp000 = 1.2170\n",
      "\tMaxGPU0Usage_Experience/eval_phase/test_stream/Exp000 = 100.0000\n",
      "-- >> End of eval phase << --\n",
      "\tDiskUsage_Stream/eval_phase/test_stream = 53931.3281\n",
      "\tLoss_Stream/eval_phase/test_stream = 1.2170\n",
      "\tMaxGPU0Usage_Stream/eval_phase/test_stream = 100.0000\n",
      "-- >> Start of training phase << --\n",
      "100%|██████████| 7/7 [07:01<00:00, 60.17s/it]\n",
      "Epoch 0 ended.\n",
      "\tDiskUsage_Epoch/train_phase/train_stream = 53933.6475\n",
      "\tDiskUsage_MB/train_phase/train_stream = 53933.6475\n",
      "\tLoss_Epoch/train_phase/train_stream = 0.8849\n",
      "\tLoss_MB/train_phase/train_stream = 0.8262\n",
      "\tMaxGPU0Usage_Epoch/train_phase/train_stream = 100.0000\n",
      "\tMaxGPU0Usage_MB/train_phase/train_stream = 100.0000\n",
      "\tRunningTime_Epoch/train_phase/train_stream = 10.0477\n",
      "\tTime_Epoch/train_phase/train_stream = 421.0685\n",
      "-- >> End of training phase << --\n",
      "Training completed\n",
      "Computing accuracy on the whole test set\n",
      "-- >> Start of eval phase << --\n",
      "-- Starting eval on experience 1 from test stream --\n",
      "100%|██████████| 7/7 [01:06<00:00,  9.48s/it]\n",
      "> Eval on experience 1 from test stream ended.\n",
      "\tCPUUsage_Exp/eval_phase/test_stream/Exp001 = 43.8806\n",
      "\tDiskUsage_Exp/eval_phase/test_stream/Exp001 = 53934.2412\n",
      "\tLoss_Exp/eval_phase/test_stream/Exp001 = 1.2648\n",
      "\tMaxGPU0Usage_Experience/eval_phase/test_stream/Exp001 = 100.0000\n",
      "-- >> End of eval phase << --\n",
      "\tDiskUsage_Stream/eval_phase/test_stream = 53934.2412\n",
      "\tLoss_Stream/eval_phase/test_stream = 1.2648\n",
      "\tMaxGPU0Usage_Stream/eval_phase/test_stream = 100.0000\n",
      "-- >> Start of training phase << --\n",
      "100%|██████████| 7/7 [07:18<00:00, 62.62s/it]\n",
      "Epoch 0 ended.\n",
      "\tDiskUsage_Epoch/train_phase/train_stream = 53936.5605\n",
      "\tDiskUsage_MB/train_phase/train_stream = 53936.5605\n",
      "\tLoss_Epoch/train_phase/train_stream = 0.6826\n",
      "\tLoss_MB/train_phase/train_stream = 0.6086\n",
      "\tMaxGPU0Usage_Epoch/train_phase/train_stream = 100.0000\n",
      "\tMaxGPU0Usage_MB/train_phase/train_stream = 100.0000\n",
      "\tRunningTime_Epoch/train_phase/train_stream = 9.0007\n",
      "\tTime_Epoch/train_phase/train_stream = 438.2312\n",
      "-- >> End of training phase << --\n",
      "Training completed\n",
      "Computing accuracy on the whole test set\n",
      "-- >> Start of eval phase << --\n",
      "-- Starting eval on experience 2 from test stream --\n",
      "100%|██████████| 7/7 [01:18<00:00, 11.16s/it]\n",
      "> Eval on experience 2 from test stream ended.\n",
      "\tCPUUsage_Exp/eval_phase/test_stream/Exp002 = 39.4984\n",
      "\tDiskUsage_Exp/eval_phase/test_stream/Exp002 = 53937.1543\n",
      "\tLoss_Exp/eval_phase/test_stream/Exp002 = 0.5530\n",
      "\tMaxGPU0Usage_Experience/eval_phase/test_stream/Exp002 = 100.0000\n",
      "-- >> End of eval phase << --\n",
      "\tDiskUsage_Stream/eval_phase/test_stream = 53937.1543\n",
      "\tLoss_Stream/eval_phase/test_stream = 0.5530\n",
      "\tMaxGPU0Usage_Stream/eval_phase/test_stream = 100.0000\n",
      "-- >> Start of training phase << --\n",
      "100%|██████████| 7/7 [07:34<00:00, 64.89s/it]\n",
      "Epoch 0 ended.\n",
      "\tDiskUsage_Epoch/train_phase/train_stream = 53939.4736\n",
      "\tDiskUsage_MB/train_phase/train_stream = 53939.4736\n",
      "\tLoss_Epoch/train_phase/train_stream = 0.5517\n",
      "\tLoss_MB/train_phase/train_stream = 0.4959\n",
      "\tMaxGPU0Usage_Epoch/train_phase/train_stream = 100.0000\n",
      "\tMaxGPU0Usage_MB/train_phase/train_stream = 100.0000\n",
      "\tRunningTime_Epoch/train_phase/train_stream = 13.3182\n",
      "\tTime_Epoch/train_phase/train_stream = 454.0975\n",
      "-- >> End of training phase << --\n",
      "Training completed\n",
      "Computing accuracy on the whole test set\n",
      "-- >> Start of eval phase << --\n",
      "-- Starting eval on experience 3 from test stream --\n",
      "100%|██████████| 7/7 [01:14<00:00, 10.71s/it]\n",
      "> Eval on experience 3 from test stream ended.\n",
      "\tCPUUsage_Exp/eval_phase/test_stream/Exp003 = 40.7810\n",
      "\tDiskUsage_Exp/eval_phase/test_stream/Exp003 = 53940.0674\n",
      "\tLoss_Exp/eval_phase/test_stream/Exp003 = 1.5851\n",
      "\tMaxGPU0Usage_Experience/eval_phase/test_stream/Exp003 = 100.0000\n",
      "-- >> End of eval phase << --\n",
      "\tDiskUsage_Stream/eval_phase/test_stream = 53940.0674\n",
      "\tLoss_Stream/eval_phase/test_stream = 1.5851\n",
      "\tMaxGPU0Usage_Stream/eval_phase/test_stream = 100.0000\n",
      "-- >> Start of training phase << --\n",
      "100%|██████████| 7/7 [06:54<00:00, 59.20s/it]\n",
      "Epoch 0 ended.\n",
      "\tDiskUsage_Epoch/train_phase/train_stream = 53942.3867\n",
      "\tDiskUsage_MB/train_phase/train_stream = 53942.3867\n",
      "\tLoss_Epoch/train_phase/train_stream = 0.4573\n",
      "\tLoss_MB/train_phase/train_stream = 0.4098\n",
      "\tMaxGPU0Usage_Epoch/train_phase/train_stream = 100.0000\n",
      "\tMaxGPU0Usage_MB/train_phase/train_stream = 100.0000\n",
      "\tRunningTime_Epoch/train_phase/train_stream = 9.4721\n",
      "\tTime_Epoch/train_phase/train_stream = 414.2994\n",
      "-- >> End of training phase << --\n",
      "Training completed\n",
      "Computing accuracy on the whole test set\n",
      "-- >> Start of eval phase << --\n",
      "-- Starting eval on experience 4 from test stream --\n",
      "100%|██████████| 7/7 [01:11<00:00, 10.17s/it]\n",
      "> Eval on experience 4 from test stream ended.\n",
      "\tCPUUsage_Exp/eval_phase/test_stream/Exp004 = 43.4802\n",
      "\tDiskUsage_Exp/eval_phase/test_stream/Exp004 = 53942.9805\n",
      "\tLoss_Exp/eval_phase/test_stream/Exp004 = 5.2876\n",
      "\tMaxGPU0Usage_Experience/eval_phase/test_stream/Exp004 = 100.0000\n",
      "-- >> End of eval phase << --\n",
      "\tDiskUsage_Stream/eval_phase/test_stream = 53942.9805\n",
      "\tLoss_Stream/eval_phase/test_stream = 5.2876\n",
      "\tMaxGPU0Usage_Stream/eval_phase/test_stream = 100.0000\n"
     ]
    }
   ],
   "source": [
    "# TRAINING LOOP\n",
    "print('Starting experiment...')\n",
    "results = []\n",
    "for i, experience in enumerate(bm.train_stream):\n",
    "# if True:\n",
    "    # print(\"Start of experience: \", experience.current_experience)\n",
    "    # print(\"Current Classes: \", experience.classes_in_this_experience)\n",
    "\n",
    "    # train returns a dictionary which contains all the metric values\n",
    "    res = cl_strategy.train(experience)\n",
    "    print('Training completed')\n",
    "\n",
    "    print('Computing accuracy on the whole test set')\n",
    "    # test also returns a dictionary which contains all the metric values\n",
    "    results.append(cl_strategy.eval(bm.test_stream[i]))"
   ]
  },
  {
   "cell_type": "code",
   "execution_count": 13,
   "metadata": {},
   "outputs": [],
   "source": [
    "import pickle\n",
    "pickle.dump(results,open(f\"./log/eval/{func_name}.pkl\",\"wb\"))"
   ]
  },
  {
   "cell_type": "markdown",
   "metadata": {},
   "source": [
    "## Train using GEM"
   ]
  },
  {
   "cell_type": "code",
   "execution_count": 7,
   "metadata": {},
   "outputs": [],
   "source": [
    "func_name = \"GEM\""
   ]
  },
  {
   "cell_type": "code",
   "execution_count": 8,
   "metadata": {},
   "outputs": [],
   "source": [
    "model = UNet(n_channels=3, n_classes=4)"
   ]
  },
  {
   "cell_type": "code",
   "execution_count": 9,
   "metadata": {},
   "outputs": [
    {
     "name": "stderr",
     "output_type": "stream",
     "text": [
      "ERROR:wandb.jupyter:Failed to detect the name of this notebook, you can set it manually with the WANDB_NOTEBOOK_NAME environment variable to enable code saving.\n",
      "\u001b[34m\u001b[1mwandb\u001b[0m: Currently logged in as: \u001b[33mboyifan1\u001b[0m (\u001b[33mkirigiri_suzumiya\u001b[0m). Use \u001b[1m`wandb login --relogin`\u001b[0m to force relogin\n",
      "\u001b[34m\u001b[1mwandb\u001b[0m: \u001b[33mWARNING\u001b[0m Path .\\log\\wandb\\GEM\\wandb\\ wasn't writable, using system temp directory.\n"
     ]
    },
    {
     "data": {
      "text/html": [
       "Tracking run with wandb version 0.16.6"
      ],
      "text/plain": [
       "<IPython.core.display.HTML object>"
      ]
     },
     "metadata": {},
     "output_type": "display_data"
    },
    {
     "data": {
      "text/html": [
       "Run data is saved locally in <code>C:\\Users\\boyif\\AppData\\Local\\Temp\\wandb\\run-20240501_160801-g58umlqw</code>"
      ],
      "text/plain": [
       "<IPython.core.display.HTML object>"
      ]
     },
     "metadata": {},
     "output_type": "display_data"
    },
    {
     "data": {
      "text/html": [
       "Syncing run <strong><a href='https://wandb.ai/kirigiri_suzumiya/Avalanche/runs/g58umlqw' target=\"_blank\">GEM</a></strong> to <a href='https://wandb.ai/kirigiri_suzumiya/Avalanche' target=\"_blank\">Weights & Biases</a> (<a href='https://wandb.me/run' target=\"_blank\">docs</a>)<br/>"
      ],
      "text/plain": [
       "<IPython.core.display.HTML object>"
      ]
     },
     "metadata": {},
     "output_type": "display_data"
    },
    {
     "data": {
      "text/html": [
       " View project at <a href='https://wandb.ai/kirigiri_suzumiya/Avalanche' target=\"_blank\">https://wandb.ai/kirigiri_suzumiya/Avalanche</a>"
      ],
      "text/plain": [
       "<IPython.core.display.HTML object>"
      ]
     },
     "metadata": {},
     "output_type": "display_data"
    },
    {
     "data": {
      "text/html": [
       " View run at <a href='https://wandb.ai/kirigiri_suzumiya/Avalanche/runs/g58umlqw' target=\"_blank\">https://wandb.ai/kirigiri_suzumiya/Avalanche/runs/g58umlqw</a>"
      ],
      "text/plain": [
       "<IPython.core.display.HTML object>"
      ]
     },
     "metadata": {},
     "output_type": "display_data"
    }
   ],
   "source": [
    "# DEFINE THE EVALUATION PLUGIN and LOGGERS\n",
    "# The evaluation plugin manages the metrics computation.\n",
    "# It takes as argument a list of metrics, collectes their results and returns\n",
    "# them to the strategy it is attached to.\n",
    "\n",
    "# log to Tensorboard\n",
    "tb_logger = TensorboardLogger(f\"./log/tb_data/{func_name}\")\n",
    "\n",
    "wandb_logger = WandBLogger(run_name=func_name,\n",
    "                           path=f\".\\log\\checkpoint\\{func_name}\",\n",
    "                           dir=f\".\\log\\wandb\\{func_name}\")\n",
    "\n",
    "# log to text file\n",
    "text_logger = TextLogger(open(f'./log/{func_name}.txt', 'a'))\n",
    "\n",
    "# print to stdout\n",
    "interactive_logger = InteractiveLogger()"
   ]
  },
  {
   "cell_type": "code",
   "execution_count": 10,
   "metadata": {},
   "outputs": [],
   "source": [
    "# CREATE THE STRATEGY INSTANCE (GEM)\n",
    "optimizer = optim.RMSprop(model.parameters(),\n",
    "                          lr=learning_rate, \n",
    "                          weight_decay=weight_decay, \n",
    "                          momentum=momentum, \n",
    "                          foreach=True)\n",
    "\n",
    "eval_plugin = EvaluationPlugin(\n",
    "    loss_metrics(minibatch=True, epoch=True, experience=True, stream=True),\n",
    "    timing_metrics(epoch=True, epoch_running=True),\n",
    "    cpu_usage_metrics(experience=True),\n",
    "    disk_usage_metrics(minibatch=True, epoch=True, experience=True, stream=True),\n",
    "    gpu_usage_metrics(gpu_id=0, minibatch=True, epoch=True, experience=True, stream=True),\n",
    "    loggers=[interactive_logger, text_logger, tb_logger, wandb_logger]\n",
    ")\n"
   ]
  },
  {
   "cell_type": "code",
   "execution_count": 11,
   "metadata": {},
   "outputs": [],
   "source": [
    "from avalanche.training import GEM\n",
    "cl_strategy = GEM(\n",
    "    model=model, \n",
    "    optimizer=optimizer,\n",
    "    criterion=CrossEntropyLoss(), \n",
    "    patterns_per_exp=10,\n",
    "    train_mb_size=batch_size, \n",
    "    train_epochs=epochs,\n",
    "    device=\"cuda:0\",\n",
    "    eval_mb_size=batch_size,\n",
    "    evaluator=eval_plugin)"
   ]
  },
  {
   "cell_type": "code",
   "execution_count": 12,
   "metadata": {},
   "outputs": [
    {
     "name": "stdout",
     "output_type": "stream",
     "text": [
      "Starting experiment...\n",
      "-- >> Start of training phase << --\n",
      "100%|██████████| 7/7 [05:58<00:00, 51.18s/it]\n",
      "Epoch 0 ended.\n",
      "\tDiskUsage_Epoch/train_phase/train_stream = 53956.3965\n",
      "\tDiskUsage_MB/train_phase/train_stream = 53956.3965\n",
      "\tLoss_Epoch/train_phase/train_stream = 1.1734\n",
      "\tLoss_MB/train_phase/train_stream = 1.0165\n",
      "\tMaxGPU0Usage_Epoch/train_phase/train_stream = 100.0000\n",
      "\tMaxGPU0Usage_MB/train_phase/train_stream = 100.0000\n",
      "\tRunningTime_Epoch/train_phase/train_stream = 10.2479\n",
      "\tTime_Epoch/train_phase/train_stream = 358.1660\n",
      "-- >> End of training phase << --\n",
      "Training completed\n",
      "Computing accuracy on the whole test set\n",
      "-- >> Start of eval phase << --\n",
      "-- Starting eval on experience 0 from test stream --\n",
      "100%|██████████| 7/7 [01:06<00:00,  9.52s/it]\n",
      "> Eval on experience 0 from test stream ended.\n",
      "\tCPUUsage_Exp/eval_phase/test_stream/Exp000 = 45.1531\n",
      "\tDiskUsage_Exp/eval_phase/test_stream/Exp000 = 53956.9902\n",
      "\tLoss_Exp/eval_phase/test_stream/Exp000 = 1.3576\n",
      "\tMaxGPU0Usage_Experience/eval_phase/test_stream/Exp000 = 100.0000\n",
      "-- >> End of eval phase << --\n",
      "\tDiskUsage_Stream/eval_phase/test_stream = 53956.9902\n",
      "\tLoss_Stream/eval_phase/test_stream = 1.3576\n",
      "\tMaxGPU0Usage_Stream/eval_phase/test_stream = 100.0000\n",
      "-- >> Start of training phase << --\n",
      "100%|██████████| 7/7 [15:08<00:00, 129.78s/it]\n",
      "Epoch 0 ended.\n",
      "\tDiskUsage_Epoch/train_phase/train_stream = 53959.3096\n",
      "\tDiskUsage_MB/train_phase/train_stream = 53959.3096\n",
      "\tLoss_Epoch/train_phase/train_stream = 0.8750\n",
      "\tLoss_MB/train_phase/train_stream = 0.7660\n",
      "\tMaxGPU0Usage_Epoch/train_phase/train_stream = 100.0000\n",
      "\tMaxGPU0Usage_MB/train_phase/train_stream = 100.0000\n",
      "\tRunningTime_Epoch/train_phase/train_stream = 17.9001\n",
      "\tTime_Epoch/train_phase/train_stream = 908.3865\n",
      "-- >> End of training phase << --\n",
      "Training completed\n",
      "Computing accuracy on the whole test set\n",
      "-- >> Start of eval phase << --\n",
      "-- Starting eval on experience 1 from test stream --\n",
      "100%|██████████| 7/7 [01:20<00:00, 11.56s/it]\n",
      "> Eval on experience 1 from test stream ended.\n",
      "\tCPUUsage_Exp/eval_phase/test_stream/Exp001 = 42.2387\n",
      "\tDiskUsage_Exp/eval_phase/test_stream/Exp001 = 53959.9033\n",
      "\tLoss_Exp/eval_phase/test_stream/Exp001 = 0.8342\n",
      "\tMaxGPU0Usage_Experience/eval_phase/test_stream/Exp001 = 100.0000\n",
      "-- >> End of eval phase << --\n",
      "\tDiskUsage_Stream/eval_phase/test_stream = 53959.9033\n",
      "\tLoss_Stream/eval_phase/test_stream = 0.8342\n",
      "\tMaxGPU0Usage_Stream/eval_phase/test_stream = 100.0000\n",
      "-- >> Start of training phase << --\n",
      "100%|██████████| 7/7 [26:20<00:00, 225.79s/it]\n",
      "Epoch 0 ended.\n",
      "\tDiskUsage_Epoch/train_phase/train_stream = 53962.2227\n",
      "\tDiskUsage_MB/train_phase/train_stream = 53962.2227\n",
      "\tLoss_Epoch/train_phase/train_stream = 0.6634\n",
      "\tLoss_MB/train_phase/train_stream = 0.5841\n",
      "\tMaxGPU0Usage_Epoch/train_phase/train_stream = 100.0000\n",
      "\tMaxGPU0Usage_MB/train_phase/train_stream = 100.0000\n",
      "\tRunningTime_Epoch/train_phase/train_stream = 33.5127\n",
      "\tTime_Epoch/train_phase/train_stream = 1580.4658\n",
      "-- >> End of training phase << --\n",
      "Training completed\n",
      "Computing accuracy on the whole test set\n",
      "-- >> Start of eval phase << --\n",
      "-- Starting eval on experience 2 from test stream --\n",
      "100%|██████████| 7/7 [01:10<00:00, 10.14s/it]\n",
      "> Eval on experience 2 from test stream ended.\n",
      "\tCPUUsage_Exp/eval_phase/test_stream/Exp002 = 46.3187\n",
      "\tDiskUsage_Exp/eval_phase/test_stream/Exp002 = 53962.8164\n",
      "\tLoss_Exp/eval_phase/test_stream/Exp002 = 0.4928\n",
      "\tMaxGPU0Usage_Experience/eval_phase/test_stream/Exp002 = 100.0000\n",
      "-- >> End of eval phase << --\n",
      "\tDiskUsage_Stream/eval_phase/test_stream = 53962.8164\n",
      "\tLoss_Stream/eval_phase/test_stream = 0.4928\n",
      "\tMaxGPU0Usage_Stream/eval_phase/test_stream = 100.0000\n",
      "-- >> Start of training phase << --\n",
      "100%|██████████| 7/7 [35:29<00:00, 304.18s/it]\n",
      "Epoch 0 ended.\n",
      "\tDiskUsage_Epoch/train_phase/train_stream = 53965.1357\n",
      "\tDiskUsage_MB/train_phase/train_stream = 53965.1357\n",
      "\tLoss_Epoch/train_phase/train_stream = 0.5280\n",
      "\tLoss_MB/train_phase/train_stream = 0.4770\n",
      "\tMaxGPU0Usage_Epoch/train_phase/train_stream = 100.0000\n",
      "\tMaxGPU0Usage_MB/train_phase/train_stream = 100.0000\n",
      "\tRunningTime_Epoch/train_phase/train_stream = 44.7670\n",
      "\tTime_Epoch/train_phase/train_stream = 2129.1837\n",
      "-- >> End of training phase << --\n",
      "Training completed\n",
      "Computing accuracy on the whole test set\n",
      "-- >> Start of eval phase << --\n",
      "-- Starting eval on experience 3 from test stream --\n",
      "100%|██████████| 7/7 [01:09<00:00,  9.91s/it]\n",
      "> Eval on experience 3 from test stream ended.\n",
      "\tCPUUsage_Exp/eval_phase/test_stream/Exp003 = 44.5803\n",
      "\tDiskUsage_Exp/eval_phase/test_stream/Exp003 = 53965.7295\n",
      "\tLoss_Exp/eval_phase/test_stream/Exp003 = 0.4002\n",
      "\tMaxGPU0Usage_Experience/eval_phase/test_stream/Exp003 = 100.0000\n",
      "-- >> End of eval phase << --\n",
      "\tDiskUsage_Stream/eval_phase/test_stream = 53965.7295\n",
      "\tLoss_Stream/eval_phase/test_stream = 0.4002\n",
      "\tMaxGPU0Usage_Stream/eval_phase/test_stream = 100.0000\n",
      "-- >> Start of training phase << --\n",
      " 14%|█▍        | 1/7 [07:00<42:03, 420.53s/it]"
     ]
    }
   ],
   "source": [
    "# TRAINING LOOP\n",
    "print('Starting experiment...')\n",
    "results = []\n",
    "for i, experience in enumerate(bm.train_stream):\n",
    "# if True:\n",
    "    # print(\"Start of experience: \", experience.current_experience)\n",
    "    # print(\"Current Classes: \", experience.classes_in_this_experience)\n",
    "\n",
    "    # train returns a dictionary which contains all the metric values\n",
    "    res = cl_strategy.train(experience)\n",
    "    print('Training completed')\n",
    "\n",
    "    print('Computing accuracy on the whole test set')\n",
    "    # test also returns a dictionary which contains all the metric values\n",
    "    results.append(cl_strategy.eval(bm.test_stream[i]))"
   ]
  },
  {
   "cell_type": "code",
   "execution_count": null,
   "metadata": {},
   "outputs": [],
   "source": [
    "import pickle\n",
    "pickle.dump(results,open(f\"./log/eval/{func_name}.pkl\",\"wb\"))"
   ]
  }
 ],
 "metadata": {
  "kernelspec": {
   "display_name": "Python 3 (ipykernel)",
   "language": "python",
   "name": "python3"
  },
  "language_info": {
   "codemirror_mode": {
    "name": "ipython",
    "version": 3
   },
   "file_extension": ".py",
   "mimetype": "text/x-python",
   "name": "python",
   "nbconvert_exporter": "python",
   "pygments_lexer": "ipython3",
   "version": "3.8.19"
  }
 },
 "nbformat": 4,
 "nbformat_minor": 4
}
